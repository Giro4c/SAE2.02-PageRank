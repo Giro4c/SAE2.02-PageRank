{
 "cells": [
  {
   "cell_type": "markdown",
   "id": "782d3be5",
   "metadata": {},
   "source": [
    "PARTIE 5 \n",
    "\n",
    "QUESTION 1 :"
   ]
  },
  {
   "cell_type": "markdown",
   "id": "36cc5937",
   "metadata": {},
   "source": [
    "fonction scoreDirect(P):\n",
    "\n",
    "N <- taille de la matrice P\n",
    "r <- vecteur de taille N initialisé à zéro\n",
    "sommes_colonnes <- somme des colonnes de P\n",
    " \n",
    "pour i de 0 à N-1:\n",
    "    pour j de 0 à N-1:\n",
    "        r[i] <- r[i] + P[i][j] / sommes_colonnes[j]\n",
    "    \n",
    "retourner r\n",
    "    \n"
   ]
  },
  {
   "cell_type": "markdown",
   "id": "da7b1f70",
   "metadata": {},
   "source": [
    " QUESTION 2 :"
   ]
  },
  {
   "cell_type": "code",
   "execution_count": 67,
   "id": "801f2778",
   "metadata": {},
   "outputs": [],
   "source": [
    "import numpy as np\n",
    "import random as rd\n",
    "\n",
    "\n",
    "A = np.array([[0.0, 1.0, 1.0, 1.0, 1.0, 1.0, 0.0, 0.0, 0.0, 0.0, 0.0, 0.0, 0.0, 0.0],\n",
    "              [1.0, 0.0, 1.0, 0.0, 0.0, 0.0, 0.0, 0.0, 0.0, 0.0, 0.0, 0.0, 0.0, 0.0],\n",
    "              [1.0, 0.0, 0.0, 1.0, 0.0, 0.0, 0.0, 0.0, 0.0, 0.0, 0.0, 0.0, 0.0, 0.0],\n",
    "              [1.0, 0.0, 0.0, 0.0, 1.0, 0.0, 0.0, 0.0, 0.0, 0.0, 0.0, 0.0, 0.0, 0.0],\n",
    "              [1.0, 1.0, 0.0, 0.0, 0.0, 0.0, 0.0, 0.0, 0.0, 0.0, 0.0, 0.0, 0.0, 0.0],\n",
    "              [0.0, 0.0, 0.0, 0.0, 0.0, 0.0, 1.0, 1.0, 1.0, 0.0, 0.0, 0.0, 0.0, 0.0],\n",
    "              [1.0, 0.0, 0.0, 0.0, 0.0, 0.0, 0.0, 1.0, 0.0, 0.0, 0.0, 0.0, 0.0, 0.0],\n",
    "              [0.0, 0.0, 0.0, 0.0, 0.0, 1.0, 0.0, 0.0, 0.0, 0.0, 0.0, 0.0, 0.0, 0.0],\n",
    "              [0.0, 0.0, 0.0, 0.0, 0.0, 0.0, 0.0, 1.0, 0.0, 1.0, 0.0, 0.0, 0.0, 0.0],\n",
    "              [0.0, 0.0, 0.0, 0.0, 0.0, 1.0, 0.0, 0.0, 0.0, 0.0, 1.0, 1.0, 1.0, 1.0],\n",
    "              [0.0, 0.0, 0.0, 0.0, 0.0, 0.0, 0.0, 0.0, 0.0, 1.0, 0.0, 1.0, 0.0, 0.0],\n",
    "              [0.0, 0.0, 0.0, 0.0, 0.0, 0.0, 0.0, 0.0, 0.0, 1.0, 0.0, 0.0, 1.0, 0.0],\n",
    "              [0.0, 0.0, 0.0, 0.0, 0.0, 0.0, 0.0, 0.0, 0.0, 1.0, 0.0, 0.0, 0.0, 1.0],\n",
    "              [0.0, 0.0, 0.0, 0.0, 0.0, 0.0, 0.0, 0.0, 0.0, 1.0, 1.0, 0.0, 0.0, 0.0]])\n",
    "\n",
    "\n",
    "\n",
    "\n",
    "def ScoreDirect(P):\n",
    "    N = len(P)\n",
    "    r = np.zeros(N)\n",
    "    \n",
    "    colonnes_sum = np.sum(P, axis=0)\n",
    "    \n",
    "    for i in range(N):\n",
    "        for j in range(N):\n",
    "            r[i] += P[i][j] / colonnes_sum[j]\n",
    "    \n",
    "    return r\n"
   ]
  },
  {
   "cell_type": "code",
   "execution_count": 41,
   "id": "5878018b",
   "metadata": {},
   "outputs": [
    {
     "name": "stdout",
     "output_type": "stream",
     "text": [
      "[2.33333333 0.7        0.7        0.7        0.7        2.33333333\n",
      " 0.53333333 0.33333333 0.53333333 2.33333333 0.7        0.7\n",
      " 0.7        0.7       ]\n"
     ]
    }
   ],
   "source": []
  },
  {
   "cell_type": "markdown",
   "id": "1feb41ca",
   "metadata": {},
   "source": [
    "QUESTION 3:"
   ]
  },
  {
   "cell_type": "code",
   "execution_count": 80,
   "id": "f986d807",
   "metadata": {},
   "outputs": [
    {
     "name": "stdout",
     "output_type": "stream",
     "text": [
      "[1.54080766 0.79806571 0.81770293 0.8456749  0.88737267 1.74205632\n",
      " 0.79012622 0.57111655 0.73117235 1.7098381  0.83291055 0.86125203\n",
      " 0.90343929 0.96846472]\n"
     ]
    }
   ],
   "source": [
    "#Nouvelle Algorithme : \n",
    "\n",
    "print (ScoreDirect(A))\n",
    "\n"
   ]
  },
  {
   "cell_type": "code",
   "execution_count": 76,
   "id": "fa21702f",
   "metadata": {},
   "outputs": [
    {
     "name": "stdout",
     "output_type": "stream",
     "text": [
      "(1.0134470077368924, array([0.35146944, 0.18902748, 0.20011619, 0.21170819, 0.21646215,\n",
      "       0.3457837 , 0.20411881, 0.16321893, 0.17495622, 0.46584904,\n",
      "       0.22988187, 0.25177288, 0.2753158 , 0.28545544]))\n"
     ]
    }
   ],
   "source": [
    "#Autre Algorithme :\n",
    "\n",
    "def norme(X):\n",
    "    norm = 0\n",
    "    for i in range(len(X)):\n",
    "        norm = norm + X[i]**2\n",
    "    return np.sqrt(norm)\n",
    "\n",
    "def puissance_iteree(e, M):\n",
    "    Xbis = []\n",
    "    for i in range(len(M)):\n",
    "        Xbis.append(rd.randint(0, 100))\n",
    "    while (True):\n",
    "        prevXbis = Xbis\n",
    "        Xbis = (M.dot(Xbis)) / norme(M.dot(Xbis))\n",
    "        if (norme(Xbis - prevXbis) < e):\n",
    "            break\n",
    "    return norme(M.dot(Xbis)), Xbis\n",
    "\n",
    "\n",
    "def nombreLinks(M, j):\n",
    "    count = 0\n",
    "    for i in range(len(M)):\n",
    "        count = count + M[i][j]\n",
    "    return count;\n",
    "\n",
    "\n",
    "\n",
    "def transitionMatrice(M, a):\n",
    "    P = M\n",
    "    N = len(P)\n",
    "    for i in range(N):\n",
    "        for j in range(N):\n",
    "            if (nombreLinks(M, j) != 0):\n",
    "                P[i][j] = a*M[i][j] + ((1 - a)/N)\n",
    "            else:\n",
    "                P[i][j] = 1/N\n",
    "    return P\n",
    "\n",
    "\n",
    "\n",
    "\n",
    "def pageRankMatrice(M):\n",
    "    Q = M\n",
    "    N = len(Q)\n",
    "    for i in range(N):\n",
    "        for j in range(N):\n",
    "            if (nombreLinks(M, j) != 0):\n",
    "                Q[i][j] = Q[i][j] / nombreLinks(M, j)\n",
    "            else:\n",
    "                Q[i][j] = 0\n",
    "    return Q\n",
    "\n",
    "\n",
    "\n",
    "\n",
    "\n",
    "def iterativePageRank(M, e, a):\n",
    "    M2 = pageRankMatrice(M)\n",
    "    M2 = transitionMatrice(M2, a)\n",
    "    return puissance_iteree(e, M2)\n",
    "\n",
    "print (iterativePageRank(A, 0.00001, 0.85))\n",
    "\n",
    "\n"
   ]
  },
  {
   "cell_type": "markdown",
   "id": "29d91065",
   "metadata": {},
   "source": [
    "QUESTION 4 :"
   ]
  },
  {
   "cell_type": "markdown",
   "id": "91bfffb0",
   "metadata": {},
   "source": [
    "Le temps d'éxécution est le même, mais iterativePageRank est un peu plus précis."
   ]
  }
 ],
 "metadata": {
  "kernelspec": {
   "display_name": "Python 3 (ipykernel)",
   "language": "python",
   "name": "python3"
  },
  "language_info": {
   "codemirror_mode": {
    "name": "ipython",
    "version": 3
   },
   "file_extension": ".py",
   "mimetype": "text/x-python",
   "name": "python",
   "nbconvert_exporter": "python",
   "pygments_lexer": "ipython3",
   "version": "3.9.12"
  }
 },
 "nbformat": 4,
 "nbformat_minor": 5
}
