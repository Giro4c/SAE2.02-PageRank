{
 "cells": [
  {
   "cell_type": "markdown",
   "id": "d0ab4bda",
   "metadata": {},
   "source": [
    "# SAE S2.02 : \n",
    "# Exploration algorithmique d’un problème\n",
    "\n",
    "BRAHMI Moundir - Partie 5  - \n",
    "DELIN Maxime  - Partie 4  - \n",
    "GIRODENGO Camille  - Partie 1, 2, Algorithme PageRank itératif  - \n",
    "ROUBAUD Axel  - Partie 3  -  \n"
   ]
  },
  {
   "cell_type": "code",
   "execution_count": 3,
   "id": "2b76e040",
   "metadata": {},
   "outputs": [],
   "source": [
    "import networkx as nx\n",
    "from numpy import *\n",
    "import matplotlib.pyplot as plt\n",
    "import random as rd"
   ]
  },
  {
   "cell_type": "markdown",
   "id": "7f44be5e",
   "metadata": {},
   "source": [
    "## Partie 1 : PageRank - version itérative, premier exemple"
   ]
  },
  {
   "cell_type": "code",
   "execution_count": 4,
   "id": "a86d4849",
   "metadata": {},
   "outputs": [
    {
     "data": {
      "image/png": "[encoded data removed]",
      "text/plain": [
       "<Figure size 432x288 with 1 Axes>"
      ]
     },
     "metadata": {},
     "output_type": "display_data"
    }
   ],
   "source": [
    "A = array([[0.0,1.0,1.0,1.0,1.0,1.0,0.0,0.0,0.0,0.0,0.0,0.0,0.0,0.0],\n",
    "[1.0,0.0,1.0,0.0,0.0,0.0,0.0,0.0,0.0,0.0,0.0,0.0,0.0,0.0],\n",
    "[1.0,0.0,0.0,1.0,0.0,0.0,0.0,0.0,0.0,0.0,0.0,0.0,0.0,0.0],\n",
    "[1.0,0.0,0.0,0.0,1.0,0.0,0.0,0.0,0.0,0.0,0.0,0.0,0.0,0.0],\n",
    "[1.0,1.0,0.0,0.0,0.0,0.0,0.0,0.0,0.0,0.0,0.0,0.0,0.0,0.0],\n",
    "[0,0,0,0,0,0,1,1,1,0,0,0,0,0],\n",
    "[1,0,0,0,0,0,0,1,0,0,0,0,0,0],\n",
    "[0,0,0,0,0,1,0,0,0,0,0,0,0,0],\n",
    "[0,0,0,0,0,0,0,1,0,1,0,0,0,0],\n",
    "[0,0,0,0,0,1,0,0,0,0,1,1,1,1],\n",
    "[0,0,0,0,0,0,0,0,0,1,0,1,0,0],\n",
    "[0,0,0,0,0,0,0,0,0,1,0,0,1,0],\n",
    "[0,0,0,0,0,0,0,0,0,1,0,0,0,1],\n",
    "[0,0,0,0,0,0,0,0,0,1,1,0,0,0]])\n",
    "\n",
    "G1 = nx.DiGraph(A)\n",
    "pos = nx.circular_layout(G1)\n",
    "nx.draw(G1,with_labels=True)\n",
    "plt.show()"
   ]
  },
  {
   "cell_type": "markdown",
   "id": "4c10f260",
   "metadata": {},
   "source": [
    "## Question 1\n",
    "\n",
    "Voici l'algorithme de la puissance itérée :"
   ]
  },
  {
   "cell_type": "code",
   "execution_count": 5,
   "id": "3ed45b31",
   "metadata": {},
   "outputs": [],
   "source": [
    "def norme(X):\n",
    "    norm = 0\n",
    "    for i in range(len(X)):\n",
    "        norm = norm + X[i]**2\n",
    "    return sqrt(norm)\n",
    "\n",
    "def puissance_iteree(e, M):\n",
    "    Xbis = []\n",
    "    for i in range(len(M)):\n",
    "        Xbis.append(rd.randint(0, 100))\n",
    "    Xbis = array(Xbis)\n",
    "    while (True):\n",
    "        prevXbis = Xbis\n",
    "        Xbis = (M.dot(Xbis)) / norme(M.dot(Xbis))\n",
    "        if (norme(Xbis - prevXbis) < e):\n",
    "            break\n",
    "    return norme(M.dot(Xbis)), Xbis"
   ]
  },
  {
   "cell_type": "markdown",
   "id": "a7ea637f",
   "metadata": {},
   "source": [
    "Et voici l'algorithme de transformation en matrice PageRank :"
   ]
  },
  {
   "cell_type": "code",
   "execution_count": 6,
   "id": "63042748",
   "metadata": {},
   "outputs": [],
   "source": [
    "def nombreLinks(M, j):\n",
    "    count = 0\n",
    "    for i in range(len(M)):\n",
    "        count = count + M[i][j]\n",
    "    return count;\n",
    "\n",
    "def pageRankMatrice(M):\n",
    "    Q = M\n",
    "    N = len(Q)\n",
    "    for i in range(N):\n",
    "        for j in range(N):\n",
    "            if (nombreLinks(M, j) != 0):\n",
    "                Q[i][j] = Q[i][j] / nombreLinks(M, j)\n",
    "            else:\n",
    "                Q[i][j] = 0\n",
    "    return Q"
   ]
  },
  {
   "cell_type": "markdown",
   "id": "ee1b7fe4",
   "metadata": {},
   "source": [
    "L'algorithme de la puissance itérée permet de calculer la valeur propre la plus grande et le vecteur propre associé d'une matrice \"M\".  \n",
    "Ce vecteur propre \"v\" a la particularité d'être solution de l'équation :  \n",
    "    v = M v  \n",
    "  \n",
    "Or en regardant le principe de l'algorithme de PageRank et son explication en notations matricielles, on remarque que le principe est le même :  \n",
    "Le vecteur r des scores est solution de l'équation r = Q r  où Q est la matrice d'adjacence des scores.  \n",
    "\n",
    "## Question 2"
   ]
  },
  {
   "cell_type": "code",
   "execution_count": 7,
   "id": "dc481006",
   "metadata": {},
   "outputs": [
    {
     "name": "stdout",
     "output_type": "stream",
     "text": [
      "\n",
      "Valeur propre trouvée :\n",
      "1.2775162592163185\n",
      "\n",
      "Vecteur de scores trouvé :\n",
      "[0.14980171 0.05769975 0.06562344 0.07224674 0.07308223 0.17112397\n",
      " 0.07522214 0.0574082  0.12425243 0.63075603 0.29729865 0.34443739\n",
      " 0.38484701 0.39077231]\n"
     ]
    }
   ],
   "source": [
    "# Application de l'algo transition 1 PageRank\n",
    "A2 = pageRankMatrice(A)\n",
    "#print(\"Matrice PageRank obtenue :\")\n",
    "#print(A2)\n",
    "print()\n",
    "print(\"Valeur propre trouvée :\")\n",
    "print(puissance_iteree(10**-5, A2)[0])\n",
    "print()\n",
    "print(\"Vecteur de scores trouvé :\")\n",
    "print(puissance_iteree(10**-5, A2)[1])"
   ]
  },
  {
   "cell_type": "markdown",
   "id": "26bc249a",
   "metadata": {},
   "source": [
    "Vérification du vecteur des scores :"
   ]
  },
  {
   "cell_type": "code",
   "execution_count": 8,
   "id": "14958e8f",
   "metadata": {},
   "outputs": [
    {
     "name": "stdout",
     "output_type": "stream",
     "text": [
      "Norme de r : \n",
      "0.9999999999999999\n",
      "Valeur de r :\n",
      "[0.14980136 0.05769958 0.06562326 0.07224654 0.07308203 0.17112381\n",
      " 0.07522198 0.05740814 0.12425242 0.6307561  0.29729872 0.34443747\n",
      " 0.38484709 0.39077238]\n",
      "\n",
      "Norme de Ar :\n",
      "1.2775157828103845\n",
      "Valeur de Ar :\n",
      "[0.19136697 0.07370911 0.08383135 0.09229238 0.09335971 0.21861044\n",
      " 0.09609425 0.07333878 0.15873422 0.80580215 0.379805   0.44002564\n",
      " 0.49164968 0.49921932]\n",
      "\n",
      "Vérifications\n",
      "Norme de Ar - r :\n",
      "0.27751578297964247\n",
      "Valeur de Ar - r :\n",
      "[0.04156562 0.01600953 0.01820809 0.02004585 0.02027769 0.04748663\n",
      " 0.02087227 0.01593063 0.0344818  0.17504605 0.08250629 0.09558818\n",
      " 0.10680259 0.10844694]\n"
     ]
    }
   ],
   "source": [
    "l,r = puissance_iteree(10**-5, A2)\n",
    "\n",
    "print(\"Norme de r : \")\n",
    "print(norme(r))\n",
    "print(\"Valeur de r :\")\n",
    "print(r)\n",
    "print()\n",
    "print(\"Norme de Ar :\")\n",
    "print(l)\n",
    "print(\"Valeur de Ar :\")\n",
    "print(A2.dot(r))\n",
    "print()\n",
    "print(\"Vérifications\")\n",
    "print(\"Norme de Ar - r :\")\n",
    "print(norme(A2.dot(r) - r))\n",
    "print(\"Valeur de Ar - r :\")\n",
    "print(A2.dot(r) - r)"
   ]
  },
  {
   "cell_type": "markdown",
   "id": "18a5dc38",
   "metadata": {},
   "source": [
    "En tentant de faire la vérification numérique avec linalg.solve(A, r), la fonction renvoie une erreur LinAlgError de type Singular matrix.  \n",
    "  \n",
    "Nous avons donc réalisé la vérification manuellement en faisant la soustraction entre Ar et r et en vérifiant la valeur de la norme de r.  \n",
    "De ce que l'on peut observer, la norme de r se rapproche effectivement de 1 et la différence entre Ar et r est proche de 0, avec une marge de 0.1 en moyenne.  \n",
    "Ce n'est effectivement pas le plus préci des résultats mais cela reste un résultat correct.  \n"
   ]
  },
  {
   "cell_type": "markdown",
   "id": "e556e82a",
   "metadata": {},
   "source": [
    "## Partie 2 : PageRank - version itérative, deuxième example"
   ]
  },
  {
   "cell_type": "code",
   "execution_count": 9,
   "id": "7715d758",
   "metadata": {},
   "outputs": [
    {
     "data": {
      "image/png": "[encoded data removed]",
      "text/plain": [
       "<Figure size 432x288 with 1 Axes>"
      ]
     },
     "metadata": {},
     "output_type": "display_data"
    }
   ],
   "source": [
    "B = array([[0.0,0.0,0.0,0.0,0.0],\n",
    "[1.0,0.0,0.0,0.0,0.0],\n",
    "[1.0,0.0,0.0,0.0,0.0],\n",
    "[1.0,1.0,1.0,0.0,0.0],\n",
    "[1.0,1.0,0.0,0.0,0.0]])\n",
    "\n",
    "G2 = nx.DiGraph(B)\n",
    "pos = nx.circular_layout(G2)\n",
    "nx.draw(G2,with_labels=True)\n",
    "plt.show()"
   ]
  },
  {
   "cell_type": "markdown",
   "id": "34d2d1b6",
   "metadata": {},
   "source": [
    "## Question 1"
   ]
  },
  {
   "cell_type": "code",
   "execution_count": 10,
   "id": "aff26d14",
   "metadata": {},
   "outputs": [
    {
     "name": "stdout",
     "output_type": "stream",
     "text": [
      "[[0.         0.         0.         0.         0.        ]\n",
      " [0.25       0.         0.         0.         0.        ]\n",
      " [0.30769231 0.         0.         0.         0.        ]\n",
      " [0.39097744 0.5        1.         0.         0.        ]\n",
      " [0.51317059 0.66666667 0.         0.         0.        ]]\n",
      "Resultat des scores : \n"
     ]
    },
    {
     "name": "stderr",
     "output_type": "stream",
     "text": [
      "/tmp/ipykernel_3299/421269999.py:14: RuntimeWarning: invalid value encountered in true_divide\n",
      "  Xbis = (M.dot(Xbis)) / norme(M.dot(Xbis))\n"
     ]
    },
    {
     "ename": "KeyboardInterrupt",
     "evalue": "",
     "output_type": "error",
     "traceback": [
      "\u001b[0;31m---------------------------------------------------------------------------\u001b[0m",
      "\u001b[0;31mKeyboardInterrupt\u001b[0m                         Traceback (most recent call last)",
      "Input \u001b[0;32mIn [10]\u001b[0m, in \u001b[0;36m<cell line: 7>\u001b[0;34m()\u001b[0m\n\u001b[1;32m      4\u001b[0m \u001b[38;5;28mprint\u001b[39m(B2)\n\u001b[1;32m      6\u001b[0m \u001b[38;5;28mprint\u001b[39m(\u001b[38;5;124m\"\u001b[39m\u001b[38;5;124mResultat des scores : \u001b[39m\u001b[38;5;124m\"\u001b[39m)\n\u001b[0;32m----> 7\u001b[0m \u001b[38;5;28mprint\u001b[39m(\u001b[43mpuissance_iteree\u001b[49m\u001b[43m(\u001b[49m\u001b[38;5;241;43m10\u001b[39;49m\u001b[38;5;241;43m*\u001b[39;49m\u001b[38;5;241;43m*\u001b[39;49m\u001b[38;5;241;43m-\u001b[39;49m\u001b[38;5;241;43m5\u001b[39;49m\u001b[43m,\u001b[49m\u001b[43m \u001b[49m\u001b[43mB2\u001b[49m\u001b[43m)\u001b[49m[\u001b[38;5;241m1\u001b[39m])\n",
      "Input \u001b[0;32mIn [5]\u001b[0m, in \u001b[0;36mpuissance_iteree\u001b[0;34m(e, M)\u001b[0m\n\u001b[1;32m     12\u001b[0m \u001b[38;5;28;01mwhile\u001b[39;00m (\u001b[38;5;28;01mTrue\u001b[39;00m):\n\u001b[1;32m     13\u001b[0m     prevXbis \u001b[38;5;241m=\u001b[39m Xbis\n\u001b[0;32m---> 14\u001b[0m     Xbis \u001b[38;5;241m=\u001b[39m (M\u001b[38;5;241m.\u001b[39mdot(Xbis)) \u001b[38;5;241m/\u001b[39m \u001b[43mnorme\u001b[49m\u001b[43m(\u001b[49m\u001b[43mM\u001b[49m\u001b[38;5;241;43m.\u001b[39;49m\u001b[43mdot\u001b[49m\u001b[43m(\u001b[49m\u001b[43mXbis\u001b[49m\u001b[43m)\u001b[49m\u001b[43m)\u001b[49m\n\u001b[1;32m     15\u001b[0m     \u001b[38;5;28;01mif\u001b[39;00m (norme(Xbis \u001b[38;5;241m-\u001b[39m prevXbis) \u001b[38;5;241m<\u001b[39m e):\n\u001b[1;32m     16\u001b[0m         \u001b[38;5;28;01mbreak\u001b[39;00m\n",
      "Input \u001b[0;32mIn [5]\u001b[0m, in \u001b[0;36mnorme\u001b[0;34m(X)\u001b[0m\n\u001b[1;32m      2\u001b[0m norm \u001b[38;5;241m=\u001b[39m \u001b[38;5;241m0\u001b[39m\n\u001b[1;32m      3\u001b[0m \u001b[38;5;28;01mfor\u001b[39;00m i \u001b[38;5;129;01min\u001b[39;00m \u001b[38;5;28mrange\u001b[39m(\u001b[38;5;28mlen\u001b[39m(X)):\n\u001b[0;32m----> 4\u001b[0m     norm \u001b[38;5;241m=\u001b[39m norm \u001b[38;5;241m+\u001b[39m \u001b[43mX\u001b[49m\u001b[43m[\u001b[49m\u001b[43mi\u001b[49m\u001b[43m]\u001b[49m\u001b[38;5;241;43m*\u001b[39;49m\u001b[38;5;241;43m*\u001b[39;49m\u001b[38;5;241;43m2\u001b[39;49m\n\u001b[1;32m      5\u001b[0m \u001b[38;5;28;01mreturn\u001b[39;00m sqrt(norm)\n",
      "\u001b[0;31mKeyboardInterrupt\u001b[0m: "
     ]
    }
   ],
   "source": [
    "# Application de l'algo transition 1 PageRank\n",
    "B2 = pageRankMatrice(B)\n",
    "\n",
    "print(B2)\n",
    "\n",
    "print(\"Resultat des scores : \")\n",
    "print(puissance_iteree(10**-5, B2)[1])"
   ]
  },
  {
   "cell_type": "markdown",
   "id": "078fea58",
   "metadata": {},
   "source": [
    "En appliquant l'algorithme de la partie 1, on se retrouve avec une erreur. Il est donc probable que la matrice PageRank transition B2 ne puisse par être traitée par un algorithme de puissance itérée car les vecteurs de score formés ont des normes nulles.  \n",
    "  \n",
    "On va définir un algorithme qui renvoie une matrice de transition secondaire pour palier à ce problème :  "
   ]
  },
  {
   "cell_type": "code",
   "execution_count": 11,
   "id": "a3300c87",
   "metadata": {},
   "outputs": [],
   "source": [
    "def transitionMatrice(M, a):\n",
    "    P = M\n",
    "    N = len(P)\n",
    "    for i in range(N):\n",
    "        for j in range(N):\n",
    "            if (nombreLinks(M, j) != 0):\n",
    "                P[i][j] = a*M[i][j] + ((1 - a)/N)\n",
    "            else:\n",
    "                P[i][j] = 1/N\n",
    "    return P\n"
   ]
  },
  {
   "cell_type": "markdown",
   "id": "28ee27b1",
   "metadata": {},
   "source": [
    "## Question 2"
   ]
  },
  {
   "cell_type": "code",
   "execution_count": 12,
   "id": "8059e9f6",
   "metadata": {},
   "outputs": [
    {
     "name": "stdout",
     "output_type": "stream",
     "text": [
      "Matrice de transition pour B :\n",
      "[[0.03       0.03       0.03       0.2        0.2       ]\n",
      " [0.2425     0.03       0.03       0.03       0.03      ]\n",
      " [0.29153846 0.03       0.03       0.03       0.03      ]\n",
      " [0.36233083 0.455      0.88       0.03       0.03      ]\n",
      " [0.466195   0.59666667 0.03       0.03       0.03      ]]\n",
      "\n",
      "Norme de r : \n",
      "1.0\n",
      "Valeur de r :\n",
      "[0.38843322 0.20942151 0.23715069 0.70019798 0.50866945]\n",
      "\n",
      "Norme de B3 r :\n",
      "0.6869292822804184\n",
      "Valeur de B3 r :\n",
      "[0.26682365 0.14385824 0.16290641 0.48098675 0.349421  ]\n",
      "\n",
      "Vérifications\n",
      "Norme de B3 r - r :\n",
      "0.3130707177384863\n",
      "Valeur de B3 r - r :\n",
      "[-0.12160957 -0.06556326 -0.07424428 -0.21921123 -0.15924845]\n"
     ]
    }
   ],
   "source": [
    "B3 = transitionMatrice(B2, 0.85)\n",
    "\n",
    "print(\"Matrice de transition pour B :\")\n",
    "print(B3)\n",
    "print()\n",
    "\n",
    "l,r = puissance_iteree(10**-5, B3)\n",
    "\n",
    "print(\"Norme de r : \")\n",
    "print(norme(r))\n",
    "print(\"Valeur de r :\")\n",
    "print(r)\n",
    "print()\n",
    "\n",
    "print(\"Norme de B3 r :\")\n",
    "print(l)\n",
    "print(\"Valeur de B3 r :\")\n",
    "print(B3.dot(r))\n",
    "print()\n",
    "\n",
    "print(\"Vérifications\")\n",
    "print(\"Norme de B3 r - r :\")\n",
    "print(norme(B3.dot(r) - r))\n",
    "print(\"Valeur de B3 r - r :\")\n",
    "print(B3.dot(r) - r)"
   ]
  },
  {
   "cell_type": "markdown",
   "id": "31ec410e",
   "metadata": {},
   "source": [
    "Grâce à cet algorithme de transition, il est désormais possible de calculer les scores PageRank de matrices auquelles l'algorithme de puissance itérée ne peux normalement pas s'appliquer.  \n",
    "De plus, on remarque que le calcul des scores est beaucoup plus précis car le vecteur différence entre B3 et r a maintenant une marge d'environ 0.05 en moyenne. Une nette amélioration par rapport aux résultats de la partie 1.  \n",
    "  \n",
    "Voici donc le nouvel algorithme \"iterativePageRank\" :  \n"
   ]
  },
  {
   "cell_type": "code",
   "execution_count": 13,
   "id": "47d38069",
   "metadata": {},
   "outputs": [],
   "source": [
    "def iterativePageRank(M, e, a):\n",
    "    M2 = pageRankMatrice(M)\n",
    "    M2 = transitionMatrice(M2, a)\n",
    "    return puissance_iteree(e, M2)"
   ]
  },
  {
   "cell_type": "markdown",
   "id": "10fc030b",
   "metadata": {},
   "source": [
    "## Partie 3 : PageRank - version itéerative, analyse"
   ]
  },
  {
   "cell_type": "markdown",
   "id": "7941f2cc",
   "metadata": {},
   "source": [
    "## Question 1"
   ]
  },
  {
   "cell_type": "code",
   "execution_count": 15,
   "id": "182036f2",
   "metadata": {},
   "outputs": [
    {
     "name": "stdout",
     "output_type": "stream",
     "text": [
      "\n",
      "Valeur des scores de A3 :  1.0074550584150046 [0.33641606 0.22834926 0.2336532  0.24026612 0.24506048 0.34361161\n",
      " 0.23379081 0.20583636 0.21642097 0.37794162 0.23921729 0.24789152\n",
      " 0.25917127 0.26774266]\n",
      "\n",
      "Valeur de la différence A3*r - r :  [0.00250723 0.00170202 0.00174153 0.00179079 0.00182651 0.00256143\n",
      " 0.00174256 0.00153435 0.00161343 0.00281833 0.00178382 0.00184857\n",
      " 0.00193269 0.0019966 ]\n",
      "\n",
      "\n",
      "Valeur des scores de A4 :  1.0035244060035784 [0.30629201 0.24956858 0.25165928 0.25453808 0.25752193 0.31534704\n",
      " 0.25075309 0.23524513 0.24358813 0.32257475 0.25309052 0.25626468\n",
      " 0.26084503 0.26578909]\n",
      "\n",
      "Valeur de la différence A4*r - r :  [0.00107935 0.00087951 0.00088688 0.00089703 0.00090754 0.00111141\n",
      " 0.00088369 0.00082905 0.00085851 0.00113701 0.00089208 0.00090328\n",
      " 0.00091944 0.00093685]\n",
      "\n",
      "\n"
     ]
    }
   ],
   "source": [
    "A2 = pageRankMatrice(A)\n",
    "#print(A2)\n",
    "#print()\n",
    "\n",
    "A3 = transitionMatrice(A2, 0.85)\n",
    "print()\n",
    "l, r = puissance_iteree (10**-5, A3)\n",
    "print(\"Valeur des scores de A3 : \", l,r)\n",
    "print()\n",
    "print(\"Valeur de la différence A3*r - r : \", A3.dot(r) - r)\n",
    "print()\n",
    "print()\n",
    "\n",
    "A4 = transitionMatrice(A2, 0.5)\n",
    "l, r = puissance_iteree (10**-5, A4)\n",
    "print(\"Valeur des scores de A4 : \", l,r)\n",
    "print()\n",
    "print(\"Valeur de la différence A4*r - r : \", A4.dot(r) - r)\n",
    "print()\n",
    "print()"
   ]
  },
  {
   "cell_type": "markdown",
   "id": "3ede5d3e",
   "metadata": {},
   "source": [
    "Analyser l’influence du critere d’arrêt dans l’algorithme de la puissance itérée la valeur comparer a la partie 1 ne sera pas la meme est sera plus précise.  \n",
    " Donc l'influence du critére est tres influent."
   ]
  },
  {
   "cell_type": "markdown",
   "id": "c8b47bd7",
   "metadata": {},
   "source": [
    "## Question 2"
   ]
  },
  {
   "cell_type": "markdown",
   "id": "f7573726",
   "metadata": {},
   "source": [
    "On choisit de créer dans le graphique de la partie 1 un hub et une autorité suplémentaire.  \n",
    "On déclare la page 5 comme étant un hub et ajoutons les liens sortants nécessaires à l'attribution de ce statut.  \n",
    "On déclare la page 8 comme étant une autorité et ajoutons les liens entrants nécessaire à l'attribution de ce statut. "
   ]
  },
  {
   "cell_type": "code",
   "execution_count": 16,
   "id": "d59224c9",
   "metadata": {},
   "outputs": [],
   "source": [
    "A1 = array([[0.0,1.0,1,1,1,1,0,0,0,0,0,0,0,0],#1\n",
    "           [1,0,1,0,0,0,0,0,0,0,0,0,0,0],#2\n",
    "           [1,0,0,1,0,0,0,0,0,0,0,0,0,0],#3\n",
    "           [1,0,0,0,1,0,0,1,0,0,0,0,0,0],#4\n",
    "           [1,1,0,1,1,0,1,0,1,1,1,0,0,0],#5 HUB\n",
    "           [0,0,0,0,0,0,1,1,1,0,0,0,0,0],#6\n",
    "           [1,0,0,0,0,0,0,1,0,0,0,0,0,0],#7\n",
    "           [0,0,0,0,0,1,0,0,0,0,0,0,0,0],#8 AUTORITE\n",
    "           [0,0,0,0,0,0,0,1,0,1,0,0,0,0],#9\n",
    "           [0,0,0,0,0,1,0,0,0,0,1,1,1,1],#10\n",
    "           [0,0,0,0,0,0,0,1,0,1,0,1,0,0],#11\n",
    "           [0,0,0,0,0,0,0,0,0,1,0,0,1,0],#12\n",
    "           [0,0,0,0,0,0,0,0,0,1,0,0,0,1],#13 \n",
    "           [0,0,0,0,0,0,0,0,0,1,1,0,0,0]])#14"
   ]
  },
  {
   "cell_type": "code",
   "execution_count": 17,
   "id": "85cdac19",
   "metadata": {},
   "outputs": [
    {
     "name": "stdout",
     "output_type": "stream",
     "text": [
      "\n",
      "valeur score A3: 1.2897074612352255 [0.38126687 0.15046584 0.17079768 0.30377732 0.69776728 0.13750456\n",
      " 0.15735487 0.06400526 0.07546308 0.2731125  0.15044249 0.14534415\n",
      " 0.15938684 0.16264085]\n",
      "\n",
      "valeur score A3*r - r: [0.11045782 0.04359199 0.04948231 0.0880079  0.2021503  0.03983616\n",
      " 0.04558772 0.01854279 0.02186145 0.07911835 0.04358191 0.04210458\n",
      " 0.04617264 0.04711543]\n",
      "\n"
     ]
    }
   ],
   "source": [
    "A2 = pageRankMatrice(A1)\n",
    "#print(A2)\n",
    "#print()\n",
    "\n",
    "A3 = transitionMatrice(A2, 0.85)\n",
    "print()\n",
    "l, r = puissance_iteree (10**-5, A3)\n",
    "print(\"Valeur des scores de A3 : \", l,r)\n",
    "print()\n",
    "print(\"Valeur de la différence A3*r - r : \", A3.dot(r) - r)\n",
    "print()\n",
    "print()"
   ]
  },
  {
   "cell_type": "markdown",
   "id": "9bc41188",
   "metadata": {},
   "source": [
    "Pour certains score leurs valeur on diminué comparé a d autre qui on augmenté mais l'on peut voir que se qui on etait change sur la matrice dont 8 qui a eu son autorité augmenté sont score a dmininué.\n",
    "\n",
    "Alors que le score de 5 qui est lu devenue un HUB lui a augmenté conciderablement donc les valeur on bien change compare a la matrice d'avant accause de l'autorité et du hub qui a etait mis."
   ]
  },
  {
   "cell_type": "markdown",
   "id": "fed46bbb",
   "metadata": {},
   "source": [
    "## Question 3"
   ]
  },
  {
   "cell_type": "markdown",
   "id": "28ecaa2c",
   "metadata": {},
   "source": [
    "Pour augmenter le score de certaine pages il faudrait que on augmente le HUB et qu'il y est moin d'autorité car avec sa le score augmentera exemple si j'ajoute plus de lien sortant au 5 sont score augmentera.\n",
    "\n",
    "On pourra le voir dessous ou avec la matrice A8 j'ai ajouté plein de lien sortant dans des ligne et les scores sont bien remonté comparé a la question 2 "
   ]
  },
  {
   "cell_type": "code",
   "execution_count": 18,
   "id": "6475c00b",
   "metadata": {},
   "outputs": [],
   "source": [
    "A8 = array([[0.0,1.0,1,1,1,1,0,0,0,0,0,0,0,0],#1\n",
    "           [1,0,1,1,1,0,0,1,0,0,1,0,1,0],#2 HUB\n",
    "           [1,1,0,1,0,1,0,1,0,0,1,0,1,1],#3 HUB \n",
    "           [1,0,0,0,1,0,0,1,0,0,0,0,0,0],#4\n",
    "           [1,1,0,1,1,0,1,0,1,1,1,0,0,0],#5 HUB\n",
    "           [0,0,0,0,0,0,1,1,1,0,0,0,0,0],#6\n",
    "           [1,0,0,0,0,0,0,1,0,0,0,0,0,0],#7\n",
    "           [0,0,0,0,0,1,0,0,0,0,0,0,0,0],#8 AUTORITE\n",
    "           [0,0,0,0,0,0,0,1,0,1,0,0,0,0],#9\n",
    "           [0,0,0,0,0,1,0,0,0,0,1,1,1,1],#10\n",
    "           [0,0,0,0,0,0,0,1,0,1,0,1,0,0],#11\n",
    "           [0,0,0,0,0,0,0,0,0,1,0,0,1,0],#12\n",
    "           [0,1,0,1,0,1,0,1,0,1,0,1,0,1],#13 HUB\n",
    "           [1,1,0,1,0,0,0,0,1,1,1,0,1,0]])#14 HUB"
   ]
  },
  {
   "cell_type": "code",
   "execution_count": 20,
   "id": "626f2f37",
   "metadata": {},
   "outputs": [
    {
     "name": "stdout",
     "output_type": "stream",
     "text": [
      "\n",
      "Valeur des scores de A3 :  1.0001562144999427 [0.26717867 0.2673155  0.2673194  0.26707307 0.26752551 0.26720603\n",
      " 0.26704008 0.2669803  0.26702372 0.26734664 0.2671584  0.26708221\n",
      " 0.26767015 0.2677363 ]\n",
      "\n",
      "Valeur de la différence A3*r - r :  [4.17371800e-05 4.17586041e-05 4.17591655e-05 4.17207216e-05\n",
      " 4.17914087e-05 4.17414621e-05 4.17155581e-05 4.17061719e-05\n",
      " 4.17129697e-05 4.17633645e-05 4.17339835e-05 4.17221270e-05\n",
      " 4.18138528e-05 4.18243491e-05]\n",
      "\n",
      "\n"
     ]
    }
   ],
   "source": [
    "A2 = pageRankMatrice(A8)\n",
    "#print(A2)\n",
    "#print()\n",
    "\n",
    "A3 = transitionMatrice(A2, 0.03)\n",
    "print()\n",
    "l, r = puissance_iteree (10**-5, A3)\n",
    "print(\"Valeur des scores de A3 : \", l,r)\n",
    "print()\n",
    "print(\"Valeur de la différence A3*r - r : \", A3.dot(r) - r)\n",
    "print()\n",
    "print()"
   ]
  },
  {
   "cell_type": "markdown",
   "id": "38536850",
   "metadata": {},
   "source": [
    "## Question 4"
   ]
  },
  {
   "cell_type": "code",
   "execution_count": 21,
   "id": "b3451b0c",
   "metadata": {},
   "outputs": [
    {
     "name": "stdout",
     "output_type": "stream",
     "text": [
      "\n",
      "Valeur des scores de A3 :  1.0021109397043468 [0.27089391 0.26466681 0.26316874 0.26455366 0.28105444 0.26904718\n",
      " 0.26383491 0.26214314 0.26252676 0.27453194 0.26766092 0.26535356\n",
      " 0.26581204 0.26573797]\n",
      "\n",
      "Valeur de la différence A3*r - r :  [0.00057185 0.0005587  0.00055553 0.00055846 0.00059331 0.00056796\n",
      " 0.00055694 0.00055337 0.00055418 0.00057951 0.00056503 0.0005601\n",
      " 0.00056111 0.00056096]\n",
      "\n",
      "\n"
     ]
    }
   ],
   "source": [
    "A2 = pageRankMatrice(A1)\n",
    "#print(A2)\n",
    "#print()\n",
    "\n",
    "A3 = transitionMatrice(A2, 0.03)\n",
    "print()\n",
    "l, r = puissance_iteree (10**-5, A3)\n",
    "print(\"Valeur des scores de A3 : \", l,r)\n",
    "print()\n",
    "print(\"Valeur de la différence A3*r - r : \", A3.dot(r) - r)\n",
    "print()\n",
    "print()"
   ]
  },
  {
   "cell_type": "markdown",
   "id": "4e27fa75",
   "metadata": {},
   "source": [
    "En changeant le facteur d'amortissement α les score qui on monté et se qui on baissé se restabilise.  \n",
    "  \n",
    "La raison : α représente la probabilté qu'un utilisateur clique un lien. Ainsi, au plus le facteur atténuateur se rapproche de 0, au moins il y a de chance qu'un utilisateur clique sur un lien contenu dans une page, au plus les scores s'égalisent puisque la présence de liens sur une page perd en importance."
   ]
  },
  {
   "cell_type": "markdown",
   "id": "b243d253",
   "metadata": {},
   "source": [
    "## Partie 4 : PageRank - version itérative, analyse"
   ]
  },
  {
   "cell_type": "markdown",
   "id": "34785466",
   "metadata": {},
   "source": [
    "## Question 1 :"
   ]
  },
  {
   "cell_type": "code",
   "execution_count": 24,
   "id": "cbae89f9",
   "metadata": {},
   "outputs": [],
   "source": [
    "#I - Allocine (Profondeur : 25) :\n",
    "\n",
    "Allocine = array([[0.0,1.0,1.0,1.0,1.0,1.0,1.0,1.0,1.0,1.0,1.0,1.0,1.0,1.0,1.0,1.0,1.0,1.0,1.0,1.0,1.0,1.0,1.0,1.0,1.0],\n",
    "            [1.0,1.0,0.0,0.0,0.0,0.0,0.0,0.0,0.0,0.0,0.0,0.0,0.0,0.0,0.0,0.0,0.0,0.0,0.0,0.0,0.0,0.0,0.0,0.0,0.0],\n",
    "            [1.0,0.0,1.0,0.0,0.0,0.0,0.0,0.0,0.0,0.0,0.0,0.0,0.0,0.0,0.0,0.0,0.0,0.0,0.0,0.0,0.0,0.0,0.0,0.0,0.0],\n",
    "            [1.0,0.0,0.0,0.0,0.0,0.0,0.0,0.0,0.0,0.0,0.0,0.0,0.0,0.0,0.0,0.0,0.0,0.0,0.0,0.0,0.0,0.0,0.0,0.0,0.0],\n",
    "            [1.0,0.0,0.0,0.0,0.0,0.0,0.0,0.0,0.0,0.0,0.0,0.0,0.0,0.0,0.0,0.0,0.0,0.0,0.0,0.0,0.0,0.0,0.0,0.0,0.0],\n",
    "            [1.0,1.0,1.0,0.0,0.0,0.0,0.0,0.0,0.0,0.0,1.0,0.0,0.0,1.0,0.0,1.0,1.0,1.0,1.0,1.0,1.0,1.0,1.0,1.0,1.0],\n",
    "            [1.0,0.0,0.0,1.0,1.0,0.0,0.0,0.0,0.0,0.0,0.0,0.0,0.0,1.0,0.0,0.0,0.0,0.0,0.0,0.0,0.0,0.0,0.0,0.0,0.0],\n",
    "            [1.0,0.0,0.0,0.0,0.0,0.0,0.0,0.0,0.0,1.0,0.0,0.0,0.0,0.0,0.0,0.0,0.0,0.0,0.0,0.0,0.0,0.0,0.0,0.0,0.0],\n",
    "            [1.0,0.0,0.0,0.0,0.0,0.0,0.0,0.0,0.0,0.0,0.0,0.0,0.0,0.0,1.0,0.0,0.0,0.0,0.0,0.0,0.0,0.0,0.0,0.0,0.0],\n",
    "            [1.0,0.0,0.0,0.0,0.0,0.0,0.0,0.0,0.0,0.0,0.0,0.0,0.0,1.0,0.0,0.0,0.0,0.0,0.0,0.0,0.0,0.0,0.0,0.0,0.0],\n",
    "            [1.0,0.0,0.0,0.0,0.0,0.0,0.0,0.0,0.0,0.0,0.0,0.0,0.0,1.0,0.0,0.0,0.0,0.0,0.0,0.0,0.0,0.0,0.0,0.0,0.0],\n",
    "            [1.0,0.0,0.0,0.0,0.0,0.0,0.0,0.0,0.0,0.0,0.0,0.0,1.0,1.0,0.0,0.0,0.0,0.0,0.0,0.0,0.0,0.0,0.0,0.0,0.0],\n",
    "            [1.0,0.0,0.0,0.0,0.0,0.0,0.0,0.0,0.0,0.0,0.0,1.0,0.0,1.0,0.0,0.0,0.0,0.0,0.0,0.0,0.0,0.0,0.0,0.0,0.0],\n",
    "            [1.0,0.0,0.0,0.0,0.0,0.0,0.0,0.0,0.0,0.0,0.0,0.0,0.0,1.0,0.0,0.0,0.0,0.0,0.0,0.0,0.0,0.0,0.0,0.0,0.0],\n",
    "            [1.0,0.0,0.0,0.0,0.0,0.0,0.0,0.0,1.0,0.0,0.0,0.0,0.0,0.0,0.0,0.0,0.0,0.0,0.0,0.0,0.0,0.0,0.0,0.0,0.0],\n",
    "            [1.0,0.0,0.0,0.0,0.0,0.0,0.0,0.0,0.0,0.0,0.0,0.0,0.0,0.0,0.0,0.0,0.0,0.0,0.0,0.0,0.0,0.0,0.0,0.0,0.0],\n",
    "            [1.0,0.0,0.0,0.0,0.0,0.0,0.0,0.0,0.0,0.0,0.0,0.0,0.0,0.0,0.0,0.0,0.0,0.0,0.0,0.0,0.0,1.0,0.0,0.0,1.0],\n",
    "            [1.0,0.0,0.0,0.0,0.0,0.0,0.0,0.0,0.0,0.0,0.0,0.0,0.0,1.0,0.0,0.0,0.0,0.0,1.0,0.0,0.0,0.0,0.0,1.0,0.0],\n",
    "            [1.0,0.0,0.0,0.0,0.0,1.0,0.0,0.0,0.0,0.0,0.0,0.0,0.0,0.0,0.0,0.0,0.0,1.0,0.0,0.0,0.0,0.0,0.0,0.0,0.0],\n",
    "            [1.0,0.0,0.0,0.0,0.0,0.0,0.0,0.0,0.0,0.0,0.0,0.0,0.0,0.0,0.0,0.0,0.0,0.0,0.0,0.0,0.0,0.0,0.0,0.0,0.0],\n",
    "            [1.0,0.0,0.0,0.0,0.0,1.0,0.0,0.0,0.0,0.0,0.0,0.0,0.0,1.0,0.0,0.0,0.0,0.0,0.0,0.0,0.0,0.0,0.0,0.0,0.0],\n",
    "            [1.0,0.0,0.0,0.0,0.0,1.0,0.0,0.0,0.0,0.0,0.0,0.0,0.0,1.0,0.0,0.0,1.0,0.0,0.0,0.0,0.0,0.0,0.0,0.0,0.0],\n",
    "            [1.0,0.0,0.0,0.0,0.0,0.0,0.0,0.0,0.0,0.0,0.0,0.0,0.0,1.0,0.0,0.0,0.0,0.0,0.0,0.0,0.0,0.0,0.0,0.0,0.0],\n",
    "            [1.0,0.0,0.0,0.0,0.0,0.0,0.0,0.0,0.0,0.0,0.0,0.0,0.0,0.0,0.0,0.0,0.0,0.0,0.0,0.0,0.0,0.0,0.0,0.0,0.0],\n",
    "            [1.0,0.0,0.0,0.0,0.0,1.0,0.0,0.0,0.0,0.0,0.0,0.0,0.0,0.0,0.0,0.0,0.0,0.0,0.0,0.0,0.0,1.0,0.0,0.0,0.0]])\n"
   ]
  },
  {
   "cell_type": "code",
   "execution_count": 25,
   "id": "f170f1d0",
   "metadata": {},
   "outputs": [],
   "source": [
    "#II - Doc Python (Profondeur : 10) :\n",
    "\n",
    "DocPython = array([[0.0,0.0,0.0,0.0,0.0,0.0,0.0,0.0,0.0,0.0],\n",
    "             [1.0,1.0,1.0,1.0,1.0,0.0,0.0,0.0,0.0,0.0],\n",
    "             [1.0,1.0,1.0,1.0,1.0,1.0,1.0,1.0,0.0,0.0],\n",
    "             [1.0,1.0,1.0,1.0,1.0,1.0,1.0,1.0,0.0,0.0],\n",
    "             [1.0,1.0,1.0,1.0,1.0,1.0,1.0,1.0,0.0,0.0],\n",
    "             [1.0,1.0,1.0,1.0,1.0,1.0,1.0,1.0,0.0,0.0],\n",
    "             [1.0,1.0,1.0,1.0,1.0,1.0,1.0,1.0,0.0,0.0],\n",
    "             [1.0,1.0,1.0,1.0,1.0,1.0,1.0,1.0,0.0,0.0],\n",
    "             [1.0,1.0,1.0,1.0,1.0,1.0,1.0,1.0,0.0,0.0],\n",
    "             [1.0,1.0,1.0,1.0,1.0,1.0,1.0,1.0,0.0,0.0]])\n"
   ]
  },
  {
   "cell_type": "code",
   "execution_count": 26,
   "id": "413da828",
   "metadata": {},
   "outputs": [],
   "source": [
    "#III - GitHub (Profondeur : 20) :\n",
    "\n",
    "Github = array([[1.0,1.0,1.0,1.0,1.0,1.0,1.0,1.0,1.0,1.0,1.0,1.0,1.0,1.0,1.0,1.0,1.0,1.0,0.0,0.0],\n",
    "          [1.0,0.0,0.0,0.0,0.0,0.0,0.0,0.0,0.0,0.0,0.0,0.0,0.0,0.0,0.0,0.0,0.0,0.0,0.0,0.0],\n",
    "          [1.0,0.0,1.0,1.0,1.0,1.0,1.0,1.0,1.0,1.0,1.0,1.0,1.0,1.0,1.0,1.0,1.0,1.0,1.0,1.0],\n",
    "          [1.0,0.0,1.0,1.0,1.0,1.0,1.0,1.0,1.0,1.0,1.0,1.0,1.0,1.0,1.0,1.0,1.0,1.0,1.0,1.0],\n",
    "          [1.0,0.0,1.0,1.0,1.0,1.0,1.0,1.0,1.0,1.0,1.0,1.0,1.0,1.0,1.0,1.0,1.0,1.0,1.0,1.0],\n",
    "          [1.0,0.0,1.0,1.0,1.0,1.0,1.0,1.0,1.0,1.0,1.0,1.0,1.0,1.0,1.0,1.0,1.0,1.0,1.0,1.0],\n",
    "          [1.0,0.0,1.0,1.0,1.0,1.0,1.0,1.0,1.0,1.0,1.0,1.0,1.0,1.0,1.0,1.0,1.0,1.0,1.0,1.0],\n",
    "          [1.0,0.0,1.0,1.0,1.0,1.0,1.0,1.0,1.0,1.0,1.0,1.0,1.0,1.0,1.0,1.0,1.0,1.0,1.0,1.0],\n",
    "          [1.0,0.0,1.0,1.0,1.0,1.0,1.0,1.0,1.0,1.0,1.0,1.0,1.0,1.0,1.0,1.0,1.0,1.0,1.0,1.0],\n",
    "          [1.0,0.0,1.0,1.0,1.0,1.0,1.0,1.0,1.0,1.0,1.0,1.0,1.0,1.0,1.0,1.0,1.0,1.0,1.0,1.0],\n",
    "          [1.0,0.0,1.0,1.0,1.0,1.0,1.0,1.0,1.0,1.0,1.0,1.0,1.0,1.0,1.0,1.0,1.0,1.0,1.0,1.0],\n",
    "          [1.0,0.0,1.0,1.0,1.0,1.0,1.0,1.0,1.0,1.0,1.0,1.0,1.0,1.0,1.0,1.0,1.0,1.0,1.0,1.0],\n",
    "          [1.0,0.0,1.0,1.0,1.0,1.0,1.0,1.0,1.0,1.0,1.0,1.0,1.0,1.0,1.0,1.0,1.0,1.0,1.0,1.0],\n",
    "          [1.0,0.0,1.0,1.0,1.0,1.0,1.0,1.0,1.0,1.0,1.0,1.0,1.0,1.0,1.0,1.0,1.0,1.0,1.0,1.0],\n",
    "          [1.0,0.0,1.0,1.0,1.0,1.0,1.0,1.0,1.0,1.0,1.0,1.0,1.0,1.0,1.0,1.0,1.0,1.0,1.0,1.0],\n",
    "          [1.0,0.0,1.0,1.0,1.0,1.0,1.0,1.0,1.0,1.0,1.0,1.0,1.0,1.0,1.0,1.0,1.0,1.0,1.0,1.0],\n",
    "          [1.0,0.0,1.0,1.0,1.0,1.0,1.0,1.0,1.0,1.0,1.0,1.0,1.0,1.0,1.0,1.0,1.0,1.0,1.0,1.0],\n",
    "          [1.0,0.0,1.0,1.0,1.0,1.0,1.0,1.0,1.0,1.0,1.0,1.0,1.0,1.0,1.0,1.0,1.0,1.0,1.0,1.0],\n",
    "          [1.0,0.0,1.0,1.0,1.0,1.0,1.0,1.0,1.0,1.0,1.0,1.0,1.0,1.0,1.0,1.0,1.0,1.0,1.0,1.0],\n",
    "          [1.0,0.0,1.0,1.0,1.0,1.0,1.0,1.0,1.0,1.0,1.0,1.0,1.0,1.0,1.0,1.0,1.0,1.0,1.0,1.0]])\n"
   ]
  },
  {
   "cell_type": "code",
   "execution_count": 30,
   "id": "2f3a1491",
   "metadata": {},
   "outputs": [
    {
     "name": "stdout",
     "output_type": "stream",
     "text": [
      "Allocine : \n",
      "\n",
      " 1.0073309655567657 \n",
      "\n",
      "Vecteur des scores : \n",
      "[0.60862984 0.10378778 0.10414262 0.08927751 0.08957436 0.43820134\n",
      " 0.13992466 0.11610067 0.1258931  0.09423896 0.09510212 0.13126926\n",
      " 0.13227584 0.09889138 0.12939208 0.09702847 0.17825012 0.16728693\n",
      " 0.16708458 0.10499975 0.15276763 0.21002339 0.13016363 0.12781823\n",
      " 0.25102193]\n",
      "\n",
      "\n",
      "\n",
      "Doc Python : \n",
      "\n",
      " 1.0081614370426935 \n",
      "\n",
      "Vecteur des scores : \n",
      "[0.46687992 0.1733901  0.20589155 0.21745526 0.23254819 0.25271808\n",
      " 0.28046851 0.32000159 0.37859965 0.46897176]\n",
      "\n",
      "\n",
      "\n",
      "GitHub : \n",
      "\n",
      " 1.067075008123473 \n",
      "\n",
      "Vecteur des scores : \n",
      "[0.14075349 0.07581761 0.11375151 0.11700496 0.1206678  0.12481962\n",
      " 0.12956111 0.13502118 0.14136725 0.14882008 0.1576759  0.16833983\n",
      " 0.18137819 0.19760211 0.21820596 0.24500405 0.28085023 0.33040789\n",
      " 0.40160063 0.50833676]\n",
      "\n",
      "\n",
      "\n"
     ]
    }
   ],
   "source": [
    "print(\"Allocine : \\n\\n\",iterativePageRank(Allocine, 10**-5, 0.85)[0],\"\\n\")\n",
    "print(\"Vecteur des scores : \")\n",
    "print(iterativePageRank(Allocine, 10**-5, 0.85)[1])\n",
    "print()\n",
    "print()\n",
    "print()\n",
    "\n",
    "print(\"Doc Python : \\n\\n\",iterativePageRank(DocPython, 10**-5, 0.85)[0],\"\\n\")\n",
    "print(\"Vecteur des scores : \")\n",
    "print(iterativePageRank(DocPython, 10**-5, 0.85)[1])\n",
    "print()\n",
    "print()\n",
    "print()\n",
    "\n",
    "print(\"GitHub : \\n\\n\",iterativePageRank(Github, 10**-5, 0.85)[0],\"\\n\")\n",
    "print(\"Vecteur des scores : \")\n",
    "print(iterativePageRank(Github, 10**-5, 0.85)[1])\n",
    "print()\n",
    "print()\n",
    "print()\n"
   ]
  },
  {
   "cell_type": "code",
   "execution_count": 31,
   "id": "ce470ae3",
   "metadata": {},
   "outputs": [
    {
     "name": "stdout",
     "output_type": "stream",
     "text": [
      "Analyse & Interprétation :\n"
     ]
    },
    {
     "data": {
      "image/png": "[encoded data removed]",
      "text/plain": [
       "<Figure size 360x360 with 1 Axes>"
      ]
     },
     "metadata": {
      "needs_background": "light"
     },
     "output_type": "display_data"
    },
    {
     "name": "stdout",
     "output_type": "stream",
     "text": [
      "\n",
      "\n",
      "Nous pouvons observer que la différence de score PageRank entre GitHub et les autres sites est importante, cela peut s'expliquer par le fait que le site soit utilisé par des millions d'utilisateurs dans le monde mais également que ce dernier est reconnu par beaucoup, ce qui pousse les administrateurs de sites web réputés d'inclure des liens vers \n",
      "GitHub.\n"
     ]
    }
   ],
   "source": [
    "print(\"Analyse & Interprétation :\")\n",
    "\n",
    "#Affichage graphe en barres de Allocine, Doc Python et GitHub\n",
    "\n",
    "\n",
    "data = {'Allocine':iterativePageRank(Allocine, 10**-5, 0.85)[0], 'Doc Python':iterativePageRank(DocPython, 10**-5, 0.85)[0],\n",
    "        'GitHub':iterativePageRank(Github, 10**-5, 0.85)[0]}\n",
    "keys = list(data.keys())\n",
    "val = list(data.values())\n",
    "\n",
    "fig = plt.figure(figsize = (5, 5))\n",
    " \n",
    "plt.bar(keys, val, color ='blue',\n",
    "        width = 0.4)\n",
    " \n",
    "plt.ylabel(\"Score PageRank\")\n",
    "plt.title(\"Comparaison des résultats PageRank des sites choisis\")\n",
    "plt.show()\n",
    "\n",
    "\n",
    "print (\"\\n\\nNous pouvons observer que la différence de score PageRank entre GitHub et les autres sites est importante, cela peut s'expliquer par le fait que le site soit utilisé par des millions d'utilisateurs dans le monde mais également que ce dernier est reconnu par beaucoup, ce qui pousse les administrateurs de sites web réputés d'inclure des liens vers \\nGitHub.\")"
   ]
  },
  {
   "cell_type": "markdown",
   "id": "a9b7585b",
   "metadata": {},
   "source": [
    "## Question 2"
   ]
  },
  {
   "cell_type": "code",
   "execution_count": 34,
   "id": "3d7042f5",
   "metadata": {},
   "outputs": [
    {
     "name": "stdout",
     "output_type": "stream",
     "text": [
      "Gare du Nord, Paris\n",
      " [[0. 0. 0. ... 0. 0. 0.]\n",
      " [0. 0. 0. ... 0. 0. 0.]\n",
      " [0. 0. 0. ... 0. 0. 0.]\n",
      " ...\n",
      " [0. 0. 0. ... 0. 1. 0.]\n",
      " [0. 0. 0. ... 0. 0. 0.]\n",
      " [0. 0. 0. ... 0. 0. 0.]] \n",
      "\n",
      "\n",
      "\n",
      "413 avenue Gaston Berger, Aix en Provence\n",
      " [[0. 0. 0. ... 0. 0. 0.]\n",
      " [0. 0. 0. ... 0. 0. 0.]\n",
      " [0. 0. 0. ... 0. 0. 0.]\n",
      " ...\n",
      " [0. 0. 0. ... 0. 0. 0.]\n",
      " [0. 0. 0. ... 0. 0. 0.]\n",
      " [0. 0. 0. ... 0. 0. 0.]]\n"
     ]
    }
   ],
   "source": [
    "GareDuNord = load(\"Gare_du_nord_Paris_France_Matrice.npy\")\n",
    "print (\"Gare du Nord, Paris\\n\",GareDuNord,\"\\n\\n\\n\")\n",
    "\n",
    "GastonBerger = load(\"Gaston_Berger.npy\")\n",
    "print (\"413 avenue Gaston Berger, Aix en Provence\\n\",GastonBerger)"
   ]
  },
  {
   "cell_type": "code",
   "execution_count": 35,
   "id": "77847055",
   "metadata": {},
   "outputs": [
    {
     "name": "stdout",
     "output_type": "stream",
     "text": [
      "Analyse & Interprétation :\n"
     ]
    },
    {
     "ename": "KeyboardInterrupt",
     "evalue": "",
     "output_type": "error",
     "traceback": [
      "\u001b[0;31m---------------------------------------------------------------------------\u001b[0m",
      "\u001b[0;31mKeyboardInterrupt\u001b[0m                         Traceback (most recent call last)",
      "Input \u001b[0;32mIn [35]\u001b[0m, in \u001b[0;36m<cell line: 15>\u001b[0;34m()\u001b[0m\n\u001b[1;32m      8\u001b[0m \u001b[38;5;28mprint\u001b[39m(\u001b[38;5;124m\"\u001b[39m\u001b[38;5;124mAnalyse & Interprétation :\u001b[39m\u001b[38;5;124m\"\u001b[39m)\n\u001b[1;32m     11\u001b[0m \u001b[38;5;66;03m#Affichage graphe en barres de Gare du Nord et 413 Gaston Berger\u001b[39;00m\n\u001b[1;32m     12\u001b[0m \n\u001b[1;32m     13\u001b[0m \u001b[38;5;66;03m#, '413 Avenue Gaston Berger, Aix en Provence':\u001b[39;00m\n\u001b[1;32m     14\u001b[0m \u001b[38;5;66;03m#iterativePageRank(GastonBerger, 10**-5, 0.85)[0]\u001b[39;00m\n\u001b[0;32m---> 15\u001b[0m data \u001b[38;5;241m=\u001b[39m {\u001b[38;5;124m'\u001b[39m\u001b[38;5;124mGare du Nord, Paris\u001b[39m\u001b[38;5;124m'\u001b[39m:\u001b[43miterativePageRank\u001b[49m\u001b[43m(\u001b[49m\u001b[43mGareDuNord\u001b[49m\u001b[43m,\u001b[49m\u001b[43m \u001b[49m\u001b[38;5;241;43m10\u001b[39;49m\u001b[38;5;241;43m*\u001b[39;49m\u001b[38;5;241;43m*\u001b[39;49m\u001b[38;5;241;43m-\u001b[39;49m\u001b[38;5;241;43m5\u001b[39;49m\u001b[43m,\u001b[49m\u001b[43m \u001b[49m\u001b[38;5;241;43m0.85\u001b[39;49m\u001b[43m)\u001b[49m[\u001b[38;5;241m0\u001b[39m]}\n\u001b[1;32m     16\u001b[0m keys \u001b[38;5;241m=\u001b[39m \u001b[38;5;28mlist\u001b[39m(data\u001b[38;5;241m.\u001b[39mkeys())\n\u001b[1;32m     17\u001b[0m val \u001b[38;5;241m=\u001b[39m \u001b[38;5;28mlist\u001b[39m(data\u001b[38;5;241m.\u001b[39mvalues())\n",
      "Input \u001b[0;32mIn [13]\u001b[0m, in \u001b[0;36miterativePageRank\u001b[0;34m(M, e, a)\u001b[0m\n\u001b[1;32m      1\u001b[0m \u001b[38;5;28;01mdef\u001b[39;00m \u001b[38;5;21miterativePageRank\u001b[39m(M, e, a):\n\u001b[0;32m----> 2\u001b[0m     M2 \u001b[38;5;241m=\u001b[39m \u001b[43mpageRankMatrice\u001b[49m\u001b[43m(\u001b[49m\u001b[43mM\u001b[49m\u001b[43m)\u001b[49m\n\u001b[1;32m      3\u001b[0m     M2 \u001b[38;5;241m=\u001b[39m transitionMatrice(M2, a)\n\u001b[1;32m      4\u001b[0m     \u001b[38;5;28;01mreturn\u001b[39;00m puissance_iteree(e, M2)\n",
      "Input \u001b[0;32mIn [6]\u001b[0m, in \u001b[0;36mpageRankMatrice\u001b[0;34m(M)\u001b[0m\n\u001b[1;32m     10\u001b[0m \u001b[38;5;28;01mfor\u001b[39;00m i \u001b[38;5;129;01min\u001b[39;00m \u001b[38;5;28mrange\u001b[39m(N):\n\u001b[1;32m     11\u001b[0m     \u001b[38;5;28;01mfor\u001b[39;00m j \u001b[38;5;129;01min\u001b[39;00m \u001b[38;5;28mrange\u001b[39m(N):\n\u001b[0;32m---> 12\u001b[0m         \u001b[38;5;28;01mif\u001b[39;00m (\u001b[43mnombreLinks\u001b[49m\u001b[43m(\u001b[49m\u001b[43mM\u001b[49m\u001b[43m,\u001b[49m\u001b[43m \u001b[49m\u001b[43mj\u001b[49m\u001b[43m)\u001b[49m \u001b[38;5;241m!=\u001b[39m \u001b[38;5;241m0\u001b[39m):\n\u001b[1;32m     13\u001b[0m             Q[i][j] \u001b[38;5;241m=\u001b[39m Q[i][j] \u001b[38;5;241m/\u001b[39m nombreLinks(M, j)\n\u001b[1;32m     14\u001b[0m         \u001b[38;5;28;01melse\u001b[39;00m:\n",
      "Input \u001b[0;32mIn [6]\u001b[0m, in \u001b[0;36mnombreLinks\u001b[0;34m(M, j)\u001b[0m\n\u001b[1;32m      2\u001b[0m count \u001b[38;5;241m=\u001b[39m \u001b[38;5;241m0\u001b[39m\n\u001b[1;32m      3\u001b[0m \u001b[38;5;28;01mfor\u001b[39;00m i \u001b[38;5;129;01min\u001b[39;00m \u001b[38;5;28mrange\u001b[39m(\u001b[38;5;28mlen\u001b[39m(M)):\n\u001b[0;32m----> 4\u001b[0m     count \u001b[38;5;241m=\u001b[39m count \u001b[38;5;241m+\u001b[39m \u001b[43mM\u001b[49m\u001b[43m[\u001b[49m\u001b[43mi\u001b[49m\u001b[43m]\u001b[49m[j]\n\u001b[1;32m      5\u001b[0m \u001b[38;5;28;01mreturn\u001b[39;00m count\n",
      "\u001b[0;31mKeyboardInterrupt\u001b[0m: "
     ]
    }
   ],
   "source": [
    "#print(\"\\n\\n\\n____________________________________________________________\\n\\nGare du Nord, Paris : \\n\\n\",\n",
    "#      directPageRank(GareDuNord, 10**-5, 0.85)[0],\"\\n\\n\")\n",
    "\n",
    "#print(\"413 avenue Gaston Berger, Aix en Provence : \\n\\n\",iterativePageRank(GastonBerger, 10**-5, 0.85),\"\\n\\n\")\n",
    "\n",
    "\n",
    "\n",
    "print(\"Analyse & Interprétation :\")\n",
    "\n",
    "\n",
    "#Affichage graphe en barres de Gare du Nord et 413 Gaston Berger\n",
    "\n",
    "#, '413 Avenue Gaston Berger, Aix en Provence':\n",
    "#iterativePageRank(GastonBerger, 10**-5, 0.85)[0]\n",
    "data = {'Gare du Nord, Paris':iterativePageRank(GareDuNord, 10**-5, 0.85)[0]}\n",
    "keys = list(data.keys())\n",
    "val = list(data.values())\n",
    "\n",
    "fig = plt.figure(figsize = (5, 5))\n",
    " \n",
    "plt.bar(keys, val, color ='blue',\n",
    "        width = 0.4)\n",
    "\n",
    "plt.ylabel(\"PageRank score\")\n",
    "plt.title(\"Comparaison des résultats PageRank entre les lieux choisis\")\n",
    "plt.show()\n",
    "\n"
   ]
  },
  {
   "cell_type": "markdown",
   "id": "bdba35b5",
   "metadata": {},
   "source": [
    "Nous avons tenté d'exécuter la cellule ci-dessus mais après 30min d'attente le programme python n'ayant pas retourné de résultat, il fut donc impossible pour nous d'analyser quelconque ville.  \n",
    "Aurions nous eu accès à ces résultats, nous aurions affiché les scores des 10 premieres pages avec score le plus haut de chaque lieu sur un graphique.  \n",
    "Sur un autre, nous aurions affiché les scores des 10 dernières pages du classement de chaque lieu afin de pouvoir comparer.  "
   ]
  },
  {
   "cell_type": "markdown",
   "id": "8f2061bf",
   "metadata": {},
   "source": [
    "## Partie 5 : PageRank - calcul direct des scores et comparaisons d’algorithmes"
   ]
  },
  {
   "cell_type": "markdown",
   "id": "51c1b194",
   "metadata": {},
   "source": [
    "### Question 1"
   ]
  },
  {
   "cell_type": "code",
   "execution_count": null,
   "id": "9dc9d94b",
   "metadata": {},
   "outputs": [],
   "source": []
  },
  {
   "cell_type": "markdown",
   "id": "0d570015",
   "metadata": {},
   "source": [
    "### Question 2 :"
   ]
  },
  {
   "cell_type": "code",
   "execution_count": null,
   "id": "ae7fd2f7",
   "metadata": {},
   "outputs": [],
   "source": []
  },
  {
   "cell_type": "markdown",
   "id": "150dc529",
   "metadata": {},
   "source": [
    "### Question 3 :"
   ]
  },
  {
   "cell_type": "code",
   "execution_count": null,
   "id": "049a1534",
   "metadata": {},
   "outputs": [],
   "source": []
  },
  {
   "cell_type": "markdown",
   "id": "bd09dd90",
   "metadata": {},
   "source": [
    "### Question 4 :"
   ]
  },
  {
   "cell_type": "code",
   "execution_count": null,
   "id": "fba3a81c",
   "metadata": {},
   "outputs": [],
   "source": []
  }
 ],
 "metadata": {
  "kernelspec": {
   "display_name": "Python 3 (ipykernel)",
   "language": "python",
   "name": "python3"
  },
  "language_info": {
   "codemirror_mode": {
    "name": "ipython",
    "version": 3
   },
   "file_extension": ".py",
   "mimetype": "text/x-python",
   "name": "python",
   "nbconvert_exporter": "python",
   "pygments_lexer": "ipython3",
   "version": "3.9.12"
  }
 },
 "nbformat": 4,
 "nbformat_minor": 5
}
