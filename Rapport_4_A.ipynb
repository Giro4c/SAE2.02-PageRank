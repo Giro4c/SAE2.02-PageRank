{
 "cells": [
  {
   "cell_type": "markdown",
   "id": "c74a23ca",
   "metadata": {},
   "source": [
    "# SAE S2.02 : \n",
    "# Exploration algorithmique d’un problème\n",
    "\n",
    "BRAHMI Moundir - Partie 5  - 23%\n",
    "DELIN Maxime  - Partie 4  - 23%\n",
    "GIRODENGO Camille  - Partie 1, 2, Algorithme PageRank itératif  - 31%\n",
    "ROUBAUD Axel  - Partie 3  -  23%\n"
   ]
  },
  {
   "cell_type": "code",
   "execution_count": 1,
   "id": "a781165f",
   "metadata": {},
   "outputs": [],
   "source": [
    "import networkx as nx\n",
    "from numpy import *\n",
    "import matplotlib.pyplot as plt\n",
    "import random as rd"
   ]
  },
  {
   "cell_type": "markdown",
   "id": "397c52ab",
   "metadata": {},
   "source": [
    "## Partie 1 : PageRank - version itérative, premier exemple"
   ]
  },
  {
   "cell_type": "code",
   "execution_count": 2,
   "id": "68d200a6",
   "metadata": {},
   "outputs": [
    {
     "data": {
      "image/png": "[encoded data removed]",
      "text/plain": [
       "<Figure size 432x288 with 1 Axes>"
      ]
     },
     "metadata": {},
     "output_type": "display_data"
    }
   ],
   "source": [
    "A = array([[0.0,1.0,1.0,1.0,1.0,1.0,0.0,0.0,0.0,0.0,0.0,0.0,0.0,0.0],\n",
    "[1.0,0.0,1.0,0.0,0.0,0.0,0.0,0.0,0.0,0.0,0.0,0.0,0.0,0.0],\n",
    "[1.0,0.0,0.0,1.0,0.0,0.0,0.0,0.0,0.0,0.0,0.0,0.0,0.0,0.0],\n",
    "[1.0,0.0,0.0,0.0,1.0,0.0,0.0,0.0,0.0,0.0,0.0,0.0,0.0,0.0],\n",
    "[1.0,1.0,0.0,0.0,0.0,0.0,0.0,0.0,0.0,0.0,0.0,0.0,0.0,0.0],\n",
    "[0,0,0,0,0,0,1,1,1,0,0,0,0,0],\n",
    "[1,0,0,0,0,0,0,1,0,0,0,0,0,0],\n",
    "[0,0,0,0,0,1,0,0,0,0,0,0,0,0],\n",
    "[0,0,0,0,0,0,0,1,0,1,0,0,0,0],\n",
    "[0,0,0,0,0,1,0,0,0,0,1,1,1,1],\n",
    "[0,0,0,0,0,0,0,0,0,1,0,1,0,0],\n",
    "[0,0,0,0,0,0,0,0,0,1,0,0,1,0],\n",
    "[0,0,0,0,0,0,0,0,0,1,0,0,0,1],\n",
    "[0,0,0,0,0,0,0,0,0,1,1,0,0,0]])\n",
    "\n",
    "G1 = nx.DiGraph(A)\n",
    "pos = nx.circular_layout(G1)\n",
    "nx.draw(G1,with_labels=True)\n",
    "plt.show()"
   ]
  },
  {
   "cell_type": "markdown",
   "id": "f4ba85ef",
   "metadata": {},
   "source": [
    "### Question 1\n",
    "\n",
    "Voici l'algorithme de la puissance itérée :"
   ]
  },
  {
   "cell_type": "code",
   "execution_count": 3,
   "id": "3cb3ed50",
   "metadata": {},
   "outputs": [],
   "source": [
    "def norme(X):\n",
    "    norm = 0\n",
    "    for i in range(len(X)):\n",
    "        norm = norm + X[i]**2\n",
    "    return sqrt(norm)\n",
    "\n",
    "def puissance_iteree(e, M):\n",
    "    Xbis = []\n",
    "    for i in range(len(M)):\n",
    "        Xbis.append(rd.randint(0, 100))\n",
    "    Xbis = array(Xbis)\n",
    "    while (True):\n",
    "        prevXbis = Xbis\n",
    "        Xbis = (M.dot(Xbis)) / norme(M.dot(Xbis))\n",
    "        if (norme(Xbis - prevXbis) < e):\n",
    "            break\n",
    "    return norme(M.dot(Xbis)), Xbis"
   ]
  },
  {
   "cell_type": "markdown",
   "id": "5c9c4fa8",
   "metadata": {},
   "source": [
    "Et voici l'algorithme de transformation en matrice PageRank :"
   ]
  },
  {
   "cell_type": "code",
   "execution_count": 4,
   "id": "56111f06",
   "metadata": {},
   "outputs": [],
   "source": [
    "def nombreLinks(M, j):\n",
    "    count = 0\n",
    "    for i in range(len(M)):\n",
    "        count = count + M[i][j]\n",
    "    return count;\n",
    "\n",
    "def pageRankMatrice(M):\n",
    "    Q = M\n",
    "    N = len(Q)\n",
    "    for i in range(N):\n",
    "        for j in range(N):\n",
    "            if (nombreLinks(M, j) != 0):\n",
    "                Q[i][j] = Q[i][j] / nombreLinks(M, j)\n",
    "            else:\n",
    "                Q[i][j] = 0\n",
    "    return Q"
   ]
  },
  {
   "cell_type": "markdown",
   "id": "19420caf",
   "metadata": {},
   "source": [
    "L'algorithme de la puissance itérée permet de calculer la valeur propre la plus grande et le vecteur propre associé d'une matrice \"M\".  \n",
    "Ce vecteur propre \"v\" a la particularité d'être solution de l'équation :  \n",
    "    v = M v  \n",
    "  \n",
    "Or en regardant le principe de l'algorithme de PageRank et son explication en notations matricielles, on remarque que le principe est le même :  \n",
    "Le vecteur r des scores est solution de l'équation r = Q r  où Q est la matrice d'adjacence des scores.  \n",
    "\n",
    "### Question 2"
   ]
  },
  {
   "cell_type": "code",
   "execution_count": 5,
   "id": "f08469e0",
   "metadata": {},
   "outputs": [
    {
     "name": "stdout",
     "output_type": "stream",
     "text": [
      "\n",
      "Valeur propre trouvée :\n",
      "1.2775160126453826\n",
      "\n",
      "Vecteur de scores trouvé :\n",
      "[0.14980256 0.05770013 0.06562388 0.07224721 0.07308271 0.17112434\n",
      " 0.07522253 0.05740833 0.12425245 0.63075587 0.2972985  0.34443722\n",
      " 0.38484683 0.39077212]\n"
     ]
    }
   ],
   "source": [
    "# Application de l'algo transition 1 PageRank\n",
    "A2 = pageRankMatrice(A)\n",
    "#print(\"Matrice PageRank obtenue :\")\n",
    "#print(A2)\n",
    "print()\n",
    "print(\"Valeur propre trouvée :\")\n",
    "print(puissance_iteree(10**-5, A2)[0])\n",
    "print()\n",
    "print(\"Vecteur de scores trouvé :\")\n",
    "print(puissance_iteree(10**-5, A2)[1])"
   ]
  },
  {
   "cell_type": "markdown",
   "id": "9738a04d",
   "metadata": {},
   "source": [
    "Vérification du vecteur des scores :"
   ]
  },
  {
   "cell_type": "code",
   "execution_count": 6,
   "id": "a15c395e",
   "metadata": {},
   "outputs": [
    {
     "name": "stdout",
     "output_type": "stream",
     "text": [
      "Norme de r : \n",
      "1.0\n",
      "Valeur de r :\n",
      "[0.14980517 0.05770132 0.06562521 0.07224867 0.07308417 0.17112549\n",
      " 0.07522371 0.05740873 0.12425254 0.63075537 0.29729802 0.34443669\n",
      " 0.38484626 0.39077156]\n",
      "\n",
      "Norme de Ar :\n",
      "1.2775161941473177\n",
      "Valeur de Ar :\n",
      "[0.19137152 0.07371118 0.08383368 0.09229492 0.09336227 0.21861249\n",
      " 0.09609632 0.0733395  0.15873441 0.80580155 0.37980431 0.44002487\n",
      " 0.49164886 0.49921851]\n",
      "\n",
      "Vérifications\n",
      "Norme de Ar - r :\n",
      "0.27751619433679536\n",
      "Valeur de Ar - r :\n",
      "[0.04156635 0.01600986 0.01820846 0.02004625 0.0202781  0.047487\n",
      " 0.02087261 0.01593076 0.03448187 0.17504618 0.08250629 0.09558818\n",
      " 0.1068026  0.10844695]\n"
     ]
    }
   ],
   "source": [
    "l,r = puissance_iteree(10**-5, A2)\n",
    "\n",
    "print(\"Norme de r : \")\n",
    "print(norme(r))\n",
    "print(\"Valeur de r :\")\n",
    "print(r)\n",
    "print()\n",
    "print(\"Norme de Ar :\")\n",
    "print(l)\n",
    "print(\"Valeur de Ar :\")\n",
    "print(A2.dot(r))\n",
    "print()\n",
    "print(\"Vérifications\")\n",
    "print(\"Norme de Ar - r :\")\n",
    "print(norme(A2.dot(r) - r))\n",
    "print(\"Valeur de Ar - r :\")\n",
    "print(A2.dot(r) - r)"
   ]
  },
  {
   "cell_type": "markdown",
   "id": "4bb3b05d",
   "metadata": {},
   "source": [
    "En tentant de faire la vérification numérique avec linalg.solve(A, r), la fonction renvoie une erreur LinAlgError de type Singular matrix.  \n",
    "  \n",
    "Nous avons donc réalisé la vérification manuellement en faisant la soustraction entre Ar et r et en vérifiant la valeur de la norme de r.  \n",
    "De ce que l'on peut observer, la norme de r se rapproche effectivement de 1 et la différence entre Ar et r est proche de 0, avec une marge de 0.1 en moyenne.  \n",
    "Ce n'est effectivement pas le plus préci des résultats mais cela reste un résultat correct.  \n"
   ]
  },
  {
   "cell_type": "markdown",
   "id": "a390b4ff",
   "metadata": {},
   "source": [
    "## Partie 2 : PageRank - version itérative, deuxième example"
   ]
  },
  {
   "cell_type": "code",
   "execution_count": 7,
   "id": "e3a76ffb",
   "metadata": {},
   "outputs": [
    {
     "data": {
      "image/png": "[encoded data removed]",
      "text/plain": [
       "<Figure size 432x288 with 1 Axes>"
      ]
     },
     "metadata": {},
     "output_type": "display_data"
    }
   ],
   "source": [
    "B = array([[0.0,0.0,0.0,0.0,0.0],\n",
    "[1.0,0.0,0.0,0.0,0.0],\n",
    "[1.0,0.0,0.0,0.0,0.0],\n",
    "[1.0,1.0,1.0,0.0,0.0],\n",
    "[1.0,1.0,0.0,0.0,0.0]])\n",
    "\n",
    "G2 = nx.DiGraph(B)\n",
    "pos = nx.circular_layout(G2)\n",
    "nx.draw(G2,with_labels=True)\n",
    "plt.show()"
   ]
  },
  {
   "cell_type": "markdown",
   "id": "23b74efa",
   "metadata": {},
   "source": [
    "### Question 1"
   ]
  },
  {
   "cell_type": "code",
   "execution_count": 8,
   "id": "7e9b2c8b",
   "metadata": {},
   "outputs": [
    {
     "name": "stdout",
     "output_type": "stream",
     "text": [
      "[[0.         0.         0.         0.         0.        ]\n",
      " [0.25       0.         0.         0.         0.        ]\n",
      " [0.30769231 0.         0.         0.         0.        ]\n",
      " [0.39097744 0.5        1.         0.         0.        ]\n",
      " [0.51317059 0.66666667 0.         0.         0.        ]]\n",
      "Resultat des scores : \n"
     ]
    },
    {
     "name": "stderr",
     "output_type": "stream",
     "text": [
      "/tmp/ipykernel_7417/421269999.py:14: RuntimeWarning: invalid value encountered in true_divide\n",
      "  Xbis = (M.dot(Xbis)) / norme(M.dot(Xbis))\n"
     ]
    },
    {
     "ename": "KeyboardInterrupt",
     "evalue": "",
     "output_type": "error",
     "traceback": [
      "\u001b[0;31m---------------------------------------------------------------------------\u001b[0m",
      "\u001b[0;31mKeyboardInterrupt\u001b[0m                         Traceback (most recent call last)",
      "Input \u001b[0;32mIn [8]\u001b[0m, in \u001b[0;36m<cell line: 7>\u001b[0;34m()\u001b[0m\n\u001b[1;32m      4\u001b[0m \u001b[38;5;28mprint\u001b[39m(B2)\n\u001b[1;32m      6\u001b[0m \u001b[38;5;28mprint\u001b[39m(\u001b[38;5;124m\"\u001b[39m\u001b[38;5;124mResultat des scores : \u001b[39m\u001b[38;5;124m\"\u001b[39m)\n\u001b[0;32m----> 7\u001b[0m \u001b[38;5;28mprint\u001b[39m(\u001b[43mpuissance_iteree\u001b[49m\u001b[43m(\u001b[49m\u001b[38;5;241;43m10\u001b[39;49m\u001b[38;5;241;43m*\u001b[39;49m\u001b[38;5;241;43m*\u001b[39;49m\u001b[38;5;241;43m-\u001b[39;49m\u001b[38;5;241;43m5\u001b[39;49m\u001b[43m,\u001b[49m\u001b[43m \u001b[49m\u001b[43mB2\u001b[49m\u001b[43m)\u001b[49m[\u001b[38;5;241m1\u001b[39m])\n",
      "Input \u001b[0;32mIn [3]\u001b[0m, in \u001b[0;36mpuissance_iteree\u001b[0;34m(e, M)\u001b[0m\n\u001b[1;32m     12\u001b[0m \u001b[38;5;28;01mwhile\u001b[39;00m (\u001b[38;5;28;01mTrue\u001b[39;00m):\n\u001b[1;32m     13\u001b[0m     prevXbis \u001b[38;5;241m=\u001b[39m Xbis\n\u001b[0;32m---> 14\u001b[0m     Xbis \u001b[38;5;241m=\u001b[39m (M\u001b[38;5;241m.\u001b[39mdot(Xbis)) \u001b[38;5;241m/\u001b[39m \u001b[43mnorme\u001b[49m\u001b[43m(\u001b[49m\u001b[43mM\u001b[49m\u001b[38;5;241;43m.\u001b[39;49m\u001b[43mdot\u001b[49m\u001b[43m(\u001b[49m\u001b[43mXbis\u001b[49m\u001b[43m)\u001b[49m\u001b[43m)\u001b[49m\n\u001b[1;32m     15\u001b[0m     \u001b[38;5;28;01mif\u001b[39;00m (norme(Xbis \u001b[38;5;241m-\u001b[39m prevXbis) \u001b[38;5;241m<\u001b[39m e):\n\u001b[1;32m     16\u001b[0m         \u001b[38;5;28;01mbreak\u001b[39;00m\n",
      "Input \u001b[0;32mIn [3]\u001b[0m, in \u001b[0;36mnorme\u001b[0;34m(X)\u001b[0m\n\u001b[1;32m      3\u001b[0m \u001b[38;5;28;01mfor\u001b[39;00m i \u001b[38;5;129;01min\u001b[39;00m \u001b[38;5;28mrange\u001b[39m(\u001b[38;5;28mlen\u001b[39m(X)):\n\u001b[1;32m      4\u001b[0m     norm \u001b[38;5;241m=\u001b[39m norm \u001b[38;5;241m+\u001b[39m X[i]\u001b[38;5;241m*\u001b[39m\u001b[38;5;241m*\u001b[39m\u001b[38;5;241m2\u001b[39m\n\u001b[0;32m----> 5\u001b[0m \u001b[38;5;28;01mreturn\u001b[39;00m \u001b[43msqrt\u001b[49m\u001b[43m(\u001b[49m\u001b[43mnorm\u001b[49m\u001b[43m)\u001b[49m\n",
      "\u001b[0;31mKeyboardInterrupt\u001b[0m: "
     ]
    }
   ],
   "source": [
    "# Application de l'algo transition 1 PageRank\n",
    "B2 = pageRankMatrice(B)\n",
    "\n",
    "print(B2)\n",
    "\n",
    "print(\"Resultat des scores : \")\n",
    "print(puissance_iteree(10**-5, B2)[1])"
   ]
  },
  {
   "cell_type": "markdown",
   "id": "3ef66636",
   "metadata": {},
   "source": [
    "En appliquant l'algorithme de la partie 1, on se retrouve avec une erreur. Il est donc probable que la matrice PageRank transition B2 ne puisse par être traitée par un algorithme de puissance itérée car les vecteurs de score formés ont des normes nulles.  \n",
    "  \n",
    "On va définir un algorithme qui renvoie une matrice de transition secondaire pour palier à ce problème :  "
   ]
  },
  {
   "cell_type": "code",
   "execution_count": 9,
   "id": "c66dbd8b",
   "metadata": {},
   "outputs": [],
   "source": [
    "def transitionMatrice(M, a):\n",
    "    P = M\n",
    "    N = len(P)\n",
    "    for i in range(N):\n",
    "        for j in range(N):\n",
    "            if (nombreLinks(M, j) != 0):\n",
    "                P[i][j] = a*M[i][j] + ((1 - a)/N)\n",
    "            else:\n",
    "                P[i][j] = 1/N\n",
    "    return P\n"
   ]
  },
  {
   "cell_type": "markdown",
   "id": "1b4a2ebc",
   "metadata": {},
   "source": [
    "### Question 2"
   ]
  },
  {
   "cell_type": "code",
   "execution_count": 10,
   "id": "55cd749e",
   "metadata": {},
   "outputs": [
    {
     "name": "stdout",
     "output_type": "stream",
     "text": [
      "Matrice de transition pour B :\n",
      "[[0.03       0.03       0.03       0.2        0.2       ]\n",
      " [0.2425     0.03       0.03       0.03       0.03      ]\n",
      " [0.29153846 0.03       0.03       0.03       0.03      ]\n",
      " [0.36233083 0.455      0.88       0.03       0.03      ]\n",
      " [0.466195   0.59666667 0.03       0.03       0.03      ]]\n",
      "\n",
      "Norme de r : \n",
      "1.0\n",
      "Valeur de r :\n",
      "[0.38842851 0.20942279 0.2371524  0.70019792 0.50867181]\n",
      "\n",
      "Norme de B3 r :\n",
      "0.6869285937532533\n",
      "Valeur de B3 r :\n",
      "[0.26682406 0.14385726 0.1629052  0.48098719 0.34941969]\n",
      "\n",
      "Vérifications\n",
      "Norme de B3 r - r :\n",
      "0.31307140626940927\n",
      "Valeur de B3 r - r :\n",
      "[-0.12160446 -0.06556553 -0.0742472  -0.21921072 -0.15925211]\n"
     ]
    }
   ],
   "source": [
    "B3 = transitionMatrice(B2, 0.85)\n",
    "\n",
    "print(\"Matrice de transition pour B :\")\n",
    "print(B3)\n",
    "print()\n",
    "\n",
    "l,r = puissance_iteree(10**-5, B3)\n",
    "\n",
    "print(\"Norme de r : \")\n",
    "print(norme(r))\n",
    "print(\"Valeur de r :\")\n",
    "print(r)\n",
    "print()\n",
    "\n",
    "print(\"Norme de B3 r :\")\n",
    "print(l)\n",
    "print(\"Valeur de B3 r :\")\n",
    "print(B3.dot(r))\n",
    "print()\n",
    "\n",
    "print(\"Vérifications\")\n",
    "print(\"Norme de B3 r - r :\")\n",
    "print(norme(B3.dot(r) - r))\n",
    "print(\"Valeur de B3 r - r :\")\n",
    "print(B3.dot(r) - r)"
   ]
  },
  {
   "cell_type": "markdown",
   "id": "75362593",
   "metadata": {},
   "source": [
    "Grâce à cet algorithme de transition, il est désormais possible de calculer les scores PageRank de matrices auquelles l'algorithme de puissance itérée ne peux normalement pas s'appliquer.  \n",
    "De plus, on remarque que le calcul des scores est beaucoup plus précis car le vecteur différence entre B3 et r a maintenant une marge d'environ 0.05 en moyenne. Une nette amélioration par rapport aux résultats de la partie 1.  \n",
    "  \n",
    "Voici donc le nouvel algorithme \"iterativePageRank\" :  \n"
   ]
  },
  {
   "cell_type": "code",
   "execution_count": 11,
   "id": "2c522277",
   "metadata": {},
   "outputs": [],
   "source": [
    "def iterativePageRank(M, e, a):\n",
    "    M2 = pageRankMatrice(M)\n",
    "    M2 = transitionMatrice(M2, a)\n",
    "    return puissance_iteree(e, M2)"
   ]
  },
  {
   "cell_type": "markdown",
   "id": "87494f37",
   "metadata": {},
   "source": [
    "## Partie 3 : PageRank - version itéerative, analyse"
   ]
  },
  {
   "cell_type": "markdown",
   "id": "1faee6b0",
   "metadata": {},
   "source": [
    "### Question 1"
   ]
  },
  {
   "cell_type": "code",
   "execution_count": 12,
   "id": "3fbf8a07",
   "metadata": {},
   "outputs": [
    {
     "name": "stdout",
     "output_type": "stream",
     "text": [
      "\n",
      "Valeur des scores de A3 :  1.0580307724797084 [0.32083474 0.14554203 0.160179   0.1734674  0.17638826 0.30125725\n",
      " 0.16590944 0.11762002 0.13672773 0.54950141 0.24037622 0.27783411\n",
      " 0.31289525 0.32153219]\n",
      "\n",
      "Valeur de la différence A3*r - r :  [0.01861484 0.00844439 0.00929358 0.01006455 0.01023404 0.01748046\n",
      " 0.00962629 0.00682496 0.00793438 0.03189019 0.01395061 0.01612455\n",
      " 0.01815935 0.01866056]\n",
      "\n",
      "\n",
      "Valeur des scores de A4 :  1.026500684308717 [0.3471649  0.22217612 0.22870603 0.2366087  0.24172309 0.34705253\n",
      " 0.22930722 0.19564724 0.20661555 0.39487314 0.2339404  0.24493243\n",
      " 0.2586992  0.26800925]\n",
      "\n",
      "Valeur de la différence A4*r - r :  [0.00920099 0.00588802 0.00606127 0.00627064 0.00640618 0.00919734\n",
      " 0.00607705 0.00518521 0.00547534 0.01046394 0.00619904 0.00649033\n",
      " 0.00685505 0.00710172]\n",
      "\n",
      "\n"
     ]
    }
   ],
   "source": [
    "A2 = pageRankMatrice(A)\n",
    "#print(A2)\n",
    "#print()\n",
    "\n",
    "A3 = transitionMatrice(A2, 0.85)\n",
    "print()\n",
    "l, r = puissance_iteree (10**-5, A3)\n",
    "print(\"Valeur des scores de A3 : \", l,r)\n",
    "print()\n",
    "print(\"Valeur de la différence A3*r - r : \", A3.dot(r) - r)\n",
    "print()\n",
    "print()\n",
    "\n",
    "A4 = transitionMatrice(A2, 0.5)\n",
    "l, r = puissance_iteree (10**-5, A4)\n",
    "print(\"Valeur des scores de A4 : \", l,r)\n",
    "print()\n",
    "print(\"Valeur de la différence A4*r - r : \", A4.dot(r) - r)\n",
    "print()\n",
    "print()"
   ]
  },
  {
   "cell_type": "markdown",
   "id": "34cc5f46",
   "metadata": {},
   "source": [
    "Analyser l’influence du critere d’arrêt dans l’algorithme de la puissance itérée la valeur comparer a la partie 1 ne sera pas la meme est sera plus précise.  \n",
    " Donc l'influence du critére est tres influent."
   ]
  },
  {
   "cell_type": "markdown",
   "id": "8f397cb0",
   "metadata": {},
   "source": [
    "### Question 2"
   ]
  },
  {
   "cell_type": "markdown",
   "id": "9758a9c4",
   "metadata": {},
   "source": [
    "On choisit de créer dans le graphique de la partie 1 un hub et une autorité suplémentaire.  \n",
    "On déclare la page 5 comme étant un hub et ajoutons les liens sortants nécessaires à l'attribution de ce statut.  \n",
    "On déclare la page 8 comme étant une autorité et ajoutons les liens entrants nécessaire à l'attribution de ce statut. "
   ]
  },
  {
   "cell_type": "code",
   "execution_count": 13,
   "id": "bd4336dc",
   "metadata": {},
   "outputs": [],
   "source": [
    "A1 = array([[0.0,1.0,1,1,1,1,0,0,0,0,0,0,0,0],#1\n",
    "           [1,0,1,0,0,0,0,0,0,0,0,0,0,0],#2\n",
    "           [1,0,0,1,0,0,0,0,0,0,0,0,0,0],#3\n",
    "           [1,0,0,0,1,0,0,1,0,0,0,0,0,0],#4\n",
    "           [1,1,0,1,1,0,1,0,1,1,1,0,0,0],#5 HUB\n",
    "           [0,0,0,0,0,0,1,1,1,0,0,0,0,0],#6\n",
    "           [1,0,0,0,0,0,0,1,0,0,0,0,0,0],#7\n",
    "           [0,0,0,0,0,1,0,0,0,0,0,0,0,0],#8 AUTORITE\n",
    "           [0,0,0,0,0,0,0,1,0,1,0,0,0,0],#9\n",
    "           [0,0,0,0,0,1,0,0,0,0,1,1,1,1],#10\n",
    "           [0,0,0,0,0,0,0,1,0,1,0,1,0,0],#11\n",
    "           [0,0,0,0,0,0,0,0,0,1,0,0,1,0],#12\n",
    "           [0,0,0,0,0,0,0,0,0,1,0,0,0,1],#13 \n",
    "           [0,0,0,0,0,0,0,0,0,1,1,0,0,0]])#14"
   ]
  },
  {
   "cell_type": "code",
   "execution_count": 14,
   "id": "1257f2be",
   "metadata": {},
   "outputs": [
    {
     "name": "stdout",
     "output_type": "stream",
     "text": [
      "\n",
      "Valeur des scores de A3 :  1.2897078428978266 [0.38126589 0.15046538 0.17079721 0.30377665 0.69776633 0.13750453\n",
      " 0.15735445 0.06400527 0.07546346 0.27311468 0.15044368 0.14534549\n",
      " 0.15938829 0.16264227]\n",
      "\n",
      "Valeur de la différence A3*r - r :  [0.11045798 0.04359205 0.04948238 0.08800803 0.20215058 0.03983621\n",
      " 0.04558779 0.01854281 0.02186148 0.07911842 0.04358195 0.04210462\n",
      " 0.04617268 0.04711547]\n",
      "\n",
      "\n"
     ]
    }
   ],
   "source": [
    "A2 = pageRankMatrice(A1)\n",
    "#print(A2)\n",
    "#print()\n",
    "\n",
    "A3 = transitionMatrice(A2, 0.85)\n",
    "print()\n",
    "l, r = puissance_iteree (10**-5, A3)\n",
    "print(\"Valeur des scores de A3 : \", l,r)\n",
    "print()\n",
    "print(\"Valeur de la différence A3*r - r : \", A3.dot(r) - r)\n",
    "print()\n",
    "print()"
   ]
  },
  {
   "cell_type": "markdown",
   "id": "14288791",
   "metadata": {},
   "source": [
    "Pour certains score leurs valeur on diminué comparé a d autre qui on augmenté mais l'on peut voir que se qui on etait change sur la matrice dont 8 qui a eu son autorité augmenté sont score a dmininué.\n",
    "\n",
    "Alors que le score de 5 qui est lu devenue un HUB lui a augmenté conciderablement donc les valeur on bien change compare a la matrice d'avant accause de l'autorité et du hub qui a etait mis."
   ]
  },
  {
   "cell_type": "markdown",
   "id": "fa5a135b",
   "metadata": {},
   "source": [
    "### Question 3"
   ]
  },
  {
   "cell_type": "markdown",
   "id": "13bfd5e1",
   "metadata": {},
   "source": [
    "Pour augmenter le score de certaine pages il faudrait que on augmente le HUB et qu'il y est moin d'autorité car avec sa le score augmentera exemple si j'ajoute plus de lien sortant au 5 sont score augmentera.\n",
    "\n",
    "On pourra le voir dessous ou avec la matrice A8 j'ai ajouté plein de lien sortant dans des ligne et les scores sont bien remonté comparé a la question 2 "
   ]
  },
  {
   "cell_type": "code",
   "execution_count": 15,
   "id": "6de8254c",
   "metadata": {},
   "outputs": [],
   "source": [
    "A8 = array([[0.0,1.0,1,1,1,1,0,0,0,0,0,0,0,0],#1\n",
    "           [1,0,1,1,1,0,0,1,0,0,1,0,1,0],#2 HUB\n",
    "           [1,1,0,1,0,1,0,1,0,0,1,0,1,1],#3 HUB \n",
    "           [1,0,0,0,1,0,0,1,0,0,0,0,0,0],#4\n",
    "           [1,1,0,1,1,0,1,0,1,1,1,0,0,0],#5 HUB\n",
    "           [0,0,0,0,0,0,1,1,1,0,0,0,0,0],#6\n",
    "           [1,0,0,0,0,0,0,1,0,0,0,0,0,0],#7\n",
    "           [0,0,0,0,0,1,0,0,0,0,0,0,0,0],#8 AUTORITE\n",
    "           [0,0,0,0,0,0,0,1,0,1,0,0,0,0],#9\n",
    "           [0,0,0,0,0,1,0,0,0,0,1,1,1,1],#10\n",
    "           [0,0,0,0,0,0,0,1,0,1,0,1,0,0],#11\n",
    "           [0,0,0,0,0,0,0,0,0,1,0,0,1,0],#12\n",
    "           [0,1,0,1,0,1,0,1,0,1,0,1,0,1],#13 HUB\n",
    "           [1,1,0,1,0,0,0,0,1,1,1,0,1,0]])#14 HUB"
   ]
  },
  {
   "cell_type": "code",
   "execution_count": 16,
   "id": "0d2faa47",
   "metadata": {},
   "outputs": [
    {
     "name": "stdout",
     "output_type": "stream",
     "text": [
      "\n",
      "Valeur des scores de A3 :  1.0147782961388145 [0.26585502 0.27017053 0.27009634 0.26157788 0.27620499 0.26517093\n",
      " 0.25975988 0.25764722 0.2589006  0.26963285 0.2629642  0.26061854\n",
      " 0.27977051 0.28180977]\n",
      "\n",
      "Valeur de la différence A3*r - r :  [0.00392889 0.00399267 0.00399156 0.00386568 0.00408184 0.00391877\n",
      " 0.0038388  0.00380759 0.00382611 0.00398471 0.00388616 0.0038515\n",
      " 0.00413452 0.00416467]\n",
      "\n",
      "\n"
     ]
    }
   ],
   "source": [
    "A2 = pageRankMatrice(A8)\n",
    "#print(A2)\n",
    "#print()\n",
    "\n",
    "A3 = transitionMatrice(A2, 0.03)\n",
    "print()\n",
    "l, r = puissance_iteree (10**-5, A3)\n",
    "print(\"Valeur des scores de A3 : \", l,r)\n",
    "print()\n",
    "print(\"Valeur de la différence A3*r - r : \", A3.dot(r) - r)\n",
    "print()\n",
    "print()"
   ]
  },
  {
   "cell_type": "markdown",
   "id": "90bc13b6",
   "metadata": {},
   "source": [
    "### Question 4"
   ]
  },
  {
   "cell_type": "code",
   "execution_count": 17,
   "id": "e8ef520f",
   "metadata": {},
   "outputs": [
    {
     "name": "stdout",
     "output_type": "stream",
     "text": [
      "\n",
      "Valeur des scores de A3 :  1.0021109394456913 [0.27089391 0.26466681 0.26316873 0.26455366 0.28105444 0.2690472\n",
      " 0.2638349  0.26214314 0.26252675 0.27453195 0.26766092 0.26535352\n",
      " 0.26581205 0.26573799]\n",
      "\n",
      "Valeur de la différence A3*r - r :  [0.00057185 0.0005587  0.00055554 0.00055847 0.0005933  0.00056794\n",
      " 0.00055695 0.00055337 0.00055418 0.0005795  0.00056502 0.00056014\n",
      " 0.0005611  0.00056094]\n",
      "\n",
      "\n"
     ]
    }
   ],
   "source": [
    "A2 = pageRankMatrice(A1)\n",
    "#print(A2)\n",
    "#print()\n",
    "\n",
    "A3 = transitionMatrice(A2, 0.03)\n",
    "print()\n",
    "l, r = puissance_iteree (10**-5, A3)\n",
    "print(\"Valeur des scores de A3 : \", l,r)\n",
    "print()\n",
    "print(\"Valeur de la différence A3*r - r : \", A3.dot(r) - r)\n",
    "print()\n",
    "print()"
   ]
  },
  {
   "cell_type": "markdown",
   "id": "a9d87429",
   "metadata": {},
   "source": [
    "En changeant le facteur d'amortissement α les score qui on monté et se qui on baissé se restabilise.  \n",
    "  \n",
    "La raison : α représente la probabilté qu'un utilisateur clique un lien. Ainsi, au plus le facteur atténuateur se rapproche de 0, au moins il y a de chance qu'un utilisateur clique sur un lien contenu dans une page, au plus les scores s'égalisent puisque la présence de liens sur une page perd en importance."
   ]
  },
  {
   "cell_type": "markdown",
   "id": "b37a2d8e",
   "metadata": {},
   "source": [
    "## Partie 4 : PageRank - version itérative, analyse"
   ]
  },
  {
   "cell_type": "markdown",
   "id": "55e06deb",
   "metadata": {},
   "source": [
    "### Question 1 :"
   ]
  },
  {
   "cell_type": "code",
   "execution_count": 18,
   "id": "cda2bc47",
   "metadata": {},
   "outputs": [],
   "source": [
    "#I - Allocine (Profondeur : 25) :\n",
    "\n",
    "Allocine = array([[0.0,1.0,1.0,1.0,1.0,1.0,1.0,1.0,1.0,1.0,1.0,1.0,1.0,1.0,1.0,1.0,1.0,1.0,1.0,1.0,1.0,1.0,1.0,1.0,1.0],\n",
    "            [1.0,1.0,0.0,0.0,0.0,0.0,0.0,0.0,0.0,0.0,0.0,0.0,0.0,0.0,0.0,0.0,0.0,0.0,0.0,0.0,0.0,0.0,0.0,0.0,0.0],\n",
    "            [1.0,0.0,1.0,0.0,0.0,0.0,0.0,0.0,0.0,0.0,0.0,0.0,0.0,0.0,0.0,0.0,0.0,0.0,0.0,0.0,0.0,0.0,0.0,0.0,0.0],\n",
    "            [1.0,0.0,0.0,0.0,0.0,0.0,0.0,0.0,0.0,0.0,0.0,0.0,0.0,0.0,0.0,0.0,0.0,0.0,0.0,0.0,0.0,0.0,0.0,0.0,0.0],\n",
    "            [1.0,0.0,0.0,0.0,0.0,0.0,0.0,0.0,0.0,0.0,0.0,0.0,0.0,0.0,0.0,0.0,0.0,0.0,0.0,0.0,0.0,0.0,0.0,0.0,0.0],\n",
    "            [1.0,1.0,1.0,0.0,0.0,0.0,0.0,0.0,0.0,0.0,1.0,0.0,0.0,1.0,0.0,1.0,1.0,1.0,1.0,1.0,1.0,1.0,1.0,1.0,1.0],\n",
    "            [1.0,0.0,0.0,1.0,1.0,0.0,0.0,0.0,0.0,0.0,0.0,0.0,0.0,1.0,0.0,0.0,0.0,0.0,0.0,0.0,0.0,0.0,0.0,0.0,0.0],\n",
    "            [1.0,0.0,0.0,0.0,0.0,0.0,0.0,0.0,0.0,1.0,0.0,0.0,0.0,0.0,0.0,0.0,0.0,0.0,0.0,0.0,0.0,0.0,0.0,0.0,0.0],\n",
    "            [1.0,0.0,0.0,0.0,0.0,0.0,0.0,0.0,0.0,0.0,0.0,0.0,0.0,0.0,1.0,0.0,0.0,0.0,0.0,0.0,0.0,0.0,0.0,0.0,0.0],\n",
    "            [1.0,0.0,0.0,0.0,0.0,0.0,0.0,0.0,0.0,0.0,0.0,0.0,0.0,1.0,0.0,0.0,0.0,0.0,0.0,0.0,0.0,0.0,0.0,0.0,0.0],\n",
    "            [1.0,0.0,0.0,0.0,0.0,0.0,0.0,0.0,0.0,0.0,0.0,0.0,0.0,1.0,0.0,0.0,0.0,0.0,0.0,0.0,0.0,0.0,0.0,0.0,0.0],\n",
    "            [1.0,0.0,0.0,0.0,0.0,0.0,0.0,0.0,0.0,0.0,0.0,0.0,1.0,1.0,0.0,0.0,0.0,0.0,0.0,0.0,0.0,0.0,0.0,0.0,0.0],\n",
    "            [1.0,0.0,0.0,0.0,0.0,0.0,0.0,0.0,0.0,0.0,0.0,1.0,0.0,1.0,0.0,0.0,0.0,0.0,0.0,0.0,0.0,0.0,0.0,0.0,0.0],\n",
    "            [1.0,0.0,0.0,0.0,0.0,0.0,0.0,0.0,0.0,0.0,0.0,0.0,0.0,1.0,0.0,0.0,0.0,0.0,0.0,0.0,0.0,0.0,0.0,0.0,0.0],\n",
    "            [1.0,0.0,0.0,0.0,0.0,0.0,0.0,0.0,1.0,0.0,0.0,0.0,0.0,0.0,0.0,0.0,0.0,0.0,0.0,0.0,0.0,0.0,0.0,0.0,0.0],\n",
    "            [1.0,0.0,0.0,0.0,0.0,0.0,0.0,0.0,0.0,0.0,0.0,0.0,0.0,0.0,0.0,0.0,0.0,0.0,0.0,0.0,0.0,0.0,0.0,0.0,0.0],\n",
    "            [1.0,0.0,0.0,0.0,0.0,0.0,0.0,0.0,0.0,0.0,0.0,0.0,0.0,0.0,0.0,0.0,0.0,0.0,0.0,0.0,0.0,1.0,0.0,0.0,1.0],\n",
    "            [1.0,0.0,0.0,0.0,0.0,0.0,0.0,0.0,0.0,0.0,0.0,0.0,0.0,1.0,0.0,0.0,0.0,0.0,1.0,0.0,0.0,0.0,0.0,1.0,0.0],\n",
    "            [1.0,0.0,0.0,0.0,0.0,1.0,0.0,0.0,0.0,0.0,0.0,0.0,0.0,0.0,0.0,0.0,0.0,1.0,0.0,0.0,0.0,0.0,0.0,0.0,0.0],\n",
    "            [1.0,0.0,0.0,0.0,0.0,0.0,0.0,0.0,0.0,0.0,0.0,0.0,0.0,0.0,0.0,0.0,0.0,0.0,0.0,0.0,0.0,0.0,0.0,0.0,0.0],\n",
    "            [1.0,0.0,0.0,0.0,0.0,1.0,0.0,0.0,0.0,0.0,0.0,0.0,0.0,1.0,0.0,0.0,0.0,0.0,0.0,0.0,0.0,0.0,0.0,0.0,0.0],\n",
    "            [1.0,0.0,0.0,0.0,0.0,1.0,0.0,0.0,0.0,0.0,0.0,0.0,0.0,1.0,0.0,0.0,1.0,0.0,0.0,0.0,0.0,0.0,0.0,0.0,0.0],\n",
    "            [1.0,0.0,0.0,0.0,0.0,0.0,0.0,0.0,0.0,0.0,0.0,0.0,0.0,1.0,0.0,0.0,0.0,0.0,0.0,0.0,0.0,0.0,0.0,0.0,0.0],\n",
    "            [1.0,0.0,0.0,0.0,0.0,0.0,0.0,0.0,0.0,0.0,0.0,0.0,0.0,0.0,0.0,0.0,0.0,0.0,0.0,0.0,0.0,0.0,0.0,0.0,0.0],\n",
    "            [1.0,0.0,0.0,0.0,0.0,1.0,0.0,0.0,0.0,0.0,0.0,0.0,0.0,0.0,0.0,0.0,0.0,0.0,0.0,0.0,0.0,1.0,0.0,0.0,0.0]])\n"
   ]
  },
  {
   "cell_type": "code",
   "execution_count": 19,
   "id": "272e7e59",
   "metadata": {},
   "outputs": [],
   "source": [
    "#II - Doc Python (Profondeur : 10) :\n",
    "\n",
    "DocPython = array([[0.0,0.0,0.0,0.0,0.0,0.0,0.0,0.0,0.0,0.0],\n",
    "             [1.0,1.0,1.0,1.0,1.0,0.0,0.0,0.0,0.0,0.0],\n",
    "             [1.0,1.0,1.0,1.0,1.0,1.0,1.0,1.0,0.0,0.0],\n",
    "             [1.0,1.0,1.0,1.0,1.0,1.0,1.0,1.0,0.0,0.0],\n",
    "             [1.0,1.0,1.0,1.0,1.0,1.0,1.0,1.0,0.0,0.0],\n",
    "             [1.0,1.0,1.0,1.0,1.0,1.0,1.0,1.0,0.0,0.0],\n",
    "             [1.0,1.0,1.0,1.0,1.0,1.0,1.0,1.0,0.0,0.0],\n",
    "             [1.0,1.0,1.0,1.0,1.0,1.0,1.0,1.0,0.0,0.0],\n",
    "             [1.0,1.0,1.0,1.0,1.0,1.0,1.0,1.0,0.0,0.0],\n",
    "             [1.0,1.0,1.0,1.0,1.0,1.0,1.0,1.0,0.0,0.0]])\n"
   ]
  },
  {
   "cell_type": "code",
   "execution_count": 20,
   "id": "edc9cd45",
   "metadata": {},
   "outputs": [],
   "source": [
    "#III - GitHub (Profondeur : 20) :\n",
    "\n",
    "Github = array([[1.0,1.0,1.0,1.0,1.0,1.0,1.0,1.0,1.0,1.0,1.0,1.0,1.0,1.0,1.0,1.0,1.0,1.0,0.0,0.0],\n",
    "          [1.0,0.0,0.0,0.0,0.0,0.0,0.0,0.0,0.0,0.0,0.0,0.0,0.0,0.0,0.0,0.0,0.0,0.0,0.0,0.0],\n",
    "          [1.0,0.0,1.0,1.0,1.0,1.0,1.0,1.0,1.0,1.0,1.0,1.0,1.0,1.0,1.0,1.0,1.0,1.0,1.0,1.0],\n",
    "          [1.0,0.0,1.0,1.0,1.0,1.0,1.0,1.0,1.0,1.0,1.0,1.0,1.0,1.0,1.0,1.0,1.0,1.0,1.0,1.0],\n",
    "          [1.0,0.0,1.0,1.0,1.0,1.0,1.0,1.0,1.0,1.0,1.0,1.0,1.0,1.0,1.0,1.0,1.0,1.0,1.0,1.0],\n",
    "          [1.0,0.0,1.0,1.0,1.0,1.0,1.0,1.0,1.0,1.0,1.0,1.0,1.0,1.0,1.0,1.0,1.0,1.0,1.0,1.0],\n",
    "          [1.0,0.0,1.0,1.0,1.0,1.0,1.0,1.0,1.0,1.0,1.0,1.0,1.0,1.0,1.0,1.0,1.0,1.0,1.0,1.0],\n",
    "          [1.0,0.0,1.0,1.0,1.0,1.0,1.0,1.0,1.0,1.0,1.0,1.0,1.0,1.0,1.0,1.0,1.0,1.0,1.0,1.0],\n",
    "          [1.0,0.0,1.0,1.0,1.0,1.0,1.0,1.0,1.0,1.0,1.0,1.0,1.0,1.0,1.0,1.0,1.0,1.0,1.0,1.0],\n",
    "          [1.0,0.0,1.0,1.0,1.0,1.0,1.0,1.0,1.0,1.0,1.0,1.0,1.0,1.0,1.0,1.0,1.0,1.0,1.0,1.0],\n",
    "          [1.0,0.0,1.0,1.0,1.0,1.0,1.0,1.0,1.0,1.0,1.0,1.0,1.0,1.0,1.0,1.0,1.0,1.0,1.0,1.0],\n",
    "          [1.0,0.0,1.0,1.0,1.0,1.0,1.0,1.0,1.0,1.0,1.0,1.0,1.0,1.0,1.0,1.0,1.0,1.0,1.0,1.0],\n",
    "          [1.0,0.0,1.0,1.0,1.0,1.0,1.0,1.0,1.0,1.0,1.0,1.0,1.0,1.0,1.0,1.0,1.0,1.0,1.0,1.0],\n",
    "          [1.0,0.0,1.0,1.0,1.0,1.0,1.0,1.0,1.0,1.0,1.0,1.0,1.0,1.0,1.0,1.0,1.0,1.0,1.0,1.0],\n",
    "          [1.0,0.0,1.0,1.0,1.0,1.0,1.0,1.0,1.0,1.0,1.0,1.0,1.0,1.0,1.0,1.0,1.0,1.0,1.0,1.0],\n",
    "          [1.0,0.0,1.0,1.0,1.0,1.0,1.0,1.0,1.0,1.0,1.0,1.0,1.0,1.0,1.0,1.0,1.0,1.0,1.0,1.0],\n",
    "          [1.0,0.0,1.0,1.0,1.0,1.0,1.0,1.0,1.0,1.0,1.0,1.0,1.0,1.0,1.0,1.0,1.0,1.0,1.0,1.0],\n",
    "          [1.0,0.0,1.0,1.0,1.0,1.0,1.0,1.0,1.0,1.0,1.0,1.0,1.0,1.0,1.0,1.0,1.0,1.0,1.0,1.0],\n",
    "          [1.0,0.0,1.0,1.0,1.0,1.0,1.0,1.0,1.0,1.0,1.0,1.0,1.0,1.0,1.0,1.0,1.0,1.0,1.0,1.0],\n",
    "          [1.0,0.0,1.0,1.0,1.0,1.0,1.0,1.0,1.0,1.0,1.0,1.0,1.0,1.0,1.0,1.0,1.0,1.0,1.0,1.0]])\n"
   ]
  },
  {
   "cell_type": "code",
   "execution_count": 21,
   "id": "23be4c61",
   "metadata": {},
   "outputs": [
    {
     "name": "stdout",
     "output_type": "stream",
     "text": [
      "Allocine : \n",
      "\n",
      " 1.4674140774774114 \n",
      "\n",
      "Vecteur des scores : \n",
      "[0.62153556 0.05013679 0.05069953 0.0394436  0.03993652 0.500222\n",
      " 0.07522682 0.06055088 0.0753007  0.04579303 0.04701828 0.08202013\n",
      " 0.08323865 0.05216845 0.08052107 0.05209123 0.21217382 0.14989032\n",
      " 0.16579053 0.06554139 0.148135   0.24979818 0.09875945 0.10346407\n",
      " 0.3260218 ]\n",
      "\n",
      "\n",
      "\n",
      "Doc Python : \n",
      "\n",
      " 1.194943556440049 \n",
      "\n",
      "Vecteur des scores : \n",
      "[0.39388834 0.12925335 0.18161907 0.19768999 0.21846574 0.24597938\n",
      " 0.28348736 0.33639486 0.41394157 0.53195055]\n",
      "\n",
      "\n",
      "\n",
      "GitHub : \n",
      "\n",
      " 2.1379403432495634 \n",
      "\n",
      "Vecteur des scores : \n",
      "[0.08780595 0.0324143  0.08669687 0.09069422 0.09519554 0.10029681\n",
      " 0.10611899 0.11281634 0.12058831 0.12969675 0.14049125 0.15344735\n",
      " 0.16922586 0.18876712 0.2134457  0.24533262 0.28765505 0.34562864\n",
      " 0.42799779 0.54985116]\n",
      "\n",
      "\n",
      "\n"
     ]
    }
   ],
   "source": [
    "print(\"Allocine : \\n\\n\",iterativePageRank(Allocine, 10**-5, 0.85)[0],\"\\n\")\n",
    "print(\"Vecteur des scores : \")\n",
    "print(iterativePageRank(Allocine, 10**-5, 0.85)[1])\n",
    "print()\n",
    "print()\n",
    "print()\n",
    "\n",
    "print(\"Doc Python : \\n\\n\",iterativePageRank(DocPython, 10**-5, 0.85)[0],\"\\n\")\n",
    "print(\"Vecteur des scores : \")\n",
    "print(iterativePageRank(DocPython, 10**-5, 0.85)[1])\n",
    "print()\n",
    "print()\n",
    "print()\n",
    "\n",
    "print(\"GitHub : \\n\\n\",iterativePageRank(Github, 10**-5, 0.85)[0],\"\\n\")\n",
    "print(\"Vecteur des scores : \")\n",
    "print(iterativePageRank(Github, 10**-5, 0.85)[1])\n",
    "print()\n",
    "print()\n",
    "print()\n"
   ]
  },
  {
   "cell_type": "code",
   "execution_count": 22,
   "id": "e3f65974",
   "metadata": {},
   "outputs": [
    {
     "name": "stdout",
     "output_type": "stream",
     "text": [
      "Analyse & Interprétation :\n"
     ]
    },
    {
     "data": {
      "image/png": "[encoded data removed]",
      "text/plain": [
       "<Figure size 360x360 with 1 Axes>"
      ]
     },
     "metadata": {
      "needs_background": "light"
     },
     "output_type": "display_data"
    },
    {
     "name": "stdout",
     "output_type": "stream",
     "text": [
      "\n",
      "\n",
      "Nous pouvons observer que la différence de score PageRank entre GitHub et les autres sites est importante, cela peut s'expliquer par le fait que le site soit utilisé par des millions d'utilisateurs dans le monde mais également que ce dernier est reconnu par beaucoup, ce qui pousse les administrateurs de sites web réputés d'inclure des liens vers \n",
      "GitHub.\n"
     ]
    }
   ],
   "source": [
    "print(\"Analyse & Interprétation :\")\n",
    "\n",
    "#Affichage graphe en barres de Allocine, Doc Python et GitHub\n",
    "\n",
    "\n",
    "data = {'Allocine':iterativePageRank(Allocine, 10**-5, 0.85)[0], 'Doc Python':iterativePageRank(DocPython, 10**-5, 0.85)[0],\n",
    "        'GitHub':iterativePageRank(Github, 10**-5, 0.85)[0]}\n",
    "keys = list(data.keys())\n",
    "val = list(data.values())\n",
    "\n",
    "fig = plt.figure(figsize = (5, 5))\n",
    " \n",
    "plt.bar(keys, val, color ='blue',\n",
    "        width = 0.4)\n",
    " \n",
    "plt.ylabel(\"Score PageRank\")\n",
    "plt.title(\"Comparaison des résultats PageRank des sites choisis\")\n",
    "plt.show()\n",
    "\n",
    "\n",
    "print (\"\\n\\nNous pouvons observer que la différence de score PageRank entre GitHub et les autres sites est importante, cela peut s'expliquer par le fait que le site soit utilisé par des millions d'utilisateurs dans le monde mais également que ce dernier est reconnu par beaucoup, ce qui pousse les administrateurs de sites web réputés d'inclure des liens vers \\nGitHub.\")"
   ]
  },
  {
   "cell_type": "markdown",
   "id": "29d5c30c",
   "metadata": {},
   "source": [
    "### Question 2"
   ]
  },
  {
   "cell_type": "code",
   "execution_count": 23,
   "id": "f4cb6b06",
   "metadata": {},
   "outputs": [
    {
     "name": "stdout",
     "output_type": "stream",
     "text": [
      "Gare du Nord, Paris\n",
      " [[0. 0. 0. ... 0. 0. 0.]\n",
      " [0. 0. 0. ... 0. 0. 0.]\n",
      " [0. 0. 0. ... 0. 0. 0.]\n",
      " ...\n",
      " [0. 0. 0. ... 0. 1. 0.]\n",
      " [0. 0. 0. ... 0. 0. 0.]\n",
      " [0. 0. 0. ... 0. 0. 0.]] \n",
      "\n",
      "\n",
      "\n",
      "413 avenue Gaston Berger, Aix en Provence\n",
      " [[0. 0. 0. ... 0. 0. 0.]\n",
      " [0. 0. 0. ... 0. 0. 0.]\n",
      " [0. 0. 0. ... 0. 0. 0.]\n",
      " ...\n",
      " [0. 0. 0. ... 0. 0. 0.]\n",
      " [0. 0. 0. ... 0. 0. 0.]\n",
      " [0. 0. 0. ... 0. 0. 0.]]\n"
     ]
    }
   ],
   "source": [
    "GareDuNord = load(\"Gare_du_nord_Paris_France_Matrice.npy\")\n",
    "print (\"Gare du Nord, Paris\\n\",GareDuNord,\"\\n\\n\\n\")\n",
    "\n",
    "GastonBerger = load(\"Gaston_Berger.npy\")\n",
    "print (\"413 avenue Gaston Berger, Aix en Provence\\n\",GastonBerger)"
   ]
  },
  {
   "cell_type": "code",
   "execution_count": 24,
   "id": "9c1aaefd",
   "metadata": {},
   "outputs": [
    {
     "name": "stdout",
     "output_type": "stream",
     "text": [
      "Analyse & Interprétation :\n"
     ]
    },
    {
     "ename": "KeyboardInterrupt",
     "evalue": "",
     "output_type": "error",
     "traceback": [
      "\u001b[0;31m---------------------------------------------------------------------------\u001b[0m",
      "\u001b[0;31mKeyboardInterrupt\u001b[0m                         Traceback (most recent call last)",
      "Input \u001b[0;32mIn [24]\u001b[0m, in \u001b[0;36m<cell line: 15>\u001b[0;34m()\u001b[0m\n\u001b[1;32m      8\u001b[0m \u001b[38;5;28mprint\u001b[39m(\u001b[38;5;124m\"\u001b[39m\u001b[38;5;124mAnalyse & Interprétation :\u001b[39m\u001b[38;5;124m\"\u001b[39m)\n\u001b[1;32m     11\u001b[0m \u001b[38;5;66;03m#Affichage graphe en barres de Gare du Nord et 413 Gaston Berger\u001b[39;00m\n\u001b[1;32m     12\u001b[0m \n\u001b[1;32m     13\u001b[0m \u001b[38;5;66;03m#, '413 Avenue Gaston Berger, Aix en Provence':\u001b[39;00m\n\u001b[1;32m     14\u001b[0m \u001b[38;5;66;03m#iterativePageRank(GastonBerger, 10**-5, 0.85)[0]\u001b[39;00m\n\u001b[0;32m---> 15\u001b[0m data \u001b[38;5;241m=\u001b[39m {\u001b[38;5;124m'\u001b[39m\u001b[38;5;124mGare du Nord, Paris\u001b[39m\u001b[38;5;124m'\u001b[39m:\u001b[43miterativePageRank\u001b[49m\u001b[43m(\u001b[49m\u001b[43mGareDuNord\u001b[49m\u001b[43m,\u001b[49m\u001b[43m \u001b[49m\u001b[38;5;241;43m10\u001b[39;49m\u001b[38;5;241;43m*\u001b[39;49m\u001b[38;5;241;43m*\u001b[39;49m\u001b[38;5;241;43m-\u001b[39;49m\u001b[38;5;241;43m5\u001b[39;49m\u001b[43m,\u001b[49m\u001b[43m \u001b[49m\u001b[38;5;241;43m0.85\u001b[39;49m\u001b[43m)\u001b[49m[\u001b[38;5;241m0\u001b[39m]}\n\u001b[1;32m     16\u001b[0m keys \u001b[38;5;241m=\u001b[39m \u001b[38;5;28mlist\u001b[39m(data\u001b[38;5;241m.\u001b[39mkeys())\n\u001b[1;32m     17\u001b[0m val \u001b[38;5;241m=\u001b[39m \u001b[38;5;28mlist\u001b[39m(data\u001b[38;5;241m.\u001b[39mvalues())\n",
      "Input \u001b[0;32mIn [11]\u001b[0m, in \u001b[0;36miterativePageRank\u001b[0;34m(M, e, a)\u001b[0m\n\u001b[1;32m      1\u001b[0m \u001b[38;5;28;01mdef\u001b[39;00m \u001b[38;5;21miterativePageRank\u001b[39m(M, e, a):\n\u001b[0;32m----> 2\u001b[0m     M2 \u001b[38;5;241m=\u001b[39m \u001b[43mpageRankMatrice\u001b[49m\u001b[43m(\u001b[49m\u001b[43mM\u001b[49m\u001b[43m)\u001b[49m\n\u001b[1;32m      3\u001b[0m     M2 \u001b[38;5;241m=\u001b[39m transitionMatrice(M2, a)\n\u001b[1;32m      4\u001b[0m     \u001b[38;5;28;01mreturn\u001b[39;00m puissance_iteree(e, M2)\n",
      "Input \u001b[0;32mIn [4]\u001b[0m, in \u001b[0;36mpageRankMatrice\u001b[0;34m(M)\u001b[0m\n\u001b[1;32m     10\u001b[0m \u001b[38;5;28;01mfor\u001b[39;00m i \u001b[38;5;129;01min\u001b[39;00m \u001b[38;5;28mrange\u001b[39m(N):\n\u001b[1;32m     11\u001b[0m     \u001b[38;5;28;01mfor\u001b[39;00m j \u001b[38;5;129;01min\u001b[39;00m \u001b[38;5;28mrange\u001b[39m(N):\n\u001b[0;32m---> 12\u001b[0m         \u001b[38;5;28;01mif\u001b[39;00m (\u001b[43mnombreLinks\u001b[49m\u001b[43m(\u001b[49m\u001b[43mM\u001b[49m\u001b[43m,\u001b[49m\u001b[43m \u001b[49m\u001b[43mj\u001b[49m\u001b[43m)\u001b[49m \u001b[38;5;241m!=\u001b[39m \u001b[38;5;241m0\u001b[39m):\n\u001b[1;32m     13\u001b[0m             Q[i][j] \u001b[38;5;241m=\u001b[39m Q[i][j] \u001b[38;5;241m/\u001b[39m nombreLinks(M, j)\n\u001b[1;32m     14\u001b[0m         \u001b[38;5;28;01melse\u001b[39;00m:\n",
      "Input \u001b[0;32mIn [4]\u001b[0m, in \u001b[0;36mnombreLinks\u001b[0;34m(M, j)\u001b[0m\n\u001b[1;32m      2\u001b[0m count \u001b[38;5;241m=\u001b[39m \u001b[38;5;241m0\u001b[39m\n\u001b[1;32m      3\u001b[0m \u001b[38;5;28;01mfor\u001b[39;00m i \u001b[38;5;129;01min\u001b[39;00m \u001b[38;5;28mrange\u001b[39m(\u001b[38;5;28mlen\u001b[39m(M)):\n\u001b[0;32m----> 4\u001b[0m     count \u001b[38;5;241m=\u001b[39m count \u001b[38;5;241m+\u001b[39m \u001b[43mM\u001b[49m\u001b[43m[\u001b[49m\u001b[43mi\u001b[49m\u001b[43m]\u001b[49m\u001b[43m[\u001b[49m\u001b[43mj\u001b[49m\u001b[43m]\u001b[49m\n\u001b[1;32m      5\u001b[0m \u001b[38;5;28;01mreturn\u001b[39;00m count\n",
      "\u001b[0;31mKeyboardInterrupt\u001b[0m: "
     ]
    }
   ],
   "source": [
    "#print(\"\\n\\n\\n____________________________________________________________\\n\\nGare du Nord, Paris : \\n\\n\",\n",
    "#      directPageRank(GareDuNord, 10**-5, 0.85)[0],\"\\n\\n\")\n",
    "\n",
    "#print(\"413 avenue Gaston Berger, Aix en Provence : \\n\\n\",iterativePageRank(GastonBerger, 10**-5, 0.85),\"\\n\\n\")\n",
    "\n",
    "\n",
    "\n",
    "print(\"Analyse & Interprétation :\")\n",
    "\n",
    "\n",
    "#Affichage graphe en barres de Gare du Nord et 413 Gaston Berger\n",
    "\n",
    "#, '413 Avenue Gaston Berger, Aix en Provence':\n",
    "#iterativePageRank(GastonBerger, 10**-5, 0.85)[0]\n",
    "data = {'Gare du Nord, Paris':iterativePageRank(GareDuNord, 10**-5, 0.85)[0]}\n",
    "keys = list(data.keys())\n",
    "val = list(data.values())\n",
    "\n",
    "fig = plt.figure(figsize = (5, 5))\n",
    " \n",
    "plt.bar(keys, val, color ='blue',\n",
    "        width = 0.4)\n",
    "\n",
    "plt.ylabel(\"PageRank score\")\n",
    "plt.title(\"Comparaison des résultats PageRank entre les lieux choisis\")\n",
    "plt.show()\n",
    "\n"
   ]
  },
  {
   "cell_type": "markdown",
   "id": "f76129ad",
   "metadata": {},
   "source": [
    "Nous avons tenté d'exécuter la cellule ci-dessus mais après 30min d'attente le programme python n'ayant pas retourné de résultat, il fut donc impossible pour nous d'analyser quelconque ville.  \n",
    "Aurions nous eu accès à ces résultats, nous aurions affiché les scores des 10 premieres pages avec score le plus haut de chaque lieu sur un graphique.  \n",
    "Sur un autre, nous aurions affiché les scores des 10 dernières pages du classement de chaque lieu afin de pouvoir comparer.  "
   ]
  },
  {
   "cell_type": "markdown",
   "id": "296def83",
   "metadata": {},
   "source": [
    "## Partie 5 : PageRank - calcul direct des scores et comparaisons d’algorithmes"
   ]
  },
  {
   "cell_type": "markdown",
   "id": "64d5e60c",
   "metadata": {},
   "source": [
    "### Question 1"
   ]
  },
  {
   "cell_type": "markdown",
   "id": "a1b68b5d",
   "metadata": {},
   "source": [
    "Voici le pseudo-code correspondant à l'algorithme de calcul de score PageRank direct :"
   ]
  },
  {
   "cell_type": "raw",
   "id": "5a794671",
   "metadata": {},
   "source": [
    "fonction scoreDirect(P):\n",
    "\n",
    "N <- taille de la matrice P\n",
    "r <- vecteur de taille N initialisé à zéro\n",
    "sommes_colonnes <- somme des colonnes de P\n",
    " \n",
    "pour i de 0 à N-1:\n",
    "    pour j de 0 à N-1:\n",
    "        r[i] <- r[i] + P[i][j] / sommes_colonnes[j]\n",
    "    \n",
    "retourner r"
   ]
  },
  {
   "cell_type": "markdown",
   "id": "b7f1da2b",
   "metadata": {},
   "source": [
    "### Question 2 :"
   ]
  },
  {
   "cell_type": "markdown",
   "id": "2b51228c",
   "metadata": {},
   "source": [
    "Implémentation de cet algorithme :"
   ]
  },
  {
   "cell_type": "code",
   "execution_count": 25,
   "id": "e2946df7",
   "metadata": {},
   "outputs": [],
   "source": [
    "def ScoreDirect(P):\n",
    "    N = len(P)\n",
    "    r = zeros(N)\n",
    "    \n",
    "    colonnes_sum = sum(P, axis=0)\n",
    "    \n",
    "    for i in range(N):\n",
    "        for j in range(N):\n",
    "            r[i] += P[i][j] / colonnes_sum[j]\n",
    "    \n",
    "    return r\n"
   ]
  },
  {
   "cell_type": "code",
   "execution_count": 26,
   "id": "40baec3b",
   "metadata": {},
   "outputs": [
    {
     "name": "stdout",
     "output_type": "stream",
     "text": [
      "[1.38232294 0.86766321 0.88028154 0.89866954 0.92658524 1.51511108\n",
      " 0.85677767 0.7032884  0.81352266 1.47991172 0.88028154 0.89866954\n",
      " 0.92658524 0.97032967]\n"
     ]
    }
   ],
   "source": [
    "print (ScoreDirect(A))"
   ]
  },
  {
   "cell_type": "markdown",
   "id": "e3772108",
   "metadata": {},
   "source": [
    "### Question 3 :"
   ]
  },
  {
   "cell_type": "code",
   "execution_count": 27,
   "id": "42999e94",
   "metadata": {},
   "outputs": [
    {
     "name": "stdout",
     "output_type": "stream",
     "text": [
      "Comparaison avec l'ancien algorithme : \n",
      "[0.33641281 0.22834794 0.23365164 0.24026438 0.24505874 0.3436103\n",
      " 0.23378957 0.20583575 0.21642128 0.3779446  0.23921918 0.2478937\n",
      " 0.25917365 0.26774514]\n"
     ]
    }
   ],
   "source": [
    "print(\"Comparaison avec l'ancien algorithme : \")\n",
    "print(iterativePageRank(A, 0.00001, 0.85)[1])"
   ]
  },
  {
   "cell_type": "markdown",
   "id": "0c708c3e",
   "metadata": {},
   "source": [
    "### Question 4 :"
   ]
  },
  {
   "cell_type": "markdown",
   "id": "54815635",
   "metadata": {},
   "source": [
    "Le temps d'éxécution est le même, mais iterativePageRank est un peu plus précis."
   ]
  }
 ],
 "metadata": {
  "kernelspec": {
   "display_name": "Python 3 (ipykernel)",
   "language": "python",
   "name": "python3"
  },
  "language_info": {
   "codemirror_mode": {
    "name": "ipython",
    "version": 3
   },
   "file_extension": ".py",
   "mimetype": "text/x-python",
   "name": "python",
   "nbconvert_exporter": "python",
   "pygments_lexer": "ipython3",
   "version": "3.9.12"
  }
 },
 "nbformat": 4,
 "nbformat_minor": 5
}
