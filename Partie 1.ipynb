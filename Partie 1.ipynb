{
 "cells": [
  {
   "cell_type": "markdown",
   "id": "bcacf70a",
   "metadata": {},
   "source": [
    "# Partie 1 : PageRank - version itérative, premier exemple\n",
    "\n"
   ]
  },
  {
   "cell_type": "code",
   "execution_count": 58,
   "id": "6a305901",
   "metadata": {},
   "outputs": [
    {
     "data": {
      "image/png": "[encoded data removed]",
      "text/plain": [
       "<Figure size 432x288 with 1 Axes>"
      ]
     },
     "metadata": {},
     "output_type": "display_data"
    }
   ],
   "source": [
    "import networkx as nx\n",
    "from numpy import *\n",
    "import matplotlib.pyplot as plt\n",
    "import random as rd\n",
    "\n",
    "A = array([[0.0,1.0,1.0,1.0,1.0,1.0,0.0,0.0,0.0,0.0,0.0,0.0,0.0,0.0],\n",
    "[1.0,0.0,1.0,0.0,0.0,0.0,0.0,0.0,0.0,0.0,0.0,0.0,0.0,0.0],\n",
    "[1.0,0.0,0.0,1.0,0.0,0.0,0.0,0.0,0.0,0.0,0.0,0.0,0.0,0.0],\n",
    "[1.0,0.0,0.0,0.0,1.0,0.0,0.0,0.0,0.0,0.0,0.0,0.0,0.0,0.0],\n",
    "[1.0,1.0,0.0,0.0,0.0,0.0,0.0,0.0,0.0,0.0,0.0,0.0,0.0,0.0],\n",
    "[0,0,0,0,0,0,1,1,1,0,0,0,0,0],\n",
    "[1,0,0,0,0,0,0,1,0,0,0,0,0,0],\n",
    "[0,0,0,0,0,1,0,0,0,0,0,0,0,0],\n",
    "[0,0,0,0,0,0,0,1,0,1,0,0,0,0],\n",
    "[0,0,0,0,0,1,0,0,0,0,1,1,1,1],\n",
    "[0,0,0,0,0,0,0,0,0,1,0,1,0,0],\n",
    "[0,0,0,0,0,0,0,0,0,1,0,0,1,0],\n",
    "[0,0,0,0,0,0,0,0,0,1,0,0,0,1],\n",
    "[0,0,0,0,0,0,0,0,0,1,1,0,0,0]])\n",
    "\n",
    "G1 = nx.DiGraph(A)\n",
    "pos = nx.circular_layout(G1)\n",
    "nx.draw(G1,with_labels=True)\n",
    "plt.show()\n"
   ]
  },
  {
   "cell_type": "markdown",
   "id": "d82d7589",
   "metadata": {},
   "source": [
    "## Question 1\n",
    "\n",
    "Voici l'algorithme de la puissance itérée :"
   ]
  },
  {
   "cell_type": "code",
   "execution_count": 21,
   "id": "ec821fdd",
   "metadata": {},
   "outputs": [],
   "source": [
    "def norme(X):\n",
    "    norm = 0\n",
    "    for i in range(len(X)):\n",
    "        norm = norm + X[i]**2\n",
    "    return sqrt(norm)\n",
    "\n",
    "def puissance_iteree(e, M):\n",
    "    Xbis = []\n",
    "    for i in range(len(M)):\n",
    "        Xbis.append(rd.randint(0, 100))\n",
    "    Xbis = array(Xbis)\n",
    "    while (True):\n",
    "        prevXbis = Xbis\n",
    "        Xbis = (M.dot(Xbis)) / norme(M.dot(Xbis))\n",
    "        if (norme(Xbis - prevXbis) < e):\n",
    "            break\n",
    "    return norme(M.dot(Xbis)), Xbis"
   ]
  },
  {
   "cell_type": "markdown",
   "id": "25d70835",
   "metadata": {},
   "source": [
    "Et voici l'algorithme de transformation en matrice PageRank :"
   ]
  },
  {
   "cell_type": "code",
   "execution_count": null,
   "id": "03bb13b9",
   "metadata": {},
   "outputs": [],
   "source": [
    "def nombreLinks(M, j):\n",
    "    count = 0\n",
    "    for i in range(len(M)):\n",
    "        count = count + M[i][j]\n",
    "    return count;\n",
    "\n",
    "def pageRankMatrice(M):\n",
    "    Q = M\n",
    "    N = len(Q)\n",
    "    for i in range(N):\n",
    "        for j in range(N):\n",
    "            if (nombreLinks(M, j) != 0):\n",
    "                Q[i][j] = Q[i][j] / nombreLinks(M, j)\n",
    "            else:\n",
    "                Q[i][j] = 0\n",
    "    return Q"
   ]
  },
  {
   "cell_type": "markdown",
   "id": "e9cd7a29",
   "metadata": {},
   "source": [
    "L'algorithme de la puissance itérée permet de calculer la valeur propre la plus grande et le vecteur propre associé d'une matrice \"M\".  \n",
    "Ce vecteur propre \"v\" a la particularité d'être solution de l'équation :  \n",
    "    v = M v  \n",
    "  \n",
    "Or en regardant le principe de l'algorithme de PageRank et son explication en notations matricielles, on remarque que le principe est le même :  \n",
    "Le vecteur r des scores est solution de l'équation r = Q r  où Q est la matrice d'adjacence des scores.  \n",
    "\n",
    "## Question 2"
   ]
  },
  {
   "cell_type": "code",
   "execution_count": 31,
   "id": "46c37b91",
   "metadata": {},
   "outputs": [
    {
     "name": "stdout",
     "output_type": "stream",
     "text": [
      "\n",
      "Valeur propre trouvée :\n",
      "1.2775159595942898\n",
      "\n",
      "Vecteur de scores trouvé :\n",
      "[0.14980509 0.05770128 0.06562517 0.07224862 0.07308413 0.17112546\n",
      " 0.07522368 0.05740872 0.12425253 0.63075538 0.29729804 0.34443671\n",
      " 0.38484628 0.39077158]\n"
     ]
    }
   ],
   "source": [
    "# Application de l'algo transition 1 PageRank\n",
    "A2 = pageRankMatrice(A)\n",
    "#print(\"Matrice PageRank obtenue :\")\n",
    "#print(A2)\n",
    "print()\n",
    "print(\"Valeur propre trouvée :\")\n",
    "print(puissance_iteree(10**-5, A2)[0])\n",
    "print()\n",
    "print(\"Vecteur de scores trouvé :\")\n",
    "print(puissance_iteree(10**-5, A2)[1])"
   ]
  },
  {
   "cell_type": "markdown",
   "id": "b4ca7c07",
   "metadata": {},
   "source": [
    "Vérification du vecteur des scores :"
   ]
  },
  {
   "cell_type": "code",
   "execution_count": 35,
   "id": "fec5ed4c",
   "metadata": {},
   "outputs": [
    {
     "name": "stdout",
     "output_type": "stream",
     "text": [
      "Norme de r : \n",
      "1.0\n",
      "Valeur de r :\n",
      "[0.14980121 0.05769952 0.06562318 0.07224646 0.07308195 0.17112375\n",
      " 0.07522191 0.05740812 0.12425241 0.63075613 0.29729874 0.34443749\n",
      " 0.38484712 0.39077242]\n",
      "\n",
      "Norme de Ar :\n",
      "1.2775157674320796\n",
      "Valeur de Ar :\n",
      "[0.1913668  0.07370903 0.08383126 0.09229229 0.09335962 0.21861037\n",
      " 0.09609417 0.07333875 0.15873421 0.80580218 0.37980503 0.44002567\n",
      " 0.49164971 0.49921935]\n",
      "\n",
      "Vérifications\n",
      "Norme de Ar - r :\n",
      "0.2775157676006038\n",
      "Valeur de Ar - r :\n",
      "[0.04156559 0.01600951 0.01820807 0.02004583 0.02027767 0.04748662\n",
      " 0.02087226 0.01593063 0.0344818  0.17504605 0.08250629 0.09558818\n",
      " 0.10680259 0.10844694]\n"
     ]
    }
   ],
   "source": [
    "l,r = puissance_iteree(10**-5, A2)\n",
    "\n",
    "print(\"Norme de r : \")\n",
    "print(norme(r))\n",
    "print(\"Valeur de r :\")\n",
    "print(r)\n",
    "print()\n",
    "print(\"Norme de Ar :\")\n",
    "print(l)\n",
    "print(\"Valeur de Ar :\")\n",
    "print(A2.dot(r))\n",
    "print()\n",
    "print(\"Vérifications\")\n",
    "print(\"Norme de Ar - r :\")\n",
    "print(norme(A2.dot(r) - r))\n",
    "print(\"Valeur de Ar - r :\")\n",
    "print(A2.dot(r) - r)\n"
   ]
  },
  {
   "cell_type": "markdown",
   "id": "8e015bf3",
   "metadata": {},
   "source": [
    "En tentant de faire la vérification numérique avec linalg.solve(A, r), la fonction renvoie une erreur LinAlgError de type Singular matrix.  \n",
    "  \n",
    "Nous avons donc réalisé la vérification manuellement en faisant la soustraction entre Ar et r et en vérifiant la valeur de la norme de r.  \n",
    "De ce que l'on peut observer, la norme de r se rapproche effectivement de 1 et la différence entre Ar et r est proche de 0, avec une marge de 0.1 en moyenne.  \n",
    "Ce n'est effectivement pas le plus préci des résultats mais cela reste un résultat correct.  \n"
   ]
  },
  {
   "cell_type": "markdown",
   "id": "52fa921e",
   "metadata": {},
   "source": [
    "# Partie 2 : PageRank - version itérative, deuxième example"
   ]
  },
  {
   "cell_type": "code",
   "execution_count": 59,
   "id": "4e740baf",
   "metadata": {},
   "outputs": [
    {
     "data": {
      "image/png": "[encoded data removed]",
      "text/plain": [
       "<Figure size 432x288 with 1 Axes>"
      ]
     },
     "metadata": {},
     "output_type": "display_data"
    }
   ],
   "source": [
    "B = array([[0.0,0.0,0.0,0.0,0.0],\n",
    "[1.0,0.0,0.0,0.0,0.0],\n",
    "[1.0,0.0,0.0,0.0,0.0],\n",
    "[1.0,1.0,1.0,0.0,0.0],\n",
    "[1.0,1.0,0.0,0.0,0.0]])\n",
    "\n",
    "G2 = nx.DiGraph(B)\n",
    "pos = nx.circular_layout(G2)\n",
    "nx.draw(G2,with_labels=True)\n",
    "plt.show()"
   ]
  },
  {
   "cell_type": "markdown",
   "id": "40a5659b",
   "metadata": {},
   "source": [
    "## Question 1"
   ]
  },
  {
   "cell_type": "code",
   "execution_count": 38,
   "id": "dafd4207",
   "metadata": {},
   "outputs": [
    {
     "name": "stdout",
     "output_type": "stream",
     "text": [
      "[[0.         0.         0.         0.         0.        ]\n",
      " [0.25       0.         0.         0.         0.        ]\n",
      " [0.30769231 0.         0.         0.         0.        ]\n",
      " [0.39097744 0.5        1.         0.         0.        ]\n",
      " [0.51317059 0.66666667 0.         0.         0.        ]]\n",
      "Resultat des scores : \n"
     ]
    },
    {
     "name": "stderr",
     "output_type": "stream",
     "text": [
      "/tmp/ipykernel_3181/3589164236.py:17: RuntimeWarning: invalid value encountered in true_divide\n",
      "  Xbis = (M.dot(Xbis)) / norme(M.dot(Xbis))\n"
     ]
    },
    {
     "ename": "KeyboardInterrupt",
     "evalue": "",
     "output_type": "error",
     "traceback": [
      "\u001b[0;31m---------------------------------------------------------------------------\u001b[0m",
      "\u001b[0;31mKeyboardInterrupt\u001b[0m                         Traceback (most recent call last)",
      "Input \u001b[0;32mIn [38]\u001b[0m, in \u001b[0;36m<cell line: 13>\u001b[0;34m()\u001b[0m\n\u001b[1;32m     10\u001b[0m \u001b[38;5;28mprint\u001b[39m(B2)\n\u001b[1;32m     12\u001b[0m \u001b[38;5;28mprint\u001b[39m(\u001b[38;5;124m\"\u001b[39m\u001b[38;5;124mResultat des scores : \u001b[39m\u001b[38;5;124m\"\u001b[39m)\n\u001b[0;32m---> 13\u001b[0m \u001b[38;5;28mprint\u001b[39m(\u001b[43mpuissance_iteree\u001b[49m\u001b[43m(\u001b[49m\u001b[38;5;241;43m10\u001b[39;49m\u001b[38;5;241;43m*\u001b[39;49m\u001b[38;5;241;43m*\u001b[39;49m\u001b[38;5;241;43m-\u001b[39;49m\u001b[38;5;241;43m5\u001b[39;49m\u001b[43m,\u001b[49m\u001b[43m \u001b[49m\u001b[43mB2\u001b[49m\u001b[43m)\u001b[49m[\u001b[38;5;241m1\u001b[39m])\n",
      "Input \u001b[0;32mIn [21]\u001b[0m, in \u001b[0;36mpuissance_iteree\u001b[0;34m(e, M)\u001b[0m\n\u001b[1;32m     15\u001b[0m \u001b[38;5;28;01mwhile\u001b[39;00m (\u001b[38;5;28;01mTrue\u001b[39;00m):\n\u001b[1;32m     16\u001b[0m     prevXbis \u001b[38;5;241m=\u001b[39m Xbis\n\u001b[0;32m---> 17\u001b[0m     Xbis \u001b[38;5;241m=\u001b[39m \u001b[43m(\u001b[49m\u001b[43mM\u001b[49m\u001b[38;5;241;43m.\u001b[39;49m\u001b[43mdot\u001b[49m\u001b[43m(\u001b[49m\u001b[43mXbis\u001b[49m\u001b[43m)\u001b[49m\u001b[43m)\u001b[49m\u001b[43m \u001b[49m\u001b[38;5;241;43m/\u001b[39;49m\u001b[43m \u001b[49m\u001b[43mnorme\u001b[49m\u001b[43m(\u001b[49m\u001b[43mM\u001b[49m\u001b[38;5;241;43m.\u001b[39;49m\u001b[43mdot\u001b[49m\u001b[43m(\u001b[49m\u001b[43mXbis\u001b[49m\u001b[43m)\u001b[49m\u001b[43m)\u001b[49m\n\u001b[1;32m     18\u001b[0m     \u001b[38;5;28;01mif\u001b[39;00m (norme(Xbis \u001b[38;5;241m-\u001b[39m prevXbis) \u001b[38;5;241m<\u001b[39m e):\n\u001b[1;32m     19\u001b[0m         \u001b[38;5;28;01mbreak\u001b[39;00m\n",
      "\u001b[0;31mKeyboardInterrupt\u001b[0m: "
     ]
    }
   ],
   "source": [
    "# Application de l'algo transition 1 PageRank\n",
    "B2 = pageRankMatrice(B)\n",
    "\n",
    "print(B2)\n",
    "\n",
    "print(\"Resultat des scores : \")\n",
    "print(puissance_iteree(10**-5, B2)[1])"
   ]
  },
  {
   "cell_type": "markdown",
   "id": "fabb8d15",
   "metadata": {},
   "source": [
    "En appliquant l'algorithme de la partie 1, on se retrouve avec une erreur. Il est donc probable que la matrice PageRank transition B2 ne puisse par être traitée par un algorithme de puissance itérée car les vecteurs de score formés ont des normes nulles.  \n",
    "  \n",
    "On va définir un algorithme qui renvoie une matrice de transition secondaire pour palier à ce problème :  "
   ]
  },
  {
   "cell_type": "code",
   "execution_count": 40,
   "id": "866f5ec2",
   "metadata": {},
   "outputs": [],
   "source": [
    "def transitionMatrice(M, a):\n",
    "    P = M\n",
    "    N = len(P)\n",
    "    for i in range(N):\n",
    "        for j in range(N):\n",
    "            if (nombreLinks(M, j) != 0):\n",
    "                P[i][j] = a*M[i][j] + ((1 - a)/N)\n",
    "            else:\n",
    "                P[i][j] = 1/N\n",
    "    return P\n"
   ]
  },
  {
   "cell_type": "markdown",
   "id": "fbd0995b",
   "metadata": {},
   "source": [
    "## Question 2\n"
   ]
  },
  {
   "cell_type": "code",
   "execution_count": 51,
   "id": "a17f4870",
   "metadata": {},
   "outputs": [
    {
     "name": "stdout",
     "output_type": "stream",
     "text": [
      "Matrice de transition pour B :\n",
      "[[0.14671835 0.15506932 0.16062512 0.26863429 0.26863429]\n",
      " [0.1885837  0.15570826 0.16062512 0.1882424  0.1882424 ]\n",
      " [0.20179977 0.15628093 0.16062512 0.18267646 0.18267646]\n",
      " [0.21995303 0.24989361 0.35749952 0.1785619  0.1785619 ]\n",
      " [0.24577089 0.28405358 0.16062512 0.17541151 0.17541151]]\n",
      "\n",
      "Norme de r : \n",
      "1.0\n",
      "Valeur de r :\n",
      "[0.4552537  0.39591889 0.39672742 0.51639074 0.4603697 ]\n",
      "\n",
      "Norme de B3 r :\n",
      "0.9979150188603264\n",
      "Valeur de B3 r :\n",
      "[0.45430468 0.39509339 0.39590019 0.5153141  0.4594097 ]\n",
      "\n",
      "Vérifications\n",
      "Norme de B3 r - r :\n",
      "0.0020849811528608556\n",
      "Valeur de B3 r - r :\n",
      "[-0.00094902 -0.0008255  -0.00082722 -0.00107664 -0.00096   ]\n"
     ]
    }
   ],
   "source": [
    "B3 = transitionMatrice(B2, 0.85)\n",
    "\n",
    "print(\"Matrice de transition pour B :\")\n",
    "print(B3)\n",
    "print()\n",
    "\n",
    "l,r = puissance_iteree(10**-5, B3)\n",
    "\n",
    "print(\"Norme de r : \")\n",
    "print(norme(r))\n",
    "print(\"Valeur de r :\")\n",
    "print(r)\n",
    "print()\n",
    "\n",
    "print(\"Norme de B3 r :\")\n",
    "print(l)\n",
    "print(\"Valeur de B3 r :\")\n",
    "print(B3.dot(r))\n",
    "print()\n",
    "\n",
    "print(\"Vérifications\")\n",
    "print(\"Norme de B3 r - r :\")\n",
    "print(norme(B3.dot(r) - r))\n",
    "print(\"Valeur de B3 r - r :\")\n",
    "print(B3.dot(r) - r)"
   ]
  },
  {
   "cell_type": "markdown",
   "id": "bf87328e",
   "metadata": {},
   "source": [
    "Grâce à cet algorithme de transition, il est désormais possible de calculer les scores PageRank de matrices auquelles l'algorithme de puissance itérée ne peux normalement pas s'appliquer.  \n",
    "De plus, on remarque que le calcul des scores est beaucoup plus précis car le vecteur différence entre B3 et r a maintenant une marge d'environ 0.05 en moyenne. Une nette amélioration par rapport aux résultats de la partie 1.  \n",
    "  \n",
    "Voici donc le nouvel algorithme \"iterativePageRank\" :  \n"
   ]
  },
  {
   "cell_type": "code",
   "execution_count": 47,
   "id": "29e33fac",
   "metadata": {},
   "outputs": [],
   "source": [
    "def iterativePageRank(M, e, a):\n",
    "    M2 = pageRankMatrice(M)\n",
    "    M2 = transitionMatrice(M2, a)\n",
    "    return puissance_iteree(e, M2)\n"
   ]
  },
  {
   "cell_type": "code",
   "execution_count": null,
   "id": "4da98bcf",
   "metadata": {},
   "outputs": [],
   "source": []
  },
  {
   "cell_type": "code",
   "execution_count": null,
   "id": "065083b1",
   "metadata": {},
   "outputs": [],
   "source": []
  }
 ],
 "metadata": {
  "kernelspec": {
   "display_name": "Python 3 (ipykernel)",
   "language": "python",
   "name": "python3"
  },
  "language_info": {
   "codemirror_mode": {
    "name": "ipython",
    "version": 3
   },
   "file_extension": ".py",
   "mimetype": "text/x-python",
   "name": "python",
   "nbconvert_exporter": "python",
   "pygments_lexer": "ipython3",
   "version": "3.9.12"
  }
 },
 "nbformat": 4,
 "nbformat_minor": 5
}
