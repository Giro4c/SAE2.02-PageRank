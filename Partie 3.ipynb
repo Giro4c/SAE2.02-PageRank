{
 "cells": [
  {
   "cell_type": "markdown",
   "id": "00f7db48",
   "metadata": {},
   "source": [
    "# <center><big> Partie 3 : PageRank - version itérative, analyse </big> </center>"
   ]
  },
  {
   "cell_type": "markdown",
   "id": "629774ce",
   "metadata": {},
   "source": [
    "###### Exercice 1"
   ]
  },
  {
   "cell_type": "code",
   "execution_count": 150,
   "id": "43ff2f7c",
   "metadata": {},
   "outputs": [],
   "source": [
    "\n",
    "from numpy import *\n",
    "import random as rd\n",
    "import matplotlib.pyplot as plt\n",
    "A = array([[0.0,1.0,1,1,1,1,0,0,0,0,0,0,0,0],\n",
    "           [1,0,1,0,0,0,0,0,0,0,0,0,0,0],\n",
    "           [1,0,0,1,0,0,0,0,0,0,0,0,0,0],\n",
    "           [1,0,0,0,1,0,0,0,0,0,0,0,0,0],\n",
    "           [1,1,0,0,0,0,0,0,0,0,0,0,0,0],\n",
    "           [0,0,0,0,0,0,1,1,1,0,0,0,0,0],\n",
    "           [1,0,0,0,0,0,0,1,0,0,0,0,0,0],\n",
    "           [0,0,0,0,0,1,0,0,0,0,0,0,0,0],\n",
    "           [0,0,0,0,0,0,0,1,0,1,0,0,0,0],\n",
    "           [0,0,0,0,0,1,0,0,0,0,1,1,1,1],\n",
    "           [0,0,0,0,0,0,0,0,0,1,0,1,0,0],\n",
    "           [0,0,0,0,0,0,0,0,0,1,0,0,1,0],\n",
    "           [0,0,0,0,0,0,0,0,0,1,0,0,0,1],\n",
    "           [0,0,0,0,0,0,0,0,0,1,1,0,0,0]])\n",
    "\n",
    "def norme(X):\n",
    "    norm = 0\n",
    "    for i in range(len(X)):\n",
    "        norm = norm + X[i]**2\n",
    "    return sqrt(norm)\n",
    "\n",
    "def puissance_iteree(e, M):\n",
    "    Xbis = []\n",
    "    for i in range(len(M)):\n",
    "        Xbis.append(rd.randint(0, 100))\n",
    "    while (True):\n",
    "        prevXbis = Xbis\n",
    "        Xbis = (M.dot(Xbis)) / norme(M.dot(Xbis))\n",
    "        if (norme(Xbis - prevXbis) < e):\n",
    "            break\n",
    "    return norme(M.dot(Xbis)),Xbis"
   ]
  },
  {
   "cell_type": "code",
   "execution_count": 151,
   "id": "4c79238f",
   "metadata": {},
   "outputs": [],
   "source": [
    "def nombreLinks(M, j):\n",
    "    count = 0\n",
    "    for i in range(len(M)):\n",
    "        count = count + M[i][j]\n",
    "    return count;\n",
    "\n",
    "def transitionMatrice(M, a):\n",
    "    P = M\n",
    "    N = len(P)\n",
    "    for i in range(N):\n",
    "        for j in range(N):\n",
    "            if (nombreLinks(M, j) != 0):\n",
    "                P[i][j] = a*M[i][j] + ((1 - a)/N)\n",
    "            else:\n",
    "                P[i][j] = 1/N\n",
    "    return P\n",
    "\n",
    "def pageRankMatrice(M):\n",
    "    Q = M\n",
    "    N = len(Q)\n",
    "    for i in range(N):\n",
    "        for j in range(N):\n",
    "            if (nombreLinks(M, j) != 0):\n",
    "                Q[i][j] = Q[i][j] / nombreLinks(M, j)\n",
    "            else:\n",
    "                Q[i][j] = 0\n",
    "    return Q"
   ]
  },
  {
   "cell_type": "code",
   "execution_count": 180,
   "id": "c5526e3b",
   "metadata": {},
   "outputs": [
    {
     "name": "stdout",
     "output_type": "stream",
     "text": [
      "\n",
      "valeur score A3: [0.26726124 0.26726124 0.26726124 0.26726124 0.26726124 0.26726124\n",
      " 0.26726124 0.26726124 0.26726124 0.26726124 0.26726124 0.26726124\n",
      " 0.26726124 0.26726124]\n",
      "\n",
      "valeur score A3*r - r: [0.00000000e+00 0.00000000e+00 5.55111512e-17 5.55111512e-17\n",
      " 5.55111512e-17 5.55111512e-17 5.55111512e-17 5.55111512e-17\n",
      " 5.55111512e-17 5.55111512e-17 5.55111512e-17 5.55111512e-17\n",
      " 0.00000000e+00 0.00000000e+00]\n",
      "\n",
      "valeur score A4: [0.26726124 0.26726124 0.26726124 0.26726124 0.26726124 0.26726124\n",
      " 0.26726124 0.26726124 0.26726124 0.26726124 0.26726124 0.26726124\n",
      " 0.26726124 0.26726124]\n",
      "\n",
      "valeur score A4*r - r: [-5.55111512e-17 -5.55111512e-17  0.00000000e+00  0.00000000e+00\n",
      "  0.00000000e+00  0.00000000e+00  0.00000000e+00  0.00000000e+00\n",
      "  0.00000000e+00  0.00000000e+00  0.00000000e+00  0.00000000e+00\n",
      "  5.55111512e-17  5.55111512e-17]\n",
      "\n",
      "valeur3: 0.9999999999999999\n",
      "valeur4: (0.9999999999999999, array([0.26726124, 0.26726124, 0.26726124, 0.26726124, 0.26726124,\n",
      "       0.26726124, 0.26726124, 0.26726124, 0.26726124, 0.26726124,\n",
      "       0.26726124, 0.26726124, 0.26726124, 0.26726124]))\n"
     ]
    },
    {
     "data": {
      "image/png": "[encoded data removed]",
      "text/plain": [
       "<Figure size 640x480 with 1 Axes>"
      ]
     },
     "metadata": {},
     "output_type": "display_data"
    }
   ],
   "source": [
    "A2 = pageRankMatrice(A)\n",
    "#print(A2)\n",
    "#print()\n",
    "\n",
    "A3 = transitionMatrice(A2, 0.85)\n",
    "print()\n",
    "r = puissance_iteree (10**-2, A3)[1]\n",
    "print(\"valeur score A3:\", r)\n",
    "print()\n",
    "print(\"valeur score A3*r - r:\", A3.dot(r) - r)\n",
    "print()\n",
    "\n",
    "A4 = transitionMatrice(A2, 0.5)\n",
    "r = puissance_iteree (10**-2, A4)[1]\n",
    "print(\"valeur score A4:\", r)\n",
    "print()\n",
    "print(\"valeur score A4*r - r:\", A4.dot(r) - r)\n",
    "print()\n",
    "\n",
    "A5 = transitionMatrice(A2,0.00)\n",
    "#print()\n",
    "print(\"valeur3:\",puissance_iteree (10**-5, A5)[0])\n",
    "#print()\n",
    "\n",
    "\n",
    "A6 = transitionMatrice(A2,0.3)\n",
    "#print()\n",
    "print(\"valeur4:\",puissance_iteree (10**-5, A6))\n",
    "#print()\n",
    "\n",
    "x = linspace(0,1.0,20)\n",
    "y = []\n",
    "for i in range(len(x)):\n",
    "    y.append(puissance_iteree (10**-5, transitionMatrice(A2, x[i]))[0])\n",
    "y = array(y)\n",
    "\n",
    "plt.yticks(arange(1 + 10**-15, (1 + 2*10**-15), 10**-17))\n",
    "\n",
    "plt.plot(x,y)\n",
    "plt.show()"
   ]
  },
  {
   "cell_type": "markdown",
   "id": "c81aae99",
   "metadata": {},
   "source": []
  },
  {
   "cell_type": "code",
   "execution_count": null,
   "id": "5e6a2909",
   "metadata": {},
   "outputs": [],
   "source": []
  }
 ],
 "metadata": {
  "kernelspec": {
   "display_name": "Python 3 (ipykernel)",
   "language": "python",
   "name": "python3"
  },
  "language_info": {
   "codemirror_mode": {
    "name": "ipython",
    "version": 3
   },
   "file_extension": ".py",
   "mimetype": "text/x-python",
   "name": "python",
   "nbconvert_exporter": "python",
   "pygments_lexer": "ipython3",
   "version": "3.11.1"
  }
 },
 "nbformat": 4,
 "nbformat_minor": 5
}
