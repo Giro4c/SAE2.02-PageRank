{
 "cells": [
  {
   "cell_type": "markdown",
   "id": "88b7364d",
   "metadata": {},
   "source": [
    "# Algo PageRank - iterative"
   ]
  },
  {
   "cell_type": "markdown",
   "id": "71a42a62",
   "metadata": {},
   "source": [
    "## Fonction nécessaires :"
   ]
  },
  {
   "cell_type": "code",
   "execution_count": 3,
   "id": "0e0fcdd5",
   "metadata": {},
   "outputs": [],
   "source": [
    "from numpy import *\n",
    "import random as rd\n",
    "\n",
    "def norme(X):\n",
    "    norm = 0\n",
    "    for i in range(len(X)):\n",
    "        norm = norm + X[i]**2\n",
    "    return sqrt(norm)\n",
    "\n",
    "def puissance_iteree(e, M):\n",
    "    Xbis = []\n",
    "    for i in range(len(M)):\n",
    "        Xbis.append(rd.randint(0, 100))\n",
    "    while (True):\n",
    "        prevXbis = Xbis\n",
    "        Xbis = (M.dot(Xbis)) / norme(M.dot(Xbis))\n",
    "        if (norme(Xbis - prevXbis) < e):\n",
    "            break\n",
    "    return norme(M.dot(Xbis)), Xbis\n",
    "\n",
    "def nombreLinks(M, j):\n",
    "    count = 0\n",
    "    for i in range(len(M)):\n",
    "        count = count + M[i][j]\n",
    "    return count;\n",
    "\n",
    "def pageRankMatrice(M):\n",
    "    Q = M\n",
    "    N = len(Q)\n",
    "    for i in range(N):\n",
    "        for j in range(N):\n",
    "            if (nombreLinks(M, j) != 0):\n",
    "                Q[i][j] = Q[i][j] / nombreLinks(M, j)\n",
    "            else:\n",
    "                Q[i][j] = 0\n",
    "    return Q\n",
    "\n",
    "def transitionMatrice(M, a):\n",
    "    P = M\n",
    "    N = len(P)\n",
    "    for i in range(N):\n",
    "        for j in range(N):\n",
    "            if (nombreLinks(M, j) != 0):\n",
    "                P[i][j] = a*M[i][j] + ((1 - a)/N)\n",
    "            else:\n",
    "                P[i][j] = 1/N\n",
    "    return P\n"
   ]
  },
  {
   "cell_type": "markdown",
   "id": "60d375f0",
   "metadata": {},
   "source": [
    "## Algorithme Complet"
   ]
  },
  {
   "cell_type": "code",
   "execution_count": 4,
   "id": "af0fb174",
   "metadata": {},
   "outputs": [],
   "source": [
    "def iterativePageRank(M, e, a):\n",
    "    M2 = pageRankMatrice(M)\n",
    "    M2 = transitionMatrice(M2, a)\n",
    "    return puissance_iteree(e, M2)"
   ]
  },
  {
   "cell_type": "markdown",
   "id": "012b9922",
   "metadata": {},
   "source": [
    "# Algo PageRank - direct"
   ]
  },
  {
   "cell_type": "code",
   "execution_count": 5,
   "id": "860b012d",
   "metadata": {},
   "outputs": [],
   "source": [
    "def directPageRank(M, e, a):\n",
    "    M2 = M\n",
    "    N = len(M2)\n",
    "    addTransi = (1.0 - a) / N\n",
    "    for i in range(N):\n",
    "        for j in range(N):\n",
    "            if (nombreLinks(M, j) != 0):\n",
    "                M2[i][j] = (M2[i][j] / nombreLinks(M, j)) + addTransi\n",
    "            else:\n",
    "                M2[i][j] = 1 / N\n",
    "    return puissance_iteree(e, M2)"
   ]
  },
  {
   "cell_type": "code",
   "execution_count": null,
   "id": "e5766ff1",
   "metadata": {},
   "outputs": [],
   "source": []
  }
 ],
 "metadata": {
  "kernelspec": {
   "display_name": "Python 3 (ipykernel)",
   "language": "python",
   "name": "python3"
  },
  "language_info": {
   "codemirror_mode": {
    "name": "ipython",
    "version": 3
   },
   "file_extension": ".py",
   "mimetype": "text/x-python",
   "name": "python",
   "nbconvert_exporter": "python",
   "pygments_lexer": "ipython3",
   "version": "3.9.12"
  }
 },
 "nbformat": 4,
 "nbformat_minor": 5
}
