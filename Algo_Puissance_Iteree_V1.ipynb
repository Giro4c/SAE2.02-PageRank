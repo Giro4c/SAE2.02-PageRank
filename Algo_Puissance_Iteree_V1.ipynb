{
 "cells": [
  {
   "cell_type": "markdown",
   "id": "170dcbb2",
   "metadata": {},
   "source": [
    "# Algorithme Puissance Itérée V1"
   ]
  },
  {
   "cell_type": "code",
   "execution_count": 1,
   "id": "175b143b",
   "metadata": {},
   "outputs": [],
   "source": [
    "from numpy import *\n",
    "import random as rd\n",
    "\n",
    "def norme(X):\n",
    "    norm = 0\n",
    "    for i in range(len(X)):\n",
    "        norm = norm + X[i]**2\n",
    "    return sqrt(norm)\n",
    "\n",
    "def puissance_iteree(e, M):\n",
    "    Xbis = []\n",
    "    for i in range(len(M)):\n",
    "        Xbis.append(rd.randint(0, 100))\n",
    "    #print(Xbis)\n",
    "    #count = 0\n",
    "    while (True):\n",
    "        #count = count + 1\n",
    "        prevXbis = Xbis\n",
    "        Xbis = (M.dot(Xbis)) / norme(M.dot(Xbis))\n",
    "        \n",
    "        #print(\"Count: \", count, \", \\nXbis = \", Xbis, \", \\nprevXbis = \", prevXbis)\n",
    "        \n",
    "        #if (count%50 == 0):\n",
    "            #print(\"Count : \", count, \", Ecart : \", norme(Xbis - prevXbis))\n",
    "        \n",
    "        if (norme(Xbis - prevXbis) < e):\n",
    "            #print(count)\n",
    "            #print(norme(Xbis - prevXbis))\n",
    "            break\n",
    "    return norme(M.dot(Xbis)), Xbis\n"
   ]
  },
  {
   "cell_type": "markdown",
   "id": "5d62a50f",
   "metadata": {},
   "source": [
    "## Version sans les commentaires"
   ]
  },
  {
   "cell_type": "code",
   "execution_count": null,
   "id": "1c1ce40e",
   "metadata": {},
   "outputs": [],
   "source": [
    "from numpy import *\n",
    "import random as rd\n",
    "\n",
    "def norme(X):\n",
    "    norm = 0\n",
    "    for i in range(len(X)):\n",
    "        norm = norm + X[i]**2\n",
    "    return sqrt(norm)\n",
    "\n",
    "def puissance_iteree(e, M):\n",
    "    Xbis = []\n",
    "    for i in range(len(M)):\n",
    "        Xbis.append(rd.randint(0, 100))\n",
    "    while (True):\n",
    "        prevXbis = Xbis\n",
    "        Xbis = (M.dot(Xbis)) / norme(M.dot(Xbis))\n",
    "        if (norme(Xbis - prevXbis) < e):\n",
    "            break\n",
    "    return norme(M.dot(Xbis)), Xbis\n"
   ]
  }
 ],
 "metadata": {
  "kernelspec": {
   "display_name": "Python 3 (ipykernel)",
   "language": "python",
   "name": "python3"
  },
  "language_info": {
   "codemirror_mode": {
    "name": "ipython",
    "version": 3
   },
   "file_extension": ".py",
   "mimetype": "text/x-python",
   "name": "python",
   "nbconvert_exporter": "python",
   "pygments_lexer": "ipython3",
   "version": "3.9.12"
  }
 },
 "nbformat": 4,
 "nbformat_minor": 5
}
