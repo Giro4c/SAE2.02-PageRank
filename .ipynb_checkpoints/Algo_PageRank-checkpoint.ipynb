{
 "cells": [
  {
   "cell_type": "markdown",
   "id": "05c58e7c",
   "metadata": {},
   "source": [
    "# Algo PageRank - iterative"
   ]
  },
  {
   "cell_type": "markdown",
   "id": "3b23dffa",
   "metadata": {},
   "source": [
    "## Fonction nécessaires :"
   ]
  },
  {
   "cell_type": "code",
   "execution_count": null,
   "id": "cdd3aaf3",
   "metadata": {},
   "outputs": [],
   "source": [
    "from numpy import *\n",
    "import random as rd\n",
    "\n",
    "def norme(X):\n",
    "    norm = 0\n",
    "    for i in range(len(X)):\n",
    "        norm = norm + X[i]**2\n",
    "    return sqrt(norm)\n",
    "\n",
    "def puissance_iteree(e, M):\n",
    "    Xbis = []\n",
    "    for i in range(len(M)):\n",
    "        Xbis.append(rd.randint(0, 100))\n",
    "    #print(Xbis)\n",
    "    #count = 0\n",
    "    while (True):\n",
    "        #count = count + 1\n",
    "        prevXbis = Xbis\n",
    "        Xbis = (M.dot(Xbis)) / norme(M.dot(Xbis))\n",
    "        \n",
    "        #print(\"Count: \", count, \", \\nXbis = \", Xbis, \", \\nprevXbis = \", prevXbis)\n",
    "        \n",
    "        #if (count%50 == 0):\n",
    "            #print(\"Count : \", count, \", Ecart : \", norme(Xbis - prevXbis))\n",
    "        \n",
    "        if (norme(Xbis - prevXbis) < e):\n",
    "            #print(count)\n",
    "            #print(norme(Xbis - prevXbis))\n",
    "            break\n",
    "    return norme(M.dot(Xbis)), Xbis\n",
    "\n",
    "def nombreLinks(M, j):\n",
    "    count = 0\n",
    "    for i in range(len(M)):\n",
    "        count = count + M[i][j]\n",
    "    return count;\n",
    "\n",
    "def pageRankMatrice(M):\n",
    "    Q = M\n",
    "    N = len(Q)\n",
    "    for i in range(N):\n",
    "        for j in range(N):\n",
    "            if (nombreLinks(M, j) != 0):\n",
    "                Q[i][j] = Q[i][j] / nombreLinks(M, j)\n",
    "            else:\n",
    "                Q[i][j] = 0\n",
    "    return Q\n",
    "\n",
    "def transitionMatrice(M, a):\n",
    "    P = M\n",
    "    N = len(P)\n",
    "    for i in range(N):\n",
    "        for j in range(N):\n",
    "            if (nombreLinks(M, j) != 0):\n",
    "                P[i][j] = a*M[i][j] + ((1 - a)/N)\n",
    "            else:\n",
    "                P[i][j] = 1/N\n",
    "    return P\n"
   ]
  },
  {
   "cell_type": "code",
   "execution_count": null,
   "id": "604f8af2",
   "metadata": {},
   "outputs": [],
   "source": [
    "def iterativePageRank(M, e, a):\n",
    "    M2 = pageRankMatrice(M)\n",
    "    M2 = transitionMatrice(M2, a)\n",
    "    return puissance_iteree(e, M2)"
   ]
  }
 ],
 "metadata": {
  "kernelspec": {
   "display_name": "Python 3 (ipykernel)",
   "language": "python",
   "name": "python3"
  },
  "language_info": {
   "codemirror_mode": {
    "name": "ipython",
    "version": 3
   },
   "file_extension": ".py",
   "mimetype": "text/x-python",
   "name": "python",
   "nbconvert_exporter": "python",
   "pygments_lexer": "ipython3",
   "version": "3.9.12"
  }
 },
 "nbformat": 4,
 "nbformat_minor": 5
}
