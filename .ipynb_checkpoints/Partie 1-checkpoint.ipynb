{
 "cells": [
  {
   "cell_type": "markdown",
   "id": "bcacf70a",
   "metadata": {},
   "source": [
    "# Partie 1 : PageRank - version itérative, premier exemple\n",
    "\n",
    "## Question 1\n",
    "\n",
    "Voici l'algorithme de la puissance itérée :"
   ]
  },
  {
   "cell_type": "code",
   "execution_count": 21,
   "id": "ec821fdd",
   "metadata": {},
   "outputs": [],
   "source": [
    "from numpy import *\n",
    "import random as rd\n",
    "\n",
    "def norme(X):\n",
    "    norm = 0\n",
    "    for i in range(len(X)):\n",
    "        norm = norm + X[i]**2\n",
    "    return sqrt(norm)\n",
    "\n",
    "def puissance_iteree(e, M):\n",
    "    Xbis = []\n",
    "    for i in range(len(M)):\n",
    "        Xbis.append(rd.randint(0, 100))\n",
    "    Xbis = array(Xbis)\n",
    "    while (True):\n",
    "        prevXbis = Xbis\n",
    "        Xbis = (M.dot(Xbis)) / norme(M.dot(Xbis))\n",
    "        if (norme(Xbis - prevXbis) < e):\n",
    "            break\n",
    "    return norme(M.dot(Xbis)), Xbis"
   ]
  },
  {
   "cell_type": "markdown",
   "id": "0e721596",
   "metadata": {},
   "source": [
    "Et voici l'algorithme de transformation en matrice PageRank :"
   ]
  },
  {
   "cell_type": "code",
   "execution_count": 22,
   "id": "3a546974",
   "metadata": {},
   "outputs": [],
   "source": [
    "def nombreLinks(M, j):\n",
    "    count = 0\n",
    "    for i in range(len(M)):\n",
    "        count = count + M[i][j]\n",
    "    return count;\n",
    "\n",
    "def pageRankMatrice(M):\n",
    "    Q = M\n",
    "    N = len(Q)\n",
    "    for i in range(N):\n",
    "        for j in range(N):\n",
    "            if (nombreLinks(M, j) != 0):\n",
    "                Q[i][j] = Q[i][j] / nombreLinks(M, j)\n",
    "            else:\n",
    "                Q[i][j] = 0\n",
    "    return Q"
   ]
  },
  {
   "cell_type": "markdown",
   "id": "e9cd7a29",
   "metadata": {},
   "source": [
    "L'algorithme de la puissance itérée permet de calculer la valeur propre la plus grande et le vecteur propre associé d'une matrice \"M\".  \n",
    "Ce vecteur propre \"v\" a la particularité d'être solution de l'équation :  \n",
    "    v = M v  \n",
    "  \n",
    "Or en regardant le principe de l'algorithme de PageRank et son explication en notations matricielles, on remarque que le principe est le même :  \n",
    "Le vecteur r des scores est solution de l'équation r = Q r  où Q est la matrice d'adjacence des scores.  \n",
    "\n",
    "## Question 2"
   ]
  },
  {
   "cell_type": "code",
   "execution_count": 23,
   "id": "46c37b91",
   "metadata": {},
   "outputs": [
    {
     "name": "stdout",
     "output_type": "stream",
     "text": [
      "Matrice PageRank obtenue :\n",
      "[[0.         0.5        0.5        0.5        0.5        0.33333333\n",
      "  0.         0.         0.         0.         0.         0.\n",
      "  0.         0.        ]\n",
      " [0.2        0.         0.66666667 0.         0.         0.\n",
      "  0.         0.         0.         0.         0.         0.\n",
      "  0.         0.        ]\n",
      " [0.23809524 0.         0.         0.66666667 0.         0.\n",
      "  0.         0.         0.         0.         0.         0.\n",
      "  0.         0.        ]\n",
      " [0.29085873 0.         0.         0.         0.66666667 0.\n",
      "  0.         0.         0.         0.         0.         0.\n",
      "  0.         0.        ]\n",
      " [0.36644077 0.66666667 0.         0.         0.         0.\n",
      "  0.         0.         0.         0.         0.         0.\n",
      "  0.         0.        ]\n",
      " [0.         0.         0.         0.         0.         0.\n",
      "  1.         0.33333333 1.         0.         0.         0.\n",
      "  0.         0.        ]\n",
      " [0.47723705 0.         0.         0.         0.         0.\n",
      "  0.         0.42857143 0.         0.         0.         0.\n",
      "  0.         0.        ]\n",
      " [0.         0.         0.         0.         0.         0.42857143\n",
      "  0.         0.         0.         0.         0.         0.\n",
      "  0.         0.        ]\n",
      " [0.         0.         0.         0.         0.         0.\n",
      "  0.         0.56756757 0.         0.2        0.         0.\n",
      "  0.         0.        ]\n",
      " [0.         0.         0.         0.         0.         0.56756757\n",
      "  0.         0.         0.         0.         0.5        0.5\n",
      "  0.5        0.5       ]\n",
      " [0.         0.         0.         0.         0.         0.\n",
      "  0.         0.         0.         0.23809524 0.         0.66666667\n",
      "  0.         0.        ]\n",
      " [0.         0.         0.         0.         0.         0.\n",
      "  0.         0.         0.         0.29085873 0.         0.\n",
      "  0.66666667 0.        ]\n",
      " [0.         0.         0.         0.         0.         0.\n",
      "  0.         0.         0.         0.36644077 0.         0.\n",
      "  0.         0.66666667]\n",
      " [0.         0.         0.         0.         0.         0.\n",
      "  0.         0.         0.         0.47723705 0.66666667 0.\n",
      "  0.         0.        ]]\n",
      "\n",
      "Valeur propre trouvée :\n",
      "1.2775159765178796\n",
      "\n",
      "Vecteur de scores trouvé :\n",
      "[0.14980163 0.05769971 0.0656234  0.07224669 0.07308218 0.17112393\n",
      " 0.0752221  0.05740818 0.12425243 0.63075605 0.29729867 0.34443741\n",
      " 0.38484703 0.39077232]\n"
     ]
    }
   ],
   "source": [
    "A = array([[0.0,1.0,1.0,1.0,1.0,1.0,0.0,0.0,0.0,0.0,0.0,0.0,0.0,0.0],\n",
    "[1.0,0.0,1.0,0.0,0.0,0.0,0.0,0.0,0.0,0.0,0.0,0.0,0.0,0.0],\n",
    "[1.0,0.0,0.0,1.0,0.0,0.0,0.0,0.0,0.0,0.0,0.0,0.0,0.0,0.0],\n",
    "[1.0,0.0,0.0,0.0,1.0,0.0,0.0,0.0,0.0,0.0,0.0,0.0,0.0,0.0],\n",
    "[1.0,1.0,0.0,0.0,0.0,0.0,0.0,0.0,0.0,0.0,0.0,0.0,0.0,0.0],\n",
    "[0,0,0,0,0,0,1,1,1,0,0,0,0,0],\n",
    "[1,0,0,0,0,0,0,1,0,0,0,0,0,0],\n",
    "[0,0,0,0,0,1,0,0,0,0,0,0,0,0],\n",
    "[0,0,0,0,0,0,0,1,0,1,0,0,0,0],\n",
    "[0,0,0,0,0,1,0,0,0,0,1,1,1,1],\n",
    "[0,0,0,0,0,0,0,0,0,1,0,1,0,0],\n",
    "[0,0,0,0,0,0,0,0,0,1,0,0,1,0],\n",
    "[0,0,0,0,0,0,0,0,0,1,0,0,0,1],\n",
    "[0,0,0,0,0,0,0,0,0,1,1,0,0,0]])\n",
    "\n",
    "# Application de l'algo transition 1 PageRank\n",
    "A2 = pageRankMatrice(A)\n",
    "#print(\"Matrice PageRank obtenue :\")\n",
    "#print(A2)\n",
    "print()\n",
    "print(\"Valeur propre trouvée :\")\n",
    "print(puissance_iteree(10**-5, A2)[0])\n",
    "print()\n",
    "print(\"Vecteur de scores trouvé :\")\n",
    "print(puissance_iteree(10**-5, A2)[1])"
   ]
  },
  {
   "cell_type": "markdown",
   "id": "b4ca7c07",
   "metadata": {},
   "source": [
    "Vérification du vecteur des scores :"
   ]
  },
  {
   "cell_type": "code",
   "execution_count": 29,
   "id": "fec5ed4c",
   "metadata": {},
   "outputs": [
    {
     "name": "stdout",
     "output_type": "stream",
     "text": [
      "1.277515719453403\n",
      "Norme de r : \n",
      "0.9999999999999999\n",
      "Valeur de r :\n",
      "[0.14980077 0.05769932 0.06562296 0.07224621 0.0730817  0.17112355\n",
      " 0.07522171 0.05740805 0.1242524  0.63075622 0.29729882 0.34443759\n",
      " 0.38484722 0.39077251]\n",
      "\n",
      "Norme de Ar :\n",
      "1.277515719453403\n",
      "Valeur de Ar :\n",
      "[0.19136627 0.07370879 0.08383099 0.09229199 0.09335932 0.21861013\n",
      " 0.09609393 0.07333866 0.15873419 0.80580225 0.37980511 0.44002576\n",
      " 0.4916498  0.49921945]\n",
      "\n",
      "Vérifications\n",
      "Norme de Ar - norme de r :\n",
      "0.27751571945340314\n",
      "Valeur de Ar - r :\n",
      "[0.0415655  0.01600948 0.01820803 0.02004578 0.02027762 0.04748658\n",
      " 0.02087222 0.01593061 0.03448179 0.17504603 0.08250629 0.09558818\n",
      " 0.10680258 0.10844694]\n"
     ]
    }
   ],
   "source": [
    "l,r = puissance_iteree(10**-5, A2)\n",
    "print(l)\n",
    "print(\"Norme de r : \")\n",
    "print(norme(r))\n",
    "print(\"Valeur de r :\")\n",
    "print(r)\n",
    "print()\n",
    "print(\"Norme de Ar :\")\n",
    "print(norme(A2.dot(r)))\n",
    "print(\"Valeur de Ar :\")\n",
    "print(A2.dot(r))\n",
    "print()\n",
    "print(\"Vérifications\")\n",
    "print(\"Norme de Ar - norme de r :\")\n",
    "print(norme(A2.dot(r)) - norme(r))\n",
    "print(\"Valeur de Ar - r :\")\n",
    "print(A2.dot(r) - r)\n"
   ]
  },
  {
   "cell_type": "markdown",
   "id": "8e015bf3",
   "metadata": {},
   "source": [
    "En tentant de faire la vérification numérique avec linalg.solve(A, r), la fonction renvoie une erreur LinAlgError de type Singular matrix.  \n",
    "  \n",
    "Nous avons donc réalisé la vérification manuellement en faisant la soustraction entre Ar et r.  \n",
    "Le résultat obtenu n'est pas celui attendu et la source de ce problème nous est inconnue.  \n",
    "  \n",
    "Il semblerait cependant que la hiérarchie des scores est malgrès tout correcte avec les pages 1 et 10 ayant les plus grands scores."
   ]
  },
  {
   "cell_type": "markdown",
   "id": "52fa921e",
   "metadata": {},
   "source": [
    "# Partie 2 : PageRank - version itérative, deuxième example\n",
    "## Question 1"
   ]
  },
  {
   "cell_type": "code",
   "execution_count": 42,
   "id": "dafd4207",
   "metadata": {},
   "outputs": [
    {
     "name": "stdout",
     "output_type": "stream",
     "text": [
      "Resultat des scores : \n"
     ]
    },
    {
     "name": "stderr",
     "output_type": "stream",
     "text": [
      "/tmp/ipykernel_4041/3589164236.py:17: RuntimeWarning: invalid value encountered in true_divide\n",
      "  Xbis = (M.dot(Xbis)) / norme(M.dot(Xbis))\n"
     ]
    },
    {
     "ename": "KeyboardInterrupt",
     "evalue": "",
     "output_type": "error",
     "traceback": [
      "\u001b[0;31m---------------------------------------------------------------------------\u001b[0m",
      "\u001b[0;31mKeyboardInterrupt\u001b[0m                         Traceback (most recent call last)",
      "Input \u001b[0;32mIn [42]\u001b[0m, in \u001b[0;36m<cell line: 8>\u001b[0;34m()\u001b[0m\n\u001b[1;32m      1\u001b[0m B \u001b[38;5;241m=\u001b[39m array([[\u001b[38;5;241m0\u001b[39m,\u001b[38;5;241m0\u001b[39m,\u001b[38;5;241m0\u001b[39m,\u001b[38;5;241m0\u001b[39m,\u001b[38;5;241m0\u001b[39m],\n\u001b[1;32m      2\u001b[0m [\u001b[38;5;241m1\u001b[39m,\u001b[38;5;241m0\u001b[39m,\u001b[38;5;241m0\u001b[39m,\u001b[38;5;241m0\u001b[39m,\u001b[38;5;241m0\u001b[39m],\n\u001b[1;32m      3\u001b[0m [\u001b[38;5;241m1\u001b[39m,\u001b[38;5;241m0\u001b[39m,\u001b[38;5;241m0\u001b[39m,\u001b[38;5;241m0\u001b[39m,\u001b[38;5;241m0\u001b[39m],\n\u001b[1;32m      4\u001b[0m [\u001b[38;5;241m1\u001b[39m,\u001b[38;5;241m1\u001b[39m,\u001b[38;5;241m1\u001b[39m,\u001b[38;5;241m0\u001b[39m,\u001b[38;5;241m0\u001b[39m],\n\u001b[1;32m      5\u001b[0m [\u001b[38;5;241m1\u001b[39m,\u001b[38;5;241m1\u001b[39m,\u001b[38;5;241m0\u001b[39m,\u001b[38;5;241m0\u001b[39m,\u001b[38;5;241m0\u001b[39m]])\n\u001b[1;32m      7\u001b[0m \u001b[38;5;28mprint\u001b[39m(\u001b[38;5;124m\"\u001b[39m\u001b[38;5;124mResultat des scores : \u001b[39m\u001b[38;5;124m\"\u001b[39m)\n\u001b[0;32m----> 8\u001b[0m \u001b[38;5;28mprint\u001b[39m(\u001b[43mpuissance_iteree\u001b[49m\u001b[43m(\u001b[49m\u001b[38;5;241;43m10\u001b[39;49m\u001b[38;5;241;43m*\u001b[39;49m\u001b[38;5;241;43m*\u001b[39;49m\u001b[38;5;241;43m-\u001b[39;49m\u001b[38;5;241;43m5\u001b[39;49m\u001b[43m,\u001b[49m\u001b[43m \u001b[49m\u001b[43mB\u001b[49m\u001b[43m)\u001b[49m[\u001b[38;5;241m1\u001b[39m])\n",
      "Input \u001b[0;32mIn [33]\u001b[0m, in \u001b[0;36mpuissance_iteree\u001b[0;34m(e, M)\u001b[0m\n\u001b[1;32m     16\u001b[0m     prevXbis \u001b[38;5;241m=\u001b[39m Xbis\n\u001b[1;32m     17\u001b[0m     Xbis \u001b[38;5;241m=\u001b[39m (M\u001b[38;5;241m.\u001b[39mdot(Xbis)) \u001b[38;5;241m/\u001b[39m norme(M\u001b[38;5;241m.\u001b[39mdot(Xbis))\n\u001b[0;32m---> 18\u001b[0m     \u001b[38;5;28;01mif\u001b[39;00m (\u001b[43mnorme\u001b[49m\u001b[43m(\u001b[49m\u001b[43mXbis\u001b[49m\u001b[43m \u001b[49m\u001b[38;5;241;43m-\u001b[39;49m\u001b[43m \u001b[49m\u001b[43mprevXbis\u001b[49m\u001b[43m)\u001b[49m \u001b[38;5;241m<\u001b[39m e):\n\u001b[1;32m     19\u001b[0m         \u001b[38;5;28;01mbreak\u001b[39;00m\n\u001b[1;32m     20\u001b[0m \u001b[38;5;28;01mreturn\u001b[39;00m norme(M\u001b[38;5;241m.\u001b[39mdot(Xbis)), Xbis\n",
      "Input \u001b[0;32mIn [33]\u001b[0m, in \u001b[0;36mnorme\u001b[0;34m(X)\u001b[0m\n\u001b[1;32m      6\u001b[0m \u001b[38;5;28;01mfor\u001b[39;00m i \u001b[38;5;129;01min\u001b[39;00m \u001b[38;5;28mrange\u001b[39m(\u001b[38;5;28mlen\u001b[39m(X)):\n\u001b[1;32m      7\u001b[0m     norm \u001b[38;5;241m=\u001b[39m norm \u001b[38;5;241m+\u001b[39m X[i]\u001b[38;5;241m*\u001b[39m\u001b[38;5;241m*\u001b[39m\u001b[38;5;241m2\u001b[39m\n\u001b[0;32m----> 8\u001b[0m \u001b[38;5;28;01mreturn\u001b[39;00m \u001b[43msqrt\u001b[49m\u001b[43m(\u001b[49m\u001b[43mnorm\u001b[49m\u001b[43m)\u001b[49m\n",
      "\u001b[0;31mKeyboardInterrupt\u001b[0m: "
     ]
    }
   ],
   "source": [
    "B = array([[0.0,0.0,0.0,0.0,0.0],\n",
    "[1.0,0.0,0.0,0.0,0.0],\n",
    "[1.0,0.0,0.0,0.0,0.0],\n",
    "[1.0,1.0,1.0,0.0,0.0],\n",
    "[1.0,1.0,0.0,0.0,0.0]])\n",
    "\n",
    "print(\"Resultat des scores : \")\n",
    "print(puissance_iteree(10**-5, B)[1])"
   ]
  },
  {
   "cell_type": "markdown",
   "id": "fabb8d15",
   "metadata": {},
   "source": [
    "En appliquant l'algorithme de la partie 1, on se retrouve avec une erreur. Il est donc probable que la matrice d'adjacence B ne puisse par être traitée par un algorithme de puissance itérée.  \n",
    "  \n",
    "On va définir un algorithme qui renvoie une matrice de transition pour palier à ce problème :  "
   ]
  },
  {
   "cell_type": "code",
   "execution_count": 43,
   "id": "866f5ec2",
   "metadata": {},
   "outputs": [],
   "source": [
    "def nombreLinks(M, j):\n",
    "    count = 0\n",
    "    for i in range(len(M)):\n",
    "        count = count + M[j][i]\n",
    "    return count;\n",
    "\n",
    "def transitionMatrice(M, a):\n",
    "    P = M\n",
    "    N = len(P)\n",
    "    for i in range(N):\n",
    "        for j in range(N):\n",
    "            if (nombreLinks(M, j) != 0):\n",
    "                P[i][j] = a*M[i][j] + ((1 - a)/N)\n",
    "            else:\n",
    "                P[i][j] = 1/N\n",
    "    return P\n"
   ]
  },
  {
   "cell_type": "markdown",
   "id": "fbd0995b",
   "metadata": {},
   "source": [
    "## Question 2\n"
   ]
  },
  {
   "cell_type": "code",
   "execution_count": 44,
   "id": "a17f4870",
   "metadata": {},
   "outputs": [
    {
     "name": "stdout",
     "output_type": "stream",
     "text": [
      "Matrice de transition pour B :\n",
      "[[0 0 0 0 0]\n",
      " [0 0 0 0 0]\n",
      " [0 0 0 0 0]\n",
      " [0 0 0 0 0]\n",
      " [0 0 0 0 0]]\n",
      "\n",
      "Vecteur score de la matrice transition :\n"
     ]
    },
    {
     "name": "stderr",
     "output_type": "stream",
     "text": [
      "/tmp/ipykernel_4041/3589164236.py:17: RuntimeWarning: invalid value encountered in true_divide\n",
      "  Xbis = (M.dot(Xbis)) / norme(M.dot(Xbis))\n"
     ]
    },
    {
     "ename": "KeyboardInterrupt",
     "evalue": "",
     "output_type": "error",
     "traceback": [
      "\u001b[0;31m---------------------------------------------------------------------------\u001b[0m",
      "\u001b[0;31mKeyboardInterrupt\u001b[0m                         Traceback (most recent call last)",
      "Input \u001b[0;32mIn [44]\u001b[0m, in \u001b[0;36m<cell line: 7>\u001b[0;34m()\u001b[0m\n\u001b[1;32m      5\u001b[0m \u001b[38;5;28mprint\u001b[39m()\n\u001b[1;32m      6\u001b[0m \u001b[38;5;28mprint\u001b[39m(\u001b[38;5;124m\"\u001b[39m\u001b[38;5;124mVecteur score de la matrice transition :\u001b[39m\u001b[38;5;124m\"\u001b[39m)\n\u001b[0;32m----> 7\u001b[0m r2 \u001b[38;5;241m=\u001b[39m \u001b[43mpuissance_iteree\u001b[49m\u001b[43m(\u001b[49m\u001b[38;5;241;43m10\u001b[39;49m\u001b[38;5;241;43m*\u001b[39;49m\u001b[38;5;241;43m*\u001b[39;49m\u001b[38;5;241;43m-\u001b[39;49m\u001b[38;5;241;43m5\u001b[39;49m\u001b[43m,\u001b[49m\u001b[43m \u001b[49m\u001b[43mT\u001b[49m\u001b[43m)\u001b[49m[\u001b[38;5;241m1\u001b[39m]\n\u001b[1;32m      8\u001b[0m \u001b[38;5;28mprint\u001b[39m(r2)\n\u001b[1;32m     10\u001b[0m \u001b[38;5;28mprint\u001b[39m(\u001b[38;5;124m\"\u001b[39m\u001b[38;5;124mSolution equation TX = r2 :\u001b[39m\u001b[38;5;124m\"\u001b[39m)\n",
      "Input \u001b[0;32mIn [33]\u001b[0m, in \u001b[0;36mpuissance_iteree\u001b[0;34m(e, M)\u001b[0m\n\u001b[1;32m     15\u001b[0m \u001b[38;5;28;01mwhile\u001b[39;00m (\u001b[38;5;28;01mTrue\u001b[39;00m):\n\u001b[1;32m     16\u001b[0m     prevXbis \u001b[38;5;241m=\u001b[39m Xbis\n\u001b[0;32m---> 17\u001b[0m     Xbis \u001b[38;5;241m=\u001b[39m \u001b[43m(\u001b[49m\u001b[43mM\u001b[49m\u001b[38;5;241;43m.\u001b[39;49m\u001b[43mdot\u001b[49m\u001b[43m(\u001b[49m\u001b[43mXbis\u001b[49m\u001b[43m)\u001b[49m\u001b[43m)\u001b[49m\u001b[43m \u001b[49m\u001b[38;5;241;43m/\u001b[39;49m\u001b[43m \u001b[49m\u001b[43mnorme\u001b[49m\u001b[43m(\u001b[49m\u001b[43mM\u001b[49m\u001b[38;5;241;43m.\u001b[39;49m\u001b[43mdot\u001b[49m\u001b[43m(\u001b[49m\u001b[43mXbis\u001b[49m\u001b[43m)\u001b[49m\u001b[43m)\u001b[49m\n\u001b[1;32m     18\u001b[0m     \u001b[38;5;28;01mif\u001b[39;00m (norme(Xbis \u001b[38;5;241m-\u001b[39m prevXbis) \u001b[38;5;241m<\u001b[39m e):\n\u001b[1;32m     19\u001b[0m         \u001b[38;5;28;01mbreak\u001b[39;00m\n",
      "\u001b[0;31mKeyboardInterrupt\u001b[0m: "
     ]
    }
   ],
   "source": [
    "T = transitionMatrice(B, 0.85)\n",
    "\n",
    "print(\"Matrice de transition pour B :\")\n",
    "print(T)\n",
    "print()\n",
    "print(\"Vecteur score de la matrice transition :\")\n",
    "r2 = puissance_iteree(10**-5, T)[1]\n",
    "print(r2)\n",
    "\n",
    "print(\"Solution equation TX = r2 :\")\n",
    "X = linalg.solve(T, r2)\n",
    "print(X)\n",
    "\n",
    "print(\"Verification TX - r2 = :\")\n",
    "print(T.dot(r2) - r2)"
   ]
  },
  {
   "cell_type": "code",
   "execution_count": null,
   "id": "6db5e821",
   "metadata": {},
   "outputs": [],
   "source": []
  }
 ],
 "metadata": {
  "kernelspec": {
   "display_name": "Python 3 (ipykernel)",
   "language": "python",
   "name": "python3"
  },
  "language_info": {
   "codemirror_mode": {
    "name": "ipython",
    "version": 3
   },
   "file_extension": ".py",
   "mimetype": "text/x-python",
   "name": "python",
   "nbconvert_exporter": "python",
   "pygments_lexer": "ipython3",
   "version": "3.9.12"
  }
 },
 "nbformat": 4,
 "nbformat_minor": 5
}
