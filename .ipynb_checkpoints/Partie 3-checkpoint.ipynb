{
 "cells": [
  {
   "cell_type": "markdown",
   "id": "00f7db48",
   "metadata": {},
   "source": [
    "# Partie 3 : PageRank - version itérative, analyse"
   ]
  },
  {
   "cell_type": "markdown",
   "id": "629774ce",
   "metadata": {},
   "source": [
    "## Question 1"
   ]
  },
  {
   "cell_type": "code",
   "execution_count": 1,
   "id": "43ff2f7c",
   "metadata": {},
   "outputs": [],
   "source": [
    "\n",
    "from numpy import *\n",
    "import random as rd\n",
    "import matplotlib.pyplot as plt\n",
    "A = array([[0.0,1.0,1,1,1,1,0,0,0,0,0,0,0,0],\n",
    "           [1,0,1,0,0,0,0,0,0,0,0,0,0,0],\n",
    "           [1,0,0,1,0,0,0,0,0,0,0,0,0,0],\n",
    "           [1,0,0,0,1,0,0,0,0,0,0,0,0,0],\n",
    "           [1,1,0,0,0,0,0,0,0,0,0,0,0,0],\n",
    "           [0,0,0,0,0,0,1,1,1,0,0,0,0,0],\n",
    "           [1,0,0,0,0,0,0,1,0,0,0,0,0,0],\n",
    "           [0,0,0,0,0,1,0,0,0,0,0,0,0,0],\n",
    "           [0,0,0,0,0,0,0,1,0,1,0,0,0,0],\n",
    "           [0,0,0,0,0,1,0,0,0,0,1,1,1,1],\n",
    "           [0,0,0,0,0,0,0,0,0,1,0,1,0,0],\n",
    "           [0,0,0,0,0,0,0,0,0,1,0,0,1,0],\n",
    "           [0,0,0,0,0,0,0,0,0,1,0,0,0,1],\n",
    "           [0,0,0,0,0,0,0,0,0,1,1,0,0,0]])\n",
    "\n",
    "def norme(X):\n",
    "    norm = 0\n",
    "    for i in range(len(X)):\n",
    "        norm = norm + X[i]**2\n",
    "    return sqrt(norm)\n",
    "\n",
    "def puissance_iteree(e, M):\n",
    "    Xbis = []\n",
    "    for i in range(len(M)):\n",
    "        Xbis.append(rd.randint(0, 100))\n",
    "    while (True):\n",
    "        prevXbis = Xbis\n",
    "        Xbis = (M.dot(Xbis)) / norme(M.dot(Xbis))\n",
    "        if (norme(Xbis - prevXbis) < e):\n",
    "            break\n",
    "    return norme(M.dot(Xbis)),Xbis"
   ]
  },
  {
   "cell_type": "code",
   "execution_count": 2,
   "id": "4c79238f",
   "metadata": {},
   "outputs": [],
   "source": [
    "def nombreLinks(M, j):\n",
    "    count = 0\n",
    "    for i in range(len(M)):\n",
    "        count = count + M[i][j]\n",
    "    return count;\n",
    "\n",
    "def transitionMatrice(M, a):\n",
    "    P = M\n",
    "    N = len(P)\n",
    "    for i in range(N):\n",
    "        for j in range(N):\n",
    "            if (nombreLinks(M, j) != 0):\n",
    "                P[i][j] = a*M[i][j] + ((1 - a)/N)\n",
    "            else:\n",
    "                P[i][j] = 1/N\n",
    "    return P\n",
    "\n",
    "def pageRankMatrice(M):\n",
    "    Q = M\n",
    "    N = len(Q)\n",
    "    for i in range(N):\n",
    "        for j in range(N):\n",
    "            if (nombreLinks(M, j) != 0):\n",
    "                Q[i][j] = Q[i][j] / nombreLinks(M, j)\n",
    "            else:\n",
    "                Q[i][j] = 0\n",
    "    return Q"
   ]
  },
  {
   "cell_type": "code",
   "execution_count": 3,
   "id": "c5526e3b",
   "metadata": {},
   "outputs": [
    {
     "name": "stdout",
     "output_type": "stream",
     "text": [
      "\n",
      "valeur score A3: 1.2316850414061273 [0.32716301 0.15127593 0.16596894 0.17920962 0.18209528 0.27500513\n",
      " 0.17037039 0.11109695 0.14796502 0.5411434  0.24901605 0.28330369\n",
      " 0.31500156 0.32254812]\n",
      "\n",
      "valeur score A3*r - r: [0.07579408 0.03504617 0.03845006 0.04151751 0.04218605 0.06371275\n",
      " 0.03947012 0.02573881 0.03428145 0.12537782 0.05769514 0.06563935\n",
      " 0.07298348 0.07473192]\n",
      "\n",
      "valeur score A4: 1.1078457743884704 [0.35558231 0.2211968  0.22856038 0.23703295 0.2420181  0.32815738\n",
      " 0.2317019  0.18941222 0.20746522 0.40097137 0.2352164  0.24685514\n",
      " 0.26062873 0.26902516]\n",
      "\n",
      "valeur score A4*r - r: [0.03834618 0.02385425 0.02464827 0.02556192 0.02609953 0.03538981\n",
      " 0.0249872  0.02042707 0.02237442 0.04324494 0.02536815 0.0266235\n",
      " 0.02810905 0.02901458]\n",
      "\n"
     ]
    }
   ],
   "source": [
    "A2 = pageRankMatrice(A)\n",
    "#print(A2)\n",
    "#print()\n",
    "\n",
    "A3 = transitionMatrice(A2, 0.85)\n",
    "print()\n",
    "l, r = puissance_iteree (10**-5, A3)\n",
    "print(\"valeur score A3:\", l,r)\n",
    "print()\n",
    "print(\"valeur score A3*r - r:\", A3.dot(r) - r)\n",
    "print()\n",
    "\n",
    "A4 = transitionMatrice(A2, 0.5)\n",
    "l, r = puissance_iteree (10**-5, A4)\n",
    "print(\"valeur score A4:\", l,r)\n",
    "print()\n",
    "print(\"valeur score A4*r - r:\", A4.dot(r) - r)\n",
    "print()\n",
    "\n",
    "A5 = transitionMatrice(A2,0.00)\n",
    "#print()\n",
    "#print(\"valeur3:\",puissance_iteree (10**-5, A5)[0])\n",
    "#print()\n",
    "\n",
    "\n",
    "A6 = transitionMatrice(A2,0.3)\n",
    "#print()\n",
    "#print(\"valeur4:\",puissance_iteree (10**-5, A6))\n",
    "#print()\n"
   ]
  },
  {
   "cell_type": "markdown",
   "id": "c81aae99",
   "metadata": {},
   "source": [
    " Analyser l’influence du critere d’arrêt dans l’algorithme de la puissance itérée la valeur comparer a la partie 1 ne sera pas la meme est sera plus précise.\n",
    " Donc l'influence du critére est tres influent."
   ]
  },
  {
   "cell_type": "markdown",
   "id": "be7fe157",
   "metadata": {},
   "source": [
    "## Question 2"
   ]
  },
  {
   "cell_type": "code",
   "execution_count": 212,
   "id": "cacdb676",
   "metadata": {},
   "outputs": [],
   "source": [
    "A1 = array([[0.0,1.0,1,1,1,1,0,0,0,0,0,0,0,0],#1\n",
    "           [1,0,1,0,0,0,0,0,0,0,0,0,0,0],#2\n",
    "           [1,0,0,1,0,0,0,0,0,0,0,0,0,0],#3\n",
    "           [1,0,0,0,1,0,0,1,0,0,0,0,0,0],#4\n",
    "           [1,1,0,1,1,0,1,0,1,1,1,0,0,0],#5 HUB\n",
    "           [0,0,0,0,0,0,1,1,1,0,0,0,0,0],#6\n",
    "           [1,0,0,0,0,0,0,1,0,0,0,0,0,0],#7\n",
    "           [0,0,0,0,0,1,0,0,0,0,0,0,0,0],#8 AUTORITE\n",
    "           [0,0,0,0,0,0,0,1,0,1,0,0,0,0],#9\n",
    "           [0,0,0,0,0,1,0,0,0,0,1,1,1,1],#10\n",
    "           [0,0,0,0,0,0,0,1,0,1,0,1,0,0],#11\n",
    "           [0,0,0,0,0,0,0,0,0,1,0,0,1,0],#12\n",
    "           [0,0,0,0,0,0,0,0,0,1,0,0,0,1],#13 \n",
    "           [0,0,0,0,0,0,0,0,0,1,1,0,0,0]])#14"
   ]
  },
  {
   "cell_type": "code",
   "execution_count": 213,
   "id": "f6495c33",
   "metadata": {},
   "outputs": [
    {
     "name": "stdout",
     "output_type": "stream",
     "text": [
      "\n",
      "valeur score A3: 1.2897080737446551 [0.3812653  0.1504651  0.17079692 0.30377624 0.69776575 0.13750451\n",
      " 0.1573542  0.06400528 0.07546369 0.273116   0.1504444  0.14534631\n",
      " 0.15938917 0.16264313]\n",
      "\n",
      "valeur score A3*r - r: [0.11045808 0.04359209 0.04948243 0.08800811 0.20215075 0.03983624\n",
      " 0.04558783 0.01854283 0.02186149 0.07911846 0.04358198 0.04210464\n",
      " 0.04617271 0.0471155 ]\n",
      "\n"
     ]
    }
   ],
   "source": [
    "A2 = pageRankMatrice(A1)\n",
    "#print(A2)\n",
    "#print()\n",
    "\n",
    "A3 = transitionMatrice(A2, 0.85)\n",
    "print()\n",
    "l, r = puissance_iteree (10**-5, A3)\n",
    "print(\"valeur score A3:\", l,r)\n",
    "print()\n",
    "print(\"valeur score A3*r - r:\", A3.dot(r) - r)\n",
    "print()\n",
    "\n"
   ]
  },
  {
   "cell_type": "markdown",
   "id": "2eba5eff",
   "metadata": {},
   "source": [
    "Pour certains score leurs valeur on diminué comparé a d autre qui on augmenté mais l'on peut voir que se qui on etait change sur la matrice dont 8 qui a eu son autorité augmenté sont score a dmininué.\n",
    "\n",
    "Alors que le score de 5 qui est lu devenue un HUB lui a augmenté conciderablement donc les valeur on bien change compare a la matrice d'avant accause de l'autorité et du hub qui a etait mis."
   ]
  },
  {
   "cell_type": "markdown",
   "id": "27face01",
   "metadata": {},
   "source": [
    "## Question 3"
   ]
  },
  {
   "cell_type": "markdown",
   "id": "5f81055e",
   "metadata": {},
   "source": [
    "Pour augmenter le score de certaine pages il faudrait que on augmente le HUB et qu'il y est moin d'autorité car avec sa le score augmentera exemple si j'ajoute plus de lien sortant au 5 sont score augmentera.\n",
    "\n",
    "On pourra le voir dessous ou avec la matrice A8 j'ai ajouté plein de lien sortant dans des ligne et les scores sont bien remonté comparé a la question 2 "
   ]
  },
  {
   "cell_type": "code",
   "execution_count": 220,
   "id": "a1a108d7",
   "metadata": {},
   "outputs": [],
   "source": [
    "A8 = array([[0.0,1.0,1,1,1,1,0,0,0,0,0,0,0,0],#1\n",
    "           [1,0,1,1,1,0,0,1,0,0,1,0,1,0],#2 HUB\n",
    "           [1,1,0,1,0,1,0,1,0,0,1,0,1,1],#3 HUB \n",
    "           [1,0,0,0,1,0,0,1,0,0,0,0,0,0],#4\n",
    "           [1,1,0,1,1,0,1,0,1,1,1,0,0,0],#5 HUB\n",
    "           [0,0,0,0,0,0,1,1,1,0,0,0,0,0],#6\n",
    "           [1,0,0,0,0,0,0,1,0,0,0,0,0,0],#7\n",
    "           [0,0,0,0,0,1,0,0,0,0,0,0,0,0],#8 AUTORITE\n",
    "           [0,0,0,0,0,0,0,1,0,1,0,0,0,0],#9\n",
    "           [0,0,0,0,0,1,0,0,0,0,1,1,1,1],#10\n",
    "           [0,0,0,0,0,0,0,1,0,1,0,1,0,0],#11\n",
    "           [0,0,0,0,0,0,0,0,0,1,0,0,1,0],#12\n",
    "           [0,1,0,1,0,1,0,1,0,1,0,1,0,1],#13 HUB\n",
    "           [1,1,0,1,0,0,0,0,1,1,1,0,1,0]])#14 HUB"
   ]
  },
  {
   "cell_type": "code",
   "execution_count": 221,
   "id": "23a2375e",
   "metadata": {},
   "outputs": [
    {
     "name": "stdout",
     "output_type": "stream",
     "text": [
      "\n",
      "valeur score A3: 1.0147782963964886 [0.26585505 0.27017055 0.27009634 0.2615779  0.27620503 0.26517094\n",
      " 0.25975988 0.25764723 0.25890059 0.26963282 0.26296417 0.26061852\n",
      " 0.2797705  0.28180974]\n",
      "\n",
      "valeur score A3*r - r: [0.00392886 0.00399265 0.00399156 0.00386565 0.0040818  0.00391876\n",
      " 0.0038388  0.00380758 0.00382612 0.00398474 0.00388619 0.00385153\n",
      " 0.00413454 0.0041647 ]\n",
      "\n"
     ]
    }
   ],
   "source": [
    "A2 = pageRankMatrice(A8)\n",
    "#print(A2)\n",
    "#print()\n",
    "\n",
    "A3 = transitionMatrice(A2, 0.03)\n",
    "print()\n",
    "l, r = puissance_iteree (10**-5, A3)\n",
    "print(\"valeur score A3:\", l,r)\n",
    "print()\n",
    "print(\"valeur score A3*r - r:\", A3.dot(r) - r)\n",
    "print()\n"
   ]
  },
  {
   "cell_type": "markdown",
   "id": "2942850e",
   "metadata": {},
   "source": [
    "## Question 4"
   ]
  },
  {
   "cell_type": "code",
   "execution_count": 216,
   "id": "d0362aa2",
   "metadata": {},
   "outputs": [
    {
     "name": "stdout",
     "output_type": "stream",
     "text": [
      "\n",
      "valeur score A3: 1.0021109398217114 [0.27089392 0.26466682 0.26316873 0.26455367 0.28105443 0.26904717\n",
      " 0.26383491 0.26214315 0.26252676 0.27453194 0.26766095 0.26535351\n",
      " 0.26581205 0.26573798]\n",
      "\n",
      "valeur score A3*r - r: [0.00057185 0.0005587  0.00055554 0.00055845 0.00059331 0.00056796\n",
      " 0.00055694 0.00055337 0.00055417 0.00057951 0.000565   0.00056015\n",
      " 0.0005611  0.00056095]\n",
      "\n"
     ]
    }
   ],
   "source": [
    "A2 = pageRankMatrice(A1)\n",
    "#print(A2)\n",
    "#print()\n",
    "\n",
    "A3 = transitionMatrice(A2, 0.03)\n",
    "print()\n",
    "l, r = puissance_iteree (10**-5, A3)\n",
    "print(\"valeur score A3:\", l,r)\n",
    "print()\n",
    "print(\"valeur score A3*r - r:\", A3.dot(r) - r)\n",
    "print()\n",
    "\n"
   ]
  },
  {
   "cell_type": "markdown",
   "id": "d62ee6cf",
   "metadata": {},
   "source": [
    "En changeant le facteur d'amortissement α les score qui on monté et se qui on baissé se restabilise."
   ]
  }
 ],
 "metadata": {
  "kernelspec": {
   "display_name": "Python 3 (ipykernel)",
   "language": "python",
   "name": "python3"
  },
  "language_info": {
   "codemirror_mode": {
    "name": "ipython",
    "version": 3
   },
   "file_extension": ".py",
   "mimetype": "text/x-python",
   "name": "python",
   "nbconvert_exporter": "python",
   "pygments_lexer": "ipython3",
   "version": "3.11.1"
  }
 },
 "nbformat": 4,
 "nbformat_minor": 5
}
