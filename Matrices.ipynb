{
 "cells": [
  {
   "cell_type": "code",
   "execution_count": 1,
   "id": "f866305c",
   "metadata": {},
   "outputs": [
    {
     "ename": "FileNotFoundError",
     "evalue": "[Errno 2] No such file or directory: 'Ville_Matrice.npy'",
     "output_type": "error",
     "traceback": [
      "\u001b[0;31m---------------------------------------------------------------------------\u001b[0m",
      "\u001b[0;31mFileNotFoundError\u001b[0m                         Traceback (most recent call last)",
      "Input \u001b[0;32mIn [1]\u001b[0m, in \u001b[0;36m<cell line: 2>\u001b[0;34m()\u001b[0m\n\u001b[1;32m      1\u001b[0m \u001b[38;5;28;01mimport\u001b[39;00m \u001b[38;5;21;01mnumpy\u001b[39;00m \u001b[38;5;28;01mas\u001b[39;00m \u001b[38;5;21;01mnp\u001b[39;00m\n\u001b[0;32m----> 2\u001b[0m M \u001b[38;5;241m=\u001b[39m \u001b[43mnp\u001b[49m\u001b[38;5;241;43m.\u001b[39;49m\u001b[43mload\u001b[49m\u001b[43m(\u001b[49m\u001b[38;5;124;43m\"\u001b[39;49m\u001b[38;5;124;43mVille_Matrice.npy\u001b[39;49m\u001b[38;5;124;43m\"\u001b[39;49m\u001b[43m)\u001b[49m\n",
      "File \u001b[0;32m/opt/anaconda3/lib/python3.9/site-packages/numpy/lib/npyio.py:417\u001b[0m, in \u001b[0;36mload\u001b[0;34m(file, mmap_mode, allow_pickle, fix_imports, encoding)\u001b[0m\n\u001b[1;32m    415\u001b[0m     own_fid \u001b[38;5;241m=\u001b[39m \u001b[38;5;28;01mFalse\u001b[39;00m\n\u001b[1;32m    416\u001b[0m \u001b[38;5;28;01melse\u001b[39;00m:\n\u001b[0;32m--> 417\u001b[0m     fid \u001b[38;5;241m=\u001b[39m stack\u001b[38;5;241m.\u001b[39menter_context(\u001b[38;5;28;43mopen\u001b[39;49m\u001b[43m(\u001b[49m\u001b[43mos_fspath\u001b[49m\u001b[43m(\u001b[49m\u001b[43mfile\u001b[49m\u001b[43m)\u001b[49m\u001b[43m,\u001b[49m\u001b[43m \u001b[49m\u001b[38;5;124;43m\"\u001b[39;49m\u001b[38;5;124;43mrb\u001b[39;49m\u001b[38;5;124;43m\"\u001b[39;49m\u001b[43m)\u001b[49m)\n\u001b[1;32m    418\u001b[0m     own_fid \u001b[38;5;241m=\u001b[39m \u001b[38;5;28;01mTrue\u001b[39;00m\n\u001b[1;32m    420\u001b[0m \u001b[38;5;66;03m# Code to distinguish from NumPy binary files and pickles.\u001b[39;00m\n",
      "\u001b[0;31mFileNotFoundError\u001b[0m: [Errno 2] No such file or directory: 'Ville_Matrice.npy'"
     ]
    }
   ],
   "source": [
    "\n",
    "import numpy as np\n",
    "M = np.load(\"Ville_Matrice.npy\")"
   ]
  },
  {
   "cell_type": "code",
   "execution_count": null,
   "id": "ab11314f",
   "metadata": {},
   "outputs": [],
   "source": [
    "#Partie 1 :\n",
    "[1,1,1,1,1,1,0,0,0,0,0,0,0,0]\n",
    "[1,1,1,0,0,0,0,0,0,0,0,0,0,0]\n",
    "[1,0,1,1,0,0,0,0,0,0,0,0,0,0]\n",
    "[1,0,0,1,1,0,0,0,0,0,0,0,0,0]\n",
    "[1,1,0,0,1,0,0,0,0,0,0,0,0,0]\n",
    "[0,0,0,0,0,1,1,1,1,0,0,0,0,0]\n",
    "[1,0,0,0,0,0,1,1,0,0,0,0,0,0]\n",
    "[0,0,0,0,0,1,0,1,0,0,0,0,0,0]\n",
    "[0,0,0,0,0,0,0,1,1,1,0,0,0,0]\n",
    "[0,0,0,0,0,1,0,0,0,1,1,1,1,1]\n",
    "[0,0,0,0,0,0,0,0,0,1,1,1,0,0]\n",
    "[0,0,0,0,0,0,0,0,0,1,0,1,1,0]\n",
    "[0,0,0,0,0,0,0,0,0,1,0,0,1,1]\n",
    "[0,0,0,0,0,0,0,0,0,1,1,0,0,1]\n",
    "\n",
    "#Partie 2 :\n",
    "\n",
    "[1,0,0,0,0]\n",
    "[1,1,0,0,0]\n",
    "[1,0,1,0,0]\n",
    "[1,1,1,1,0]\n",
    "[1,1,0,0,1]"
   ]
  }
 ],
 "metadata": {
  "kernelspec": {
   "display_name": "Python 3 (ipykernel)",
   "language": "python",
   "name": "python3"
  },
  "language_info": {
   "codemirror_mode": {
    "name": "ipython",
    "version": 3
   },
   "file_extension": ".py",
   "mimetype": "text/x-python",
   "name": "python",
   "nbconvert_exporter": "python",
   "pygments_lexer": "ipython3",
   "version": "3.9.12"
  }
 },
 "nbformat": 4,
 "nbformat_minor": 5
}
